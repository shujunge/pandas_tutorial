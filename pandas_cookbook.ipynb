{
 "cells": [
  {
   "cell_type": "markdown",
   "metadata": {},
   "source": [
    "# pandas cookbook"
   ]
  },
  {
   "cell_type": "code",
   "execution_count": 1,
   "metadata": {},
   "outputs": [],
   "source": [
    "import pandas as pd\n",
    "import numpy as np"
   ]
  },
  {
   "cell_type": "markdown",
   "metadata": {},
   "source": [
    "## 基本操作"
   ]
  },
  {
   "cell_type": "markdown",
   "metadata": {},
   "source": [
    "### 查看基本数据\n",
    "\n",
    "*  Sum of values in a data frame\n",
    "\n",
    "df.sum()\n",
    "\n",
    "* Lowest value of a data frame\n",
    "\n",
    "df.min()\n",
    "\n",
    "*  Highest value\n",
    "\n",
    "df.max()\n",
    "\n",
    "* Index of the lowest value\n",
    "\n",
    "df.idxmin()\n",
    "\n",
    "* Index of the highest value\n",
    "\n",
    "df.idxmax()\n",
    "\n",
    "*  Statistical summary of the data frame, with quartiles, median, etc.\n",
    "\n",
    "df.describe()\n",
    "\n",
    "* Average values\n",
    "\n",
    "df.mean()\n",
    "\n",
    "* Median values\n",
    "\n",
    "df.median()\n",
    "\n",
    "* Correlation between columns\n",
    "\n",
    "df.corr()\n",
    "\n",
    "*  To get these values for only one column, just select it like this#\n",
    "\n",
    "df[\"size\"].median()"
   ]
  },
  {
   "cell_type": "code",
   "execution_count": 14,
   "metadata": {},
   "outputs": [
    {
     "name": "stdout",
     "output_type": "stream",
     "text": [
      "(6, 3)\n",
      "A    int64\n",
      "B    int64\n",
      "C    int64\n",
      "dtype: object\n",
      "[0, 1, 2, 3, 4, 5]\n",
      "['A', 'B', 'C']\n",
      "              A         B        C\n",
      "count  6.000000  6.000000  6.00000\n",
      "mean   5.666667  3.166667  4.00000\n",
      "std    2.338090  3.125167  3.03315\n",
      "min    3.000000  0.000000  0.00000\n",
      "25%    3.750000  0.500000  2.25000\n",
      "50%    6.000000  3.000000  3.50000\n",
      "75%    6.750000  4.750000  6.25000\n",
      "max    9.000000  8.000000  8.00000\n",
      "   A  B  C\n",
      "0  3  2  2\n",
      "1  3  4  4\n",
      "2  6  5  3\n",
      "3  6  8  8\n",
      "4  7  0  7\n",
      "   A  B  C\n",
      "1  3  4  4\n",
      "2  6  5  3\n",
      "3  6  8  8\n",
      "4  7  0  7\n",
      "5  9  0  0\n",
      "<class 'pandas.core.frame.DataFrame'>\n",
      "RangeIndex: 6 entries, 0 to 5\n",
      "Data columns (total 3 columns):\n",
      " #   Column  Non-Null Count  Dtype\n",
      "---  ------  --------------  -----\n",
      " 0   A       6 non-null      int64\n",
      " 1   B       6 non-null      int64\n",
      " 2   C       6 non-null      int64\n",
      "dtypes: int64(3)\n",
      "memory usage: 272.0 bytes\n",
      "None\n"
     ]
    }
   ],
   "source": [
    "d = {'A': [3, 3,6, 6, 7, 9], 'B': [2,4, 5, 8, 0, 0],'C': [2,4, 3, 8, 7, 0]}\n",
    "x  =pd.DataFrame(d)\n",
    "print(x.shape)# 数据的形状\n",
    "print(x.dtypes) #数据的类型\n",
    "print(x.index.tolist()) #数据的索引\n",
    "print(x.columns.tolist()) #数据的列名\n",
    "print(x.describe()) #查看数据的详细信息\n",
    "print(x.head()) # 展示数据前5行\n",
    "print(x.tail()) #展示数据的后5行\n",
    "print(x.info())\n"
   ]
  },
  {
   "cell_type": "code",
   "execution_count": 3,
   "metadata": {},
   "outputs": [
    {
     "name": "stdout",
     "output_type": "stream",
     "text": [
      "34\n",
      "6    2\n",
      "3    2\n",
      "7    1\n",
      "9    1\n",
      "Name: A, dtype: int64\n"
     ]
    }
   ],
   "source": [
    "print(x['A'].sum())\n",
    "print(x['A'].value_counts())"
   ]
  },
  {
   "cell_type": "markdown",
   "metadata": {},
   "source": [
    "### 选择多列数据"
   ]
  },
  {
   "cell_type": "code",
   "execution_count": 4,
   "metadata": {},
   "outputs": [
    {
     "data": {
      "text/html": [
       "<div>\n",
       "<style scoped>\n",
       "    .dataframe tbody tr th:only-of-type {\n",
       "        vertical-align: middle;\n",
       "    }\n",
       "\n",
       "    .dataframe tbody tr th {\n",
       "        vertical-align: top;\n",
       "    }\n",
       "\n",
       "    .dataframe thead th {\n",
       "        text-align: right;\n",
       "    }\n",
       "</style>\n",
       "<table border=\"1\" class=\"dataframe\">\n",
       "  <thead>\n",
       "    <tr style=\"text-align: right;\">\n",
       "      <th></th>\n",
       "      <th>A</th>\n",
       "      <th>C</th>\n",
       "    </tr>\n",
       "  </thead>\n",
       "  <tbody>\n",
       "    <tr>\n",
       "      <th>0</th>\n",
       "      <td>3</td>\n",
       "      <td>2</td>\n",
       "    </tr>\n",
       "    <tr>\n",
       "      <th>1</th>\n",
       "      <td>3</td>\n",
       "      <td>4</td>\n",
       "    </tr>\n",
       "    <tr>\n",
       "      <th>2</th>\n",
       "      <td>6</td>\n",
       "      <td>3</td>\n",
       "    </tr>\n",
       "    <tr>\n",
       "      <th>3</th>\n",
       "      <td>6</td>\n",
       "      <td>8</td>\n",
       "    </tr>\n",
       "    <tr>\n",
       "      <th>4</th>\n",
       "      <td>7</td>\n",
       "      <td>7</td>\n",
       "    </tr>\n",
       "    <tr>\n",
       "      <th>5</th>\n",
       "      <td>9</td>\n",
       "      <td>0</td>\n",
       "    </tr>\n",
       "  </tbody>\n",
       "</table>\n",
       "</div>"
      ],
      "text/plain": [
       "   A  C\n",
       "0  3  2\n",
       "1  3  4\n",
       "2  6  3\n",
       "3  6  8\n",
       "4  7  7\n",
       "5  9  0"
      ]
     },
     "execution_count": 4,
     "metadata": {},
     "output_type": "execute_result"
    }
   ],
   "source": [
    "d = {'A': [3, 3,6, 6, 7, 9], 'B': [2,4, 5, 8, 0, 0],'C': [2,4, 3, 8, 7, 0]}\n",
    "pf = pd.DataFrame(d)\n",
    "data = pf[['A','C']]\n",
    "data"
   ]
  },
  {
   "cell_type": "markdown",
   "metadata": {},
   "source": [
    "### 选择多行数据"
   ]
  },
  {
   "cell_type": "code",
   "execution_count": 5,
   "metadata": {},
   "outputs": [
    {
     "data": {
      "text/html": [
       "<div>\n",
       "<style scoped>\n",
       "    .dataframe tbody tr th:only-of-type {\n",
       "        vertical-align: middle;\n",
       "    }\n",
       "\n",
       "    .dataframe tbody tr th {\n",
       "        vertical-align: top;\n",
       "    }\n",
       "\n",
       "    .dataframe thead th {\n",
       "        text-align: right;\n",
       "    }\n",
       "</style>\n",
       "<table border=\"1\" class=\"dataframe\">\n",
       "  <thead>\n",
       "    <tr style=\"text-align: right;\">\n",
       "      <th></th>\n",
       "      <th>A</th>\n",
       "      <th>C</th>\n",
       "    </tr>\n",
       "  </thead>\n",
       "  <tbody>\n",
       "    <tr>\n",
       "      <th>0</th>\n",
       "      <td>3</td>\n",
       "      <td>2</td>\n",
       "    </tr>\n",
       "    <tr>\n",
       "      <th>1</th>\n",
       "      <td>3</td>\n",
       "      <td>4</td>\n",
       "    </tr>\n",
       "    <tr>\n",
       "      <th>2</th>\n",
       "      <td>6</td>\n",
       "      <td>3</td>\n",
       "    </tr>\n",
       "    <tr>\n",
       "      <th>3</th>\n",
       "      <td>6</td>\n",
       "      <td>8</td>\n",
       "    </tr>\n",
       "    <tr>\n",
       "      <th>4</th>\n",
       "      <td>7</td>\n",
       "      <td>7</td>\n",
       "    </tr>\n",
       "    <tr>\n",
       "      <th>5</th>\n",
       "      <td>9</td>\n",
       "      <td>0</td>\n",
       "    </tr>\n",
       "  </tbody>\n",
       "</table>\n",
       "</div>"
      ],
      "text/plain": [
       "   A  C\n",
       "0  3  2\n",
       "1  3  4\n",
       "2  6  3\n",
       "3  6  8\n",
       "4  7  7\n",
       "5  9  0"
      ]
     },
     "execution_count": 5,
     "metadata": {},
     "output_type": "execute_result"
    }
   ],
   "source": [
    "d = {'A': [3, 3,6, 6, 7, 9], 'B': [2,4, 5, 8, 0, 0],'C': [2,4, 3, 8, 7, 0]}\n",
    "pf = pd.DataFrame(d)\n",
    "data = pf[['A','C']]\n",
    "data"
   ]
  },
  {
   "cell_type": "markdown",
   "metadata": {},
   "source": [
    "### 选择指定值的数据\n",
    "\n",
    "*  选取等于某些值的行记录 用 ==\n",
    "\n",
    "df.loc[df['column_name'] == some_value]\n",
    "\n",
    "* 选取某列是否是某一类型的数值 用 isin\n",
    "\n",
    "df.loc[df['column_name'].isin([some_values,])]\n",
    "\n",
    "* 多种条件的选取 用 &\n",
    "\n",
    "df.loc[(df['column'] == some_value) & df['other_column'].isin(some_values)]\n",
    "\n",
    "* 选取不等于某些值的行记录 用 ！=\n",
    "\n",
    "df.loc[df['column_name'] != some_value]\n",
    "\n",
    "* isin返回一系列的数值,如果要选择不符合这个条件的数值使用~\n",
    "\n",
    "df.loc[~df['column_name'].isin(some_values)]"
   ]
  },
  {
   "cell_type": "code",
   "execution_count": 6,
   "metadata": {},
   "outputs": [
    {
     "name": "stdout",
     "output_type": "stream",
     "text": [
      "   A  B  C\n",
      "1  3  4  4\n",
      "\n",
      "    A  B  C\n",
      "5  9  0  0\n",
      "\n",
      "    A  B  C\n",
      "0  3  2  2\n",
      "1  3  4  4\n",
      "\n",
      "    A  B  C\n",
      "2  6  5  3\n",
      "3  6  8  8\n",
      "4  7  0  7\n",
      "5  9  0  0\n"
     ]
    }
   ],
   "source": [
    "d = {'A': [3, 3,6, 6, 7, 9], 'B': [2,4, 5, 8, 0, 0],'C': [2,4, 3, 8, 7, 0]}\n",
    "pf = pd.DataFrame(d)\n",
    "data = pf[(pf['A']==3) & (pf['B']==4) ]\n",
    "print(data)\n",
    "print(\"\\n\", pf.loc[pf['A'] == 9])\n",
    "print(\"\\n\", pf.loc[pf['A'].isin([3])])\n",
    "print(\"\\n\", pf.loc[~pf['A'].isin([3])])"
   ]
  },
  {
   "cell_type": "markdown",
   "metadata": {},
   "source": [
    "### 对列求和和对行求和\n",
    "\n",
    "* 对行求和  \n",
    "\n",
    "- [ ] df['sum'] = df.apply(lambda x: x.sum(), axis=1)\n",
    "\n",
    "* 对列进行求和\n",
    "\n",
    "- [ ] df['A'].sum()\n",
    "- [ ] pf[['A','B','C']].sum()\n",
    "- [ ] pf.apply(lambda x: x.sum(), axis=0)\n"
   ]
  },
  {
   "cell_type": "code",
   "execution_count": 7,
   "metadata": {},
   "outputs": [
    {
     "name": "stdout",
     "output_type": "stream",
     "text": [
      "   A  B  C   D\n",
      "0  3  2  2   7\n",
      "1  3  4  4  11\n",
      "2  6  5  3  14\n",
      "3  6  8  8  22\n",
      "4  7  0  7  14\n",
      "5  9  0  0   9\n"
     ]
    }
   ],
   "source": [
    "d = {'A': [3, 3,6, 6, 7, 9], 'B': [2,4, 5, 8, 0, 0],'C': [2,4, 3, 8, 7, 0]}\n",
    "pf = pd.DataFrame(d)\n",
    "\n",
    "pf['D'] = pf.apply(lambda x: x.sum(), axis=1)\n",
    "print(pf)"
   ]
  },
  {
   "cell_type": "code",
   "execution_count": 8,
   "metadata": {},
   "outputs": [
    {
     "data": {
      "text/html": [
       "<div>\n",
       "<style scoped>\n",
       "    .dataframe tbody tr th:only-of-type {\n",
       "        vertical-align: middle;\n",
       "    }\n",
       "\n",
       "    .dataframe tbody tr th {\n",
       "        vertical-align: top;\n",
       "    }\n",
       "\n",
       "    .dataframe thead th {\n",
       "        text-align: right;\n",
       "    }\n",
       "</style>\n",
       "<table border=\"1\" class=\"dataframe\">\n",
       "  <thead>\n",
       "    <tr style=\"text-align: right;\">\n",
       "      <th></th>\n",
       "      <th>A</th>\n",
       "      <th>B</th>\n",
       "      <th>C</th>\n",
       "      <th>Col_sum</th>\n",
       "    </tr>\n",
       "  </thead>\n",
       "  <tbody>\n",
       "    <tr>\n",
       "      <th>0</th>\n",
       "      <td>3</td>\n",
       "      <td>2</td>\n",
       "      <td>2</td>\n",
       "      <td>7</td>\n",
       "    </tr>\n",
       "    <tr>\n",
       "      <th>1</th>\n",
       "      <td>3</td>\n",
       "      <td>4</td>\n",
       "      <td>4</td>\n",
       "      <td>11</td>\n",
       "    </tr>\n",
       "    <tr>\n",
       "      <th>2</th>\n",
       "      <td>6</td>\n",
       "      <td>5</td>\n",
       "      <td>3</td>\n",
       "      <td>14</td>\n",
       "    </tr>\n",
       "    <tr>\n",
       "      <th>3</th>\n",
       "      <td>6</td>\n",
       "      <td>8</td>\n",
       "      <td>8</td>\n",
       "      <td>22</td>\n",
       "    </tr>\n",
       "    <tr>\n",
       "      <th>4</th>\n",
       "      <td>7</td>\n",
       "      <td>0</td>\n",
       "      <td>7</td>\n",
       "      <td>14</td>\n",
       "    </tr>\n",
       "    <tr>\n",
       "      <th>5</th>\n",
       "      <td>9</td>\n",
       "      <td>0</td>\n",
       "      <td>0</td>\n",
       "      <td>9</td>\n",
       "    </tr>\n",
       "    <tr>\n",
       "      <th>Row_sum</th>\n",
       "      <td>34</td>\n",
       "      <td>19</td>\n",
       "      <td>24</td>\n",
       "      <td>77</td>\n",
       "    </tr>\n",
       "  </tbody>\n",
       "</table>\n",
       "</div>"
      ],
      "text/plain": [
       "          A   B   C  Col_sum\n",
       "0         3   2   2        7\n",
       "1         3   4   4       11\n",
       "2         6   5   3       14\n",
       "3         6   8   8       22\n",
       "4         7   0   7       14\n",
       "5         9   0   0        9\n",
       "Row_sum  34  19  24       77"
      ]
     },
     "execution_count": 8,
     "metadata": {},
     "output_type": "execute_result"
    }
   ],
   "source": [
    "d = {'A': [3, 3,6, 6, 7, 9], 'B': [2,4, 5, 8, 0, 0],'C': [2,4, 3, 8, 7, 0]}\n",
    "pf = pd.DataFrame(d)\n",
    "pf[['A','B','C']].sum()\n",
    "pf['Col_sum']= pf.apply(lambda x: x.sum(), axis=1)  #新增加一列\n",
    "pf.loc['Row_sum'] = pf.apply(lambda x: x.sum()) #新增加一行\n",
    "pf"
   ]
  },
  {
   "cell_type": "markdown",
   "metadata": {},
   "source": [
    "### 删除多列数据"
   ]
  },
  {
   "cell_type": "code",
   "execution_count": 9,
   "metadata": {},
   "outputs": [
    {
     "name": "stdout",
     "output_type": "stream",
     "text": [
      "   B\n",
      "0  2\n",
      "1  4\n",
      "2  5\n",
      "3  8\n",
      "4  0\n",
      "5  0\n",
      "['B']\n"
     ]
    }
   ],
   "source": [
    "def drop_multiple_col(col_names_list, df): \n",
    "    '''\n",
    "    AIM    -> Drop multiple columns based on their column names \n",
    "\n",
    "    INPUT  -> List of column names, df\n",
    "\n",
    "    OUTPUT -> updated df with dropped columns \n",
    "    ------\n",
    "    '''\n",
    "    df.drop(col_names_list, axis=1, inplace=True)\n",
    "    return df\n",
    "\n",
    "d = {'A': [3, 3,6, 6, 7, 9], 'B': [2,4, 5, 8, 0, 0],'C': [2,4, 3, 8, 7, 0]}\n",
    "x  =pd.DataFrame(d)\n",
    "drop_multiple_col(['A','C'],x)\n",
    "print(x)\n",
    "print(x.columns.tolist())"
   ]
  },
  {
   "cell_type": "markdown",
   "metadata": {},
   "source": [
    "### 删除多行数据"
   ]
  },
  {
   "cell_type": "code",
   "execution_count": 10,
   "metadata": {},
   "outputs": [
    {
     "name": "stdout",
     "output_type": "stream",
     "text": [
      "   A  B  C\n",
      "1  3  4  4\n",
      "4  7  0  7\n",
      "5  9  0  0\n",
      "drop after index: [1 4 5]\n",
      "reset_index: [0 1 2]\n"
     ]
    }
   ],
   "source": [
    "def drop_multiple_index(index, df): \n",
    "    '''\n",
    "    AIM    -> Drop multiple columns based on their column names \n",
    "\n",
    "    INPUT  -> List of column names, df\n",
    "\n",
    "    OUTPUT -> updated df with dropped columns \n",
    "    ------\n",
    "    '''\n",
    "    df.drop(index, inplace=True)\n",
    "    return df\n",
    "\n",
    "d = {'A': [3, 3,6, 6, 7, 9], 'B': [2,4, 5, 8, 0, 0],'C': [2,4, 3, 8, 7, 0]}\n",
    "x  =pd.DataFrame(d)\n",
    "drop_multiple_index([0,2,3],x)  \n",
    "print(x)\n",
    "print(\"drop after index:\",x.index.values)\n",
    "\n",
    "x.reset_index(drop=True, inplace=True) #重置原索引\n",
    "print(\"reset_index:\", x.index.values)"
   ]
  },
  {
   "cell_type": "markdown",
   "metadata": {},
   "source": [
    "### 删除缺少的数据"
   ]
  },
  {
   "cell_type": "code",
   "execution_count": null,
   "metadata": {},
   "outputs": [],
   "source": [
    "df.dropna(axis=0, how='any')"
   ]
  },
  {
   "cell_type": "markdown",
   "metadata": {},
   "source": [
    "### 数据类型转换 Dtypes"
   ]
  },
  {
   "cell_type": "code",
   "execution_count": 11,
   "metadata": {},
   "outputs": [
    {
     "data": {
      "text/plain": [
       "A      int32\n",
       "B    float32\n",
       "C      int64\n",
       "dtype: object"
      ]
     },
     "execution_count": 11,
     "metadata": {},
     "output_type": "execute_result"
    }
   ],
   "source": [
    "def change_dtypes(col_int, col_float, df): \n",
    "    '''\n",
    "    AIM    -> Changing dtypes to save memory\n",
    "\n",
    "    INPUT  -> List of column names (int, float), df\n",
    "\n",
    "    OUTPUT -> updated df with smaller memory  \n",
    "    ------\n",
    "    '''\n",
    "    df[col_int] = df[col_int].astype('int32')\n",
    "    df[col_float] = df[col_float].astype('float32')\n",
    "\n",
    "change_dtypes('A','B', x)\n",
    "x.dtypes"
   ]
  },
  {
   "cell_type": "markdown",
   "metadata": {},
   "source": [
    "###  将分类变量转换为数值变量"
   ]
  },
  {
   "cell_type": "code",
   "execution_count": 12,
   "metadata": {},
   "outputs": [
    {
     "data": {
      "text/html": [
       "<div>\n",
       "<style scoped>\n",
       "    .dataframe tbody tr th:only-of-type {\n",
       "        vertical-align: middle;\n",
       "    }\n",
       "\n",
       "    .dataframe tbody tr th {\n",
       "        vertical-align: top;\n",
       "    }\n",
       "\n",
       "    .dataframe thead th {\n",
       "        text-align: right;\n",
       "    }\n",
       "</style>\n",
       "<table border=\"1\" class=\"dataframe\">\n",
       "  <thead>\n",
       "    <tr style=\"text-align: right;\">\n",
       "      <th></th>\n",
       "      <th>col_1</th>\n",
       "      <th>col_2</th>\n",
       "      <th>C</th>\n",
       "    </tr>\n",
       "  </thead>\n",
       "  <tbody>\n",
       "    <tr>\n",
       "      <th>0</th>\n",
       "      <td>1</td>\n",
       "      <td>1</td>\n",
       "      <td>2</td>\n",
       "    </tr>\n",
       "    <tr>\n",
       "      <th>1</th>\n",
       "      <td>1</td>\n",
       "      <td>0</td>\n",
       "      <td>4</td>\n",
       "    </tr>\n",
       "    <tr>\n",
       "      <th>2</th>\n",
       "      <td>0</td>\n",
       "      <td>0</td>\n",
       "      <td>3</td>\n",
       "    </tr>\n",
       "    <tr>\n",
       "      <th>3</th>\n",
       "      <td>0</td>\n",
       "      <td>0</td>\n",
       "      <td>8</td>\n",
       "    </tr>\n",
       "    <tr>\n",
       "      <th>4</th>\n",
       "      <td>0</td>\n",
       "      <td>0</td>\n",
       "      <td>7</td>\n",
       "    </tr>\n",
       "    <tr>\n",
       "      <th>5</th>\n",
       "      <td>0</td>\n",
       "      <td>1</td>\n",
       "      <td>0</td>\n",
       "    </tr>\n",
       "  </tbody>\n",
       "</table>\n",
       "</div>"
      ],
      "text/plain": [
       "   col_1  col_2  C\n",
       "0      1      1  2\n",
       "1      1      0  4\n",
       "2      0      0  3\n",
       "3      0      0  8\n",
       "4      0      0  7\n",
       "5      0      1  0"
      ]
     },
     "execution_count": 12,
     "metadata": {},
     "output_type": "execute_result"
    }
   ],
   "source": [
    "def convert_cat2num(df):\n",
    "    # Convert categorical variable to numerical variable\n",
    "    num_encode = {'col_1' : {'YES':1, 'NO':0},\n",
    "                  'col_2'  : {'WON':1, 'LOSE':0, 'DRAW':0}}  \n",
    "    df.replace(num_encode, inplace=True) \n",
    "    \n",
    "d = {'col_1': ['YES', 'YES', 'NO', 'NO', 'NO', 'NO'], 'col_2': ['WON', 'LOSE', 'DRAW',  'LOSE', 'DRAW','WON'],'C': [2,4, 3, 8, 7, 0]}\n",
    "data =pd.DataFrame(d)\n",
    "convert_cat2num(data)\n",
    "data"
   ]
  },
  {
   "cell_type": "markdown",
   "metadata": {},
   "source": [
    "### 检查缺失的数据 &&检查是否有空值"
   ]
  },
  {
   "cell_type": "code",
   "execution_count": 13,
   "metadata": {},
   "outputs": [
    {
     "data": {
      "text/plain": [
       "col_1    3\n",
       "C        1\n",
       "col_2    1\n",
       "dtype: int64"
      ]
     },
     "execution_count": 13,
     "metadata": {},
     "output_type": "execute_result"
    }
   ],
   "source": [
    "def check_missing_data(df):\n",
    "    # check for any missing data in the df (display in descending order)\n",
    "    return df.isnull().sum().sort_values(ascending=False)\n",
    "\n",
    "d = {'col_1': [None, 'YES', 'NO', 'NO',None,None], 'col_2': ['WON', None, 'DRAW',  'LOSE', 'DRAW','WON'],'C': [2,4, 3, None, 7, 0]}\n",
    "df =pd.DataFrame(d)\n",
    "check_missing_data(df)"
   ]
  },
  {
   "cell_type": "markdown",
   "metadata": {},
   "source": [
    "### 删除列中的字符串"
   ]
  },
  {
   "cell_type": "code",
   "execution_count": 14,
   "metadata": {},
   "outputs": [
    {
     "data": {
      "text/html": [
       "<div>\n",
       "<style scoped>\n",
       "    .dataframe tbody tr th:only-of-type {\n",
       "        vertical-align: middle;\n",
       "    }\n",
       "\n",
       "    .dataframe tbody tr th {\n",
       "        vertical-align: top;\n",
       "    }\n",
       "\n",
       "    .dataframe thead th {\n",
       "        text-align: right;\n",
       "    }\n",
       "</style>\n",
       "<table border=\"1\" class=\"dataframe\">\n",
       "  <thead>\n",
       "    <tr style=\"text-align: right;\">\n",
       "      <th></th>\n",
       "      <th>col_1</th>\n",
       "      <th>col_2</th>\n",
       "      <th>C</th>\n",
       "    </tr>\n",
       "  </thead>\n",
       "  <tbody>\n",
       "    <tr>\n",
       "      <th>0</th>\n",
       "      <td>None</td>\n",
       "      <td>WON</td>\n",
       "      <td>2.0</td>\n",
       "    </tr>\n",
       "    <tr>\n",
       "      <th>1</th>\n",
       "      <td>YES</td>\n",
       "      <td>None</td>\n",
       "      <td>4.0</td>\n",
       "    </tr>\n",
       "    <tr>\n",
       "      <th>2</th>\n",
       "      <td>NO</td>\n",
       "      <td>DRAW</td>\n",
       "      <td>3.0</td>\n",
       "    </tr>\n",
       "    <tr>\n",
       "      <th>3</th>\n",
       "      <td>NO</td>\n",
       "      <td>LOSE</td>\n",
       "      <td>NaN</td>\n",
       "    </tr>\n",
       "    <tr>\n",
       "      <th>4</th>\n",
       "      <td>None</td>\n",
       "      <td>DRAW</td>\n",
       "      <td>7.0</td>\n",
       "    </tr>\n",
       "    <tr>\n",
       "      <th>5</th>\n",
       "      <td>None</td>\n",
       "      <td>WON</td>\n",
       "      <td>0.0</td>\n",
       "    </tr>\n",
       "  </tbody>\n",
       "</table>\n",
       "</div>"
      ],
      "text/plain": [
       "  col_1 col_2    C\n",
       "0  None   WON  2.0\n",
       "1   YES  None  4.0\n",
       "2    NO  DRAW  3.0\n",
       "3    NO  LOSE  NaN\n",
       "4  None  DRAW  7.0\n",
       "5  None   WON  0.0"
      ]
     },
     "execution_count": 14,
     "metadata": {},
     "output_type": "execute_result"
    }
   ],
   "source": [
    "def remove_col_str(df):\n",
    "    # remove a portion of string in a dataframe column - col_1\n",
    "    df['col_1'].replace('\\n', '', regex=True, inplace=True)\n",
    "\n",
    "    # remove all the characters after &# (including &#) for column - col_1\n",
    "    df['col_1'].replace(' &#.*', '', regex=True, inplace=True)\n",
    "\n",
    "d = {'col_1': [None, 'YES', 'NO', 'NO',None,None], 'col_2': ['WON', None, 'DRAW',  'LOSE', 'DRAW','WON'],'C': [2,4, 3, None, 7, 0]}\n",
    "df =pd.DataFrame(d)\n",
    "remove_col_str(df)\n",
    "df"
   ]
  },
  {
   "cell_type": "code",
   "execution_count": 15,
   "metadata": {},
   "outputs": [
    {
     "data": {
      "text/html": [
       "<div>\n",
       "<style scoped>\n",
       "    .dataframe tbody tr th:only-of-type {\n",
       "        vertical-align: middle;\n",
       "    }\n",
       "\n",
       "    .dataframe tbody tr th {\n",
       "        vertical-align: top;\n",
       "    }\n",
       "\n",
       "    .dataframe thead th {\n",
       "        text-align: right;\n",
       "    }\n",
       "</style>\n",
       "<table border=\"1\" class=\"dataframe\">\n",
       "  <thead>\n",
       "    <tr style=\"text-align: right;\">\n",
       "      <th></th>\n",
       "      <th>col_1</th>\n",
       "      <th>col_2</th>\n",
       "      <th>C</th>\n",
       "    </tr>\n",
       "  </thead>\n",
       "  <tbody>\n",
       "    <tr>\n",
       "      <th>0</th>\n",
       "      <td>None</td>\n",
       "      <td>WON</td>\n",
       "      <td>2.0</td>\n",
       "    </tr>\n",
       "    <tr>\n",
       "      <th>1</th>\n",
       "      <td>YES</td>\n",
       "      <td>None</td>\n",
       "      <td>4.0</td>\n",
       "    </tr>\n",
       "    <tr>\n",
       "      <th>2</th>\n",
       "      <td>NO</td>\n",
       "      <td>DRAW</td>\n",
       "      <td>3.0</td>\n",
       "    </tr>\n",
       "    <tr>\n",
       "      <th>3</th>\n",
       "      <td>NO</td>\n",
       "      <td>LOSE</td>\n",
       "      <td>NaN</td>\n",
       "    </tr>\n",
       "    <tr>\n",
       "      <th>4</th>\n",
       "      <td>None</td>\n",
       "      <td>DRAW</td>\n",
       "      <td>7.0</td>\n",
       "    </tr>\n",
       "    <tr>\n",
       "      <th>5</th>\n",
       "      <td>None</td>\n",
       "      <td>WON</td>\n",
       "      <td>0.0</td>\n",
       "    </tr>\n",
       "  </tbody>\n",
       "</table>\n",
       "</div>"
      ],
      "text/plain": [
       "   col_1  col_2    C\n",
       "0   None    WON  2.0\n",
       "1  YES     None  4.0\n",
       "2     NO   DRAW  3.0\n",
       "3     NO   LOSE  NaN\n",
       "4   None   DRAW  7.0\n",
       "5   None    WON  0.0"
      ]
     },
     "execution_count": 15,
     "metadata": {},
     "output_type": "execute_result"
    }
   ],
   "source": [
    "def remove_col_white_space(df):\n",
    "    # remove white space at the beginning of string \n",
    "    df[col] = df[col].str.lstrip().rstrip()\n",
    "d = {'col_1': [None, 'YES  ', 'NO', 'NO',None,None], 'col_2': ['WON', None, 'DRAW',  ' LOSE', ' DRAW','WON'],'C': [2,4, 3, None, 7, 0]}\n",
    "df =pd.DataFrame(d)\n",
    "remove_col_str(df)\n",
    "df    "
   ]
  },
  {
   "cell_type": "markdown",
   "metadata": {},
   "source": [
    "### 将两列字符串数据（在一定条件下）拼接起来"
   ]
  },
  {
   "cell_type": "code",
   "execution_count": 16,
   "metadata": {},
   "outputs": [
    {
     "name": "stdout",
     "output_type": "stream",
     "text": [
      "results:\n",
      "       col_1 col_2  C\n",
      "0   YES-WON   WON  2\n",
      "1  YES-LOSE  LOSE  4\n",
      "2   NO-DRAW  DRAW  3\n",
      "3   NO-LOSE  LOSE  8\n",
      "4   NO-DRAW  DRAW  7\n",
      "5    NO-WON   WON  0\n",
      "多个列进行拼接:\n",
      " 0      WON-2-WON\n",
      "1    LOSE-4-LOSE\n",
      "2    DRAW-3-DRAW\n",
      "3    LOSE-8-LOSE\n",
      "4    DRAW-7-DRAW\n",
      "5      WON-0-WON\n",
      "Name: col_2, dtype: object\n"
     ]
    },
    {
     "data": {
      "text/html": [
       "<div>\n",
       "<style scoped>\n",
       "    .dataframe tbody tr th:only-of-type {\n",
       "        vertical-align: middle;\n",
       "    }\n",
       "\n",
       "    .dataframe tbody tr th {\n",
       "        vertical-align: top;\n",
       "    }\n",
       "\n",
       "    .dataframe thead th {\n",
       "        text-align: right;\n",
       "    }\n",
       "</style>\n",
       "<table border=\"1\" class=\"dataframe\">\n",
       "  <thead>\n",
       "    <tr style=\"text-align: right;\">\n",
       "      <th></th>\n",
       "      <th>col_1</th>\n",
       "      <th>col_2</th>\n",
       "      <th>C</th>\n",
       "    </tr>\n",
       "  </thead>\n",
       "  <tbody>\n",
       "    <tr>\n",
       "      <th>0</th>\n",
       "      <td>YES-WON</td>\n",
       "      <td>WON</td>\n",
       "      <td>2</td>\n",
       "    </tr>\n",
       "    <tr>\n",
       "      <th>1</th>\n",
       "      <td>YES-LOSE</td>\n",
       "      <td>LOSE</td>\n",
       "      <td>4</td>\n",
       "    </tr>\n",
       "    <tr>\n",
       "      <th>2</th>\n",
       "      <td>NO-DRAW</td>\n",
       "      <td>DRAW</td>\n",
       "      <td>3</td>\n",
       "    </tr>\n",
       "    <tr>\n",
       "      <th>3</th>\n",
       "      <td>NO-LOSE</td>\n",
       "      <td>LOSE</td>\n",
       "      <td>8</td>\n",
       "    </tr>\n",
       "    <tr>\n",
       "      <th>4</th>\n",
       "      <td>NO-DRAW</td>\n",
       "      <td>DRAW</td>\n",
       "      <td>7</td>\n",
       "    </tr>\n",
       "    <tr>\n",
       "      <th>5</th>\n",
       "      <td>NO-WON</td>\n",
       "      <td>WON</td>\n",
       "      <td>0</td>\n",
       "    </tr>\n",
       "  </tbody>\n",
       "</table>\n",
       "</div>"
      ],
      "text/plain": [
       "      col_1 col_2  C\n",
       "0   YES-WON   WON  2\n",
       "1  YES-LOSE  LOSE  4\n",
       "2   NO-DRAW  DRAW  3\n",
       "3   NO-LOSE  LOSE  8\n",
       "4   NO-DRAW  DRAW  7\n",
       "5    NO-WON   WON  0"
      ]
     },
     "execution_count": 16,
     "metadata": {},
     "output_type": "execute_result"
    }
   ],
   "source": [
    "d = {'col_1': ['YES', 'YES', 'NO', 'NO', 'NO', 'NO'], 'col_2': ['WON', 'LOSE', 'DRAW',  'LOSE', 'DRAW','WON'],'C': [2,4, 3, 8, 7, 0]}\n",
    "df =pd.DataFrame(d)\n",
    "df['col_1'] = df[\"col_1\"].str.cat(df[\"col_2\"],sep=\"-\")\n",
    "print(\"results:\\n\",df)\n",
    "\n",
    "print(\"多个列进行拼接:\\n\", df['col_2'].str.cat([df['C'].astype(\"str\"), df['col_2']],sep=\"-\"))\n",
    "df"
   ]
  },
  {
   "cell_type": "markdown",
   "metadata": {},
   "source": [
    "### 插入一行数据\n",
    "* df.loc[index] 实现添加一行数据\n",
    "* df.append() 实现添加一行数据"
   ]
  },
  {
   "cell_type": "code",
   "execution_count": 17,
   "metadata": {},
   "outputs": [
    {
     "name": "stdout",
     "output_type": "stream",
     "text": [
      "df.loc[index]:\n",
      "   lib qty1 qty2\n",
      "0   0    0    0\n",
      "1  -1   -1    0\n",
      "2   0    0   -1\n",
      "3   0    0    0\n",
      "4   0   -1   -1\n",
      "df.append:\n",
      "   lib qty1 qty2\n",
      "0   0    0    0\n",
      "1  -1   -1    0\n",
      "2   0    0   -1\n",
      "3   0    0    0\n",
      "4   0   -1   -1\n",
      "5  -1   -1   -1\n"
     ]
    }
   ],
   "source": [
    "df = pd.DataFrame(columns=('lib', 'qty1', 'qty2'))#生成空的pandas表\n",
    "for i in range(5):#插入一行<span id=\"transmark\" style=\"display:none;\"></span>\n",
    "    df.loc[len(df)] = [np.random.randint(-1,1) for n in range(3)]\n",
    "print(\"df.loc[index]:\\n\", df)\n",
    "\n",
    "\n",
    "from numpy.random import randint\n",
    "df = df.append({'lib':randint(-1,1), 'qty1':randint(-1,1), 'qty2':randint(-1,1)}, ignore_index=True)\n",
    "\n",
    "print(\"df.append:\\n\", df)"
   ]
  },
  {
   "cell_type": "markdown",
   "metadata": {},
   "source": [
    "### 插入一列或者多列数据\n",
    "\n",
    "* 利用pd.concat 在DataFrame后面添加两列，这种方法的缺点是不能指定位置  pd.concat([df, pd.DataFrame(columns=list('DE'))])\n",
    "* 利用 reindex来重排和增加列名df.reindex(columns=list('ABCDE'))"
   ]
  },
  {
   "cell_type": "code",
   "execution_count": 18,
   "metadata": {},
   "outputs": [
    {
     "data": {
      "text/html": [
       "<div>\n",
       "<style scoped>\n",
       "    .dataframe tbody tr th:only-of-type {\n",
       "        vertical-align: middle;\n",
       "    }\n",
       "\n",
       "    .dataframe tbody tr th {\n",
       "        vertical-align: top;\n",
       "    }\n",
       "\n",
       "    .dataframe thead th {\n",
       "        text-align: right;\n",
       "    }\n",
       "</style>\n",
       "<table border=\"1\" class=\"dataframe\">\n",
       "  <thead>\n",
       "    <tr style=\"text-align: right;\">\n",
       "      <th></th>\n",
       "      <th>lib</th>\n",
       "      <th>qty1</th>\n",
       "      <th>qty2</th>\n",
       "      <th>D</th>\n",
       "      <th>E</th>\n",
       "    </tr>\n",
       "  </thead>\n",
       "  <tbody>\n",
       "    <tr>\n",
       "      <th>0</th>\n",
       "      <td>0</td>\n",
       "      <td>0</td>\n",
       "      <td>0</td>\n",
       "      <td>NaN</td>\n",
       "      <td>NaN</td>\n",
       "    </tr>\n",
       "    <tr>\n",
       "      <th>1</th>\n",
       "      <td>-1</td>\n",
       "      <td>-1</td>\n",
       "      <td>0</td>\n",
       "      <td>NaN</td>\n",
       "      <td>NaN</td>\n",
       "    </tr>\n",
       "    <tr>\n",
       "      <th>2</th>\n",
       "      <td>0</td>\n",
       "      <td>0</td>\n",
       "      <td>-1</td>\n",
       "      <td>NaN</td>\n",
       "      <td>NaN</td>\n",
       "    </tr>\n",
       "    <tr>\n",
       "      <th>3</th>\n",
       "      <td>0</td>\n",
       "      <td>0</td>\n",
       "      <td>0</td>\n",
       "      <td>NaN</td>\n",
       "      <td>NaN</td>\n",
       "    </tr>\n",
       "    <tr>\n",
       "      <th>4</th>\n",
       "      <td>0</td>\n",
       "      <td>-1</td>\n",
       "      <td>-1</td>\n",
       "      <td>NaN</td>\n",
       "      <td>NaN</td>\n",
       "    </tr>\n",
       "    <tr>\n",
       "      <th>5</th>\n",
       "      <td>-1</td>\n",
       "      <td>-1</td>\n",
       "      <td>-1</td>\n",
       "      <td>NaN</td>\n",
       "      <td>NaN</td>\n",
       "    </tr>\n",
       "  </tbody>\n",
       "</table>\n",
       "</div>"
      ],
      "text/plain": [
       "  lib qty1 qty2    D    E\n",
       "0   0    0    0  NaN  NaN\n",
       "1  -1   -1    0  NaN  NaN\n",
       "2   0    0   -1  NaN  NaN\n",
       "3   0    0    0  NaN  NaN\n",
       "4   0   -1   -1  NaN  NaN\n",
       "5  -1   -1   -1  NaN  NaN"
      ]
     },
     "execution_count": 18,
     "metadata": {},
     "output_type": "execute_result"
    }
   ],
   "source": [
    "pd.concat([df, pd.DataFrame(columns=list('DE'))])"
   ]
  },
  {
   "cell_type": "code",
   "execution_count": 19,
   "metadata": {},
   "outputs": [
    {
     "data": {
      "text/html": [
       "<div>\n",
       "<style scoped>\n",
       "    .dataframe tbody tr th:only-of-type {\n",
       "        vertical-align: middle;\n",
       "    }\n",
       "\n",
       "    .dataframe tbody tr th {\n",
       "        vertical-align: top;\n",
       "    }\n",
       "\n",
       "    .dataframe thead th {\n",
       "        text-align: right;\n",
       "    }\n",
       "</style>\n",
       "<table border=\"1\" class=\"dataframe\">\n",
       "  <thead>\n",
       "    <tr style=\"text-align: right;\">\n",
       "      <th></th>\n",
       "      <th>lib</th>\n",
       "      <th>qty1</th>\n",
       "      <th>qty2</th>\n",
       "      <th>C</th>\n",
       "      <th>D</th>\n",
       "    </tr>\n",
       "  </thead>\n",
       "  <tbody>\n",
       "    <tr>\n",
       "      <th>0</th>\n",
       "      <td>0</td>\n",
       "      <td>0</td>\n",
       "      <td>0</td>\n",
       "      <td>0</td>\n",
       "      <td>0</td>\n",
       "    </tr>\n",
       "    <tr>\n",
       "      <th>1</th>\n",
       "      <td>-1</td>\n",
       "      <td>-1</td>\n",
       "      <td>0</td>\n",
       "      <td>0</td>\n",
       "      <td>0</td>\n",
       "    </tr>\n",
       "    <tr>\n",
       "      <th>2</th>\n",
       "      <td>0</td>\n",
       "      <td>0</td>\n",
       "      <td>-1</td>\n",
       "      <td>0</td>\n",
       "      <td>0</td>\n",
       "    </tr>\n",
       "    <tr>\n",
       "      <th>3</th>\n",
       "      <td>0</td>\n",
       "      <td>0</td>\n",
       "      <td>0</td>\n",
       "      <td>0</td>\n",
       "      <td>0</td>\n",
       "    </tr>\n",
       "    <tr>\n",
       "      <th>4</th>\n",
       "      <td>0</td>\n",
       "      <td>-1</td>\n",
       "      <td>-1</td>\n",
       "      <td>0</td>\n",
       "      <td>0</td>\n",
       "    </tr>\n",
       "    <tr>\n",
       "      <th>5</th>\n",
       "      <td>-1</td>\n",
       "      <td>-1</td>\n",
       "      <td>-1</td>\n",
       "      <td>0</td>\n",
       "      <td>0</td>\n",
       "    </tr>\n",
       "  </tbody>\n",
       "</table>\n",
       "</div>"
      ],
      "text/plain": [
       "  lib qty1 qty2  C  D\n",
       "0   0    0    0  0  0\n",
       "1  -1   -1    0  0  0\n",
       "2   0    0   -1  0  0\n",
       "3   0    0    0  0  0\n",
       "4   0   -1   -1  0  0\n",
       "5  -1   -1   -1  0  0"
      ]
     },
     "execution_count": 19,
     "metadata": {},
     "output_type": "execute_result"
    }
   ],
   "source": [
    "df.reindex(columns=['lib', 'qty1', 'qty2','C','D'],fill_value=0)"
   ]
  },
  {
   "cell_type": "markdown",
   "metadata": {},
   "source": [
    "### 将字符串转换为时间戳"
   ]
  },
  {
   "cell_type": "code",
   "execution_count": 20,
   "metadata": {},
   "outputs": [],
   "source": [
    "def convert_str_datetime(df): \n",
    "    '''\n",
    "    AIM    -> Convert datetime(String) to datetime(format we want)\n",
    "\n",
    "    INPUT  -> df\n",
    "\n",
    "    OUTPUT -> updated df with new datetime format \n",
    "    ------\n",
    "    '''\n",
    "    df.insert(loc=2, column='timestamp', value=pd.to_datetime(df.transdate, format='%Y-%m-%d %H:%M:%S.%f'))"
   ]
  },
  {
   "cell_type": "code",
   "execution_count": 22,
   "metadata": {},
   "outputs": [],
   "source": [
    "# # %matplotlib inline\n",
    "# # %config InlineBackend.figure_format = 'retina'\n",
    "# # import matplotlib.pyplot as plt\n",
    "# # import pandas as pd\n",
    "# # import numpy as np\n",
    "# # plt.style.use('ggplot')\n",
    "# # path = 'https://raw.githubusercontent.com/HoijanLai/dataset/master/PoliceKillingsUS.csv'\n",
    "# # data = pd.read_csv(path, encoding ='latin1')\n",
    "# # data.sample(3)\n",
    "# data.groupby(by=['race'])['age'].mean()\n",
    "# data.groupby('race')['signs_of_mental_illness'].value_counts()\n",
    "# data.groupby('race')['signs_of_mental_illness'].value_counts().unstack()\n",
    "# races = np.sort(data['race'].dropna().unique())\n",
    "# fig, axes = plt.subplots(1, len(races), figsize=(24, 4), sharey=True)\n",
    "# for ax, race in zip(axes, races):\n",
    "#     data[data['race']==race]['flee'].value_counts().sort_index().plot(kind='bar', ax=ax, title=race)"
   ]
  },
  {
   "cell_type": "markdown",
   "metadata": {},
   "source": [
    "## 排序"
   ]
  },
  {
   "cell_type": "markdown",
   "metadata": {},
   "source": [
    "### 对指定的类进行排序"
   ]
  },
  {
   "cell_type": "code",
   "execution_count": 23,
   "metadata": {},
   "outputs": [
    {
     "data": {
      "text/html": [
       "<div>\n",
       "<style scoped>\n",
       "    .dataframe tbody tr th:only-of-type {\n",
       "        vertical-align: middle;\n",
       "    }\n",
       "\n",
       "    .dataframe tbody tr th {\n",
       "        vertical-align: top;\n",
       "    }\n",
       "\n",
       "    .dataframe thead th {\n",
       "        text-align: right;\n",
       "    }\n",
       "</style>\n",
       "<table border=\"1\" class=\"dataframe\">\n",
       "  <thead>\n",
       "    <tr style=\"text-align: right;\">\n",
       "      <th></th>\n",
       "      <th>A</th>\n",
       "      <th>B</th>\n",
       "      <th>C</th>\n",
       "    </tr>\n",
       "  </thead>\n",
       "  <tbody>\n",
       "    <tr>\n",
       "      <th>5</th>\n",
       "      <td>9</td>\n",
       "      <td>0</td>\n",
       "      <td>0</td>\n",
       "    </tr>\n",
       "    <tr>\n",
       "      <th>4</th>\n",
       "      <td>7</td>\n",
       "      <td>0</td>\n",
       "      <td>7</td>\n",
       "    </tr>\n",
       "    <tr>\n",
       "      <th>2</th>\n",
       "      <td>6</td>\n",
       "      <td>5</td>\n",
       "      <td>3</td>\n",
       "    </tr>\n",
       "    <tr>\n",
       "      <th>3</th>\n",
       "      <td>6</td>\n",
       "      <td>8</td>\n",
       "      <td>8</td>\n",
       "    </tr>\n",
       "    <tr>\n",
       "      <th>0</th>\n",
       "      <td>3</td>\n",
       "      <td>2</td>\n",
       "      <td>2</td>\n",
       "    </tr>\n",
       "    <tr>\n",
       "      <th>1</th>\n",
       "      <td>3</td>\n",
       "      <td>4</td>\n",
       "      <td>4</td>\n",
       "    </tr>\n",
       "  </tbody>\n",
       "</table>\n",
       "</div>"
      ],
      "text/plain": [
       "   A  B  C\n",
       "5  9  0  0\n",
       "4  7  0  7\n",
       "2  6  5  3\n",
       "3  6  8  8\n",
       "0  3  2  2\n",
       "1  3  4  4"
      ]
     },
     "execution_count": 23,
     "metadata": {},
     "output_type": "execute_result"
    }
   ],
   "source": [
    "d = {'A': [3, 3,6, 6, 7, 9], 'B': [2,4, 5, 8, 0, 0],'C': [2,4, 3, 8, 7, 0]}\n",
    "x  =pd.DataFrame(d)\n",
    "x.sort_values(by=['A'], ascending=[False])"
   ]
  },
  {
   "cell_type": "markdown",
   "metadata": {},
   "source": [
    "### 对多个列进行排序"
   ]
  },
  {
   "cell_type": "code",
   "execution_count": 24,
   "metadata": {},
   "outputs": [
    {
     "data": {
      "text/html": [
       "<div>\n",
       "<style scoped>\n",
       "    .dataframe tbody tr th:only-of-type {\n",
       "        vertical-align: middle;\n",
       "    }\n",
       "\n",
       "    .dataframe tbody tr th {\n",
       "        vertical-align: top;\n",
       "    }\n",
       "\n",
       "    .dataframe thead th {\n",
       "        text-align: right;\n",
       "    }\n",
       "</style>\n",
       "<table border=\"1\" class=\"dataframe\">\n",
       "  <thead>\n",
       "    <tr style=\"text-align: right;\">\n",
       "      <th></th>\n",
       "      <th>A</th>\n",
       "      <th>B</th>\n",
       "      <th>C</th>\n",
       "    </tr>\n",
       "  </thead>\n",
       "  <tbody>\n",
       "    <tr>\n",
       "      <th>5</th>\n",
       "      <td>9</td>\n",
       "      <td>0</td>\n",
       "      <td>0</td>\n",
       "    </tr>\n",
       "    <tr>\n",
       "      <th>4</th>\n",
       "      <td>7</td>\n",
       "      <td>0</td>\n",
       "      <td>7</td>\n",
       "    </tr>\n",
       "    <tr>\n",
       "      <th>3</th>\n",
       "      <td>6</td>\n",
       "      <td>8</td>\n",
       "      <td>8</td>\n",
       "    </tr>\n",
       "    <tr>\n",
       "      <th>2</th>\n",
       "      <td>6</td>\n",
       "      <td>5</td>\n",
       "      <td>3</td>\n",
       "    </tr>\n",
       "    <tr>\n",
       "      <th>1</th>\n",
       "      <td>3</td>\n",
       "      <td>4</td>\n",
       "      <td>4</td>\n",
       "    </tr>\n",
       "    <tr>\n",
       "      <th>0</th>\n",
       "      <td>3</td>\n",
       "      <td>2</td>\n",
       "      <td>2</td>\n",
       "    </tr>\n",
       "  </tbody>\n",
       "</table>\n",
       "</div>"
      ],
      "text/plain": [
       "   A  B  C\n",
       "5  9  0  0\n",
       "4  7  0  7\n",
       "3  6  8  8\n",
       "2  6  5  3\n",
       "1  3  4  4\n",
       "0  3  2  2"
      ]
     },
     "execution_count": 24,
     "metadata": {},
     "output_type": "execute_result"
    }
   ],
   "source": [
    "d = {'A': [3, 3,6, 6, 7, 9], 'B': [2,4, 5, 8, 0, 0],'C': [2,4, 3, 8, 7, 0]}\n",
    "x  =pd.DataFrame(d)\n",
    "x.sort_values(by=['A','B'], ascending=[False,False])"
   ]
  },
  {
   "cell_type": "markdown",
   "metadata": {},
   "source": [
    "## 聚合函数"
   ]
  },
  {
   "cell_type": "markdown",
   "metadata": {},
   "source": [
    "### groupby函数"
   ]
  },
  {
   "cell_type": "code",
   "execution_count": 1,
   "metadata": {},
   "outputs": [
    {
     "data": {
      "text/html": [
       "<div>\n",
       "<style scoped>\n",
       "    .dataframe tbody tr th:only-of-type {\n",
       "        vertical-align: middle;\n",
       "    }\n",
       "\n",
       "    .dataframe tbody tr th {\n",
       "        vertical-align: top;\n",
       "    }\n",
       "\n",
       "    .dataframe thead th {\n",
       "        text-align: right;\n",
       "    }\n",
       "</style>\n",
       "<table border=\"1\" class=\"dataframe\">\n",
       "  <thead>\n",
       "    <tr style=\"text-align: right;\">\n",
       "      <th></th>\n",
       "      <th>B</th>\n",
       "      <th>C</th>\n",
       "    </tr>\n",
       "    <tr>\n",
       "      <th>A</th>\n",
       "      <th></th>\n",
       "      <th></th>\n",
       "    </tr>\n",
       "  </thead>\n",
       "  <tbody>\n",
       "    <tr>\n",
       "      <th>3</th>\n",
       "      <td>3.0</td>\n",
       "      <td>3.0</td>\n",
       "    </tr>\n",
       "    <tr>\n",
       "      <th>6</th>\n",
       "      <td>6.5</td>\n",
       "      <td>5.5</td>\n",
       "    </tr>\n",
       "    <tr>\n",
       "      <th>7</th>\n",
       "      <td>0.0</td>\n",
       "      <td>7.0</td>\n",
       "    </tr>\n",
       "    <tr>\n",
       "      <th>9</th>\n",
       "      <td>0.0</td>\n",
       "      <td>0.0</td>\n",
       "    </tr>\n",
       "  </tbody>\n",
       "</table>\n",
       "</div>"
      ],
      "text/plain": [
       "     B    C\n",
       "A          \n",
       "3  3.0  3.0\n",
       "6  6.5  5.5\n",
       "7  0.0  7.0\n",
       "9  0.0  0.0"
      ]
     },
     "execution_count": 1,
     "metadata": {},
     "output_type": "execute_result"
    }
   ],
   "source": [
    "import pandas as pd\n",
    "\n",
    "d = {'A': [3, 3,6, 6, 7, 9], 'B': [2,4, 5, 8, 0, 0],'C': [2,4, 3, 8, 7, 0]}\n",
    "x  =pd.DataFrame(d)\n",
    "x.groupby(by=['A']).mean()"
   ]
  },
  {
   "cell_type": "code",
   "execution_count": 2,
   "metadata": {},
   "outputs": [
    {
     "data": {
      "text/html": [
       "<div>\n",
       "<style scoped>\n",
       "    .dataframe tbody tr th:only-of-type {\n",
       "        vertical-align: middle;\n",
       "    }\n",
       "\n",
       "    .dataframe tbody tr th {\n",
       "        vertical-align: top;\n",
       "    }\n",
       "\n",
       "    .dataframe thead th {\n",
       "        text-align: right;\n",
       "    }\n",
       "</style>\n",
       "<table border=\"1\" class=\"dataframe\">\n",
       "  <thead>\n",
       "    <tr style=\"text-align: right;\">\n",
       "      <th></th>\n",
       "      <th>A</th>\n",
       "      <th>B</th>\n",
       "      <th>C</th>\n",
       "    </tr>\n",
       "  </thead>\n",
       "  <tbody>\n",
       "    <tr>\n",
       "      <th>0</th>\n",
       "      <td>3</td>\n",
       "      <td>3.0</td>\n",
       "      <td>3.0</td>\n",
       "    </tr>\n",
       "    <tr>\n",
       "      <th>1</th>\n",
       "      <td>6</td>\n",
       "      <td>6.5</td>\n",
       "      <td>5.5</td>\n",
       "    </tr>\n",
       "    <tr>\n",
       "      <th>2</th>\n",
       "      <td>7</td>\n",
       "      <td>0.0</td>\n",
       "      <td>7.0</td>\n",
       "    </tr>\n",
       "    <tr>\n",
       "      <th>3</th>\n",
       "      <td>9</td>\n",
       "      <td>0.0</td>\n",
       "      <td>0.0</td>\n",
       "    </tr>\n",
       "  </tbody>\n",
       "</table>\n",
       "</div>"
      ],
      "text/plain": [
       "   A    B    C\n",
       "0  3  3.0  3.0\n",
       "1  6  6.5  5.5\n",
       "2  7  0.0  7.0\n",
       "3  9  0.0  0.0"
      ]
     },
     "execution_count": 2,
     "metadata": {},
     "output_type": "execute_result"
    }
   ],
   "source": [
    "x.groupby(by=['A']).mean().reset_index()"
   ]
  },
  {
   "cell_type": "markdown",
   "metadata": {},
   "source": [
    "### explode用于将一行数据展开成多行"
   ]
  },
  {
   "cell_type": "code",
   "execution_count": 28,
   "metadata": {},
   "outputs": [
    {
     "data": {
      "text/html": [
       "<div>\n",
       "<style scoped>\n",
       "    .dataframe tbody tr th:only-of-type {\n",
       "        vertical-align: middle;\n",
       "    }\n",
       "\n",
       "    .dataframe tbody tr th {\n",
       "        vertical-align: top;\n",
       "    }\n",
       "\n",
       "    .dataframe thead th {\n",
       "        text-align: right;\n",
       "    }\n",
       "</style>\n",
       "<table border=\"1\" class=\"dataframe\">\n",
       "  <thead>\n",
       "    <tr style=\"text-align: right;\">\n",
       "      <th></th>\n",
       "      <th>id</th>\n",
       "      <th>measurement</th>\n",
       "      <th>day</th>\n",
       "    </tr>\n",
       "  </thead>\n",
       "  <tbody>\n",
       "    <tr>\n",
       "      <th>0</th>\n",
       "      <td>a</td>\n",
       "      <td>4</td>\n",
       "      <td>1</td>\n",
       "    </tr>\n",
       "    <tr>\n",
       "      <th>1</th>\n",
       "      <td>b</td>\n",
       "      <td>6</td>\n",
       "      <td>1</td>\n",
       "    </tr>\n",
       "    <tr>\n",
       "      <th>2</th>\n",
       "      <td>c</td>\n",
       "      <td>[2, 3, 8]</td>\n",
       "      <td>1</td>\n",
       "    </tr>\n",
       "  </tbody>\n",
       "</table>\n",
       "</div>"
      ],
      "text/plain": [
       "  id measurement  day\n",
       "0  a           4    1\n",
       "1  b           6    1\n",
       "2  c   [2, 3, 8]    1"
      ]
     },
     "execution_count": 28,
     "metadata": {},
     "output_type": "execute_result"
    }
   ],
   "source": [
    "id = ['a','b','c']\n",
    "measurement = [4,6,[2,3,8]]\n",
    "day = [1,1,1]\n",
    "df = pd.DataFrame({'id':id, 'measurement':measurement, 'day':day})\n",
    "df"
   ]
  },
  {
   "cell_type": "code",
   "execution_count": 29,
   "metadata": {},
   "outputs": [
    {
     "data": {
      "text/html": [
       "<div>\n",
       "<style scoped>\n",
       "    .dataframe tbody tr th:only-of-type {\n",
       "        vertical-align: middle;\n",
       "    }\n",
       "\n",
       "    .dataframe tbody tr th {\n",
       "        vertical-align: top;\n",
       "    }\n",
       "\n",
       "    .dataframe thead th {\n",
       "        text-align: right;\n",
       "    }\n",
       "</style>\n",
       "<table border=\"1\" class=\"dataframe\">\n",
       "  <thead>\n",
       "    <tr style=\"text-align: right;\">\n",
       "      <th></th>\n",
       "      <th>id</th>\n",
       "      <th>measurement</th>\n",
       "      <th>day</th>\n",
       "    </tr>\n",
       "  </thead>\n",
       "  <tbody>\n",
       "    <tr>\n",
       "      <th>0</th>\n",
       "      <td>a</td>\n",
       "      <td>4</td>\n",
       "      <td>1</td>\n",
       "    </tr>\n",
       "    <tr>\n",
       "      <th>1</th>\n",
       "      <td>b</td>\n",
       "      <td>6</td>\n",
       "      <td>1</td>\n",
       "    </tr>\n",
       "    <tr>\n",
       "      <th>2</th>\n",
       "      <td>c</td>\n",
       "      <td>2</td>\n",
       "      <td>1</td>\n",
       "    </tr>\n",
       "    <tr>\n",
       "      <th>3</th>\n",
       "      <td>c</td>\n",
       "      <td>3</td>\n",
       "      <td>1</td>\n",
       "    </tr>\n",
       "    <tr>\n",
       "      <th>4</th>\n",
       "      <td>c</td>\n",
       "      <td>8</td>\n",
       "      <td>1</td>\n",
       "    </tr>\n",
       "  </tbody>\n",
       "</table>\n",
       "</div>"
      ],
      "text/plain": [
       "  id measurement  day\n",
       "0  a           4    1\n",
       "1  b           6    1\n",
       "2  c           2    1\n",
       "3  c           3    1\n",
       "4  c           8    1"
      ]
     },
     "execution_count": 29,
     "metadata": {},
     "output_type": "execute_result"
    }
   ],
   "source": [
    "df.explode('measurement').reset_index(drop=True)"
   ]
  },
  {
   "cell_type": "markdown",
   "metadata": {},
   "source": [
    "### Nunique 用于计算行或列上唯一值的数量，即去重后计数\n",
    "\n",
    "* Series.nunique(dropna=True)\n",
    "\n",
    "* DataFrame.nunique(axis=0, dropna=True)\n",
    "    \n",
    "- [ ] axis：int型，0代表行，1代表列，默认0；\n",
    "- [ ] dropna：bool类型，默认为True，计数中不包括NaN；"
   ]
  },
  {
   "cell_type": "code",
   "execution_count": 35,
   "metadata": {},
   "outputs": [
    {
     "name": "stdout",
     "output_type": "stream",
     "text": [
      "id             3\n",
      "measurement    2\n",
      "day            1\n",
      "dtype: int64\n",
      "measurement: 2\n"
     ]
    }
   ],
   "source": [
    "id = ['a','b','c']\n",
    "measurement = [4,6,4]\n",
    "day = [1,1,1]\n",
    "df = pd.DataFrame({'id':id, 'measurement':measurement, 'day':day})\n",
    "print(df.nunique(axis=0, dropna=True))\n",
    "print(\"measurement:\",df.measurement.nunique())"
   ]
  },
  {
   "cell_type": "markdown",
   "metadata": {},
   "source": [
    "### infer_objects 直接将df或者series推断为合适的数据类型\n",
    "* DataFrame.infer_objects()"
   ]
  },
  {
   "cell_type": "code",
   "execution_count": 38,
   "metadata": {},
   "outputs": [
    {
     "name": "stdout",
     "output_type": "stream",
     "text": [
      "A    object\n",
      "dtype: object \n",
      " A    int64\n",
      "dtype: object\n"
     ]
    }
   ],
   "source": [
    "df = pd.DataFrame({\"A\": [\"a\", 1, 2, 3]})\n",
    "df = df.iloc[1:]\n",
    "print(df.dtypes, \"\\n\",df.infer_objects().dtypes)"
   ]
  },
  {
   "cell_type": "markdown",
   "metadata": {},
   "source": [
    "### replace函数"
   ]
  },
  {
   "cell_type": "code",
   "execution_count": 40,
   "metadata": {},
   "outputs": [
    {
     "data": {
      "text/html": [
       "<div>\n",
       "<style scoped>\n",
       "    .dataframe tbody tr th:only-of-type {\n",
       "        vertical-align: middle;\n",
       "    }\n",
       "\n",
       "    .dataframe tbody tr th {\n",
       "        vertical-align: top;\n",
       "    }\n",
       "\n",
       "    .dataframe thead th {\n",
       "        text-align: right;\n",
       "    }\n",
       "</style>\n",
       "<table border=\"1\" class=\"dataframe\">\n",
       "  <thead>\n",
       "    <tr style=\"text-align: right;\">\n",
       "      <th></th>\n",
       "      <th>group</th>\n",
       "      <th>year</th>\n",
       "      <th>value_1</th>\n",
       "      <th>value_2</th>\n",
       "    </tr>\n",
       "  </thead>\n",
       "  <tbody>\n",
       "    <tr>\n",
       "      <th>0</th>\n",
       "      <td>A</td>\n",
       "      <td>2010</td>\n",
       "      <td>0</td>\n",
       "      <td>5</td>\n",
       "    </tr>\n",
       "    <tr>\n",
       "      <th>1</th>\n",
       "      <td>A</td>\n",
       "      <td>2011</td>\n",
       "      <td>7</td>\n",
       "      <td>7</td>\n",
       "    </tr>\n",
       "    <tr>\n",
       "      <th>2</th>\n",
       "      <td>E</td>\n",
       "      <td>2012</td>\n",
       "      <td>2</td>\n",
       "      <td>4</td>\n",
       "    </tr>\n",
       "    <tr>\n",
       "      <th>3</th>\n",
       "      <td>A</td>\n",
       "      <td>2013</td>\n",
       "      <td>0</td>\n",
       "      <td>4</td>\n",
       "    </tr>\n",
       "    <tr>\n",
       "      <th>4</th>\n",
       "      <td>E</td>\n",
       "      <td>2014</td>\n",
       "      <td>7</td>\n",
       "      <td>9</td>\n",
       "    </tr>\n",
       "    <tr>\n",
       "      <th>5</th>\n",
       "      <td>E</td>\n",
       "      <td>2015</td>\n",
       "      <td>0</td>\n",
       "      <td>2</td>\n",
       "    </tr>\n",
       "    <tr>\n",
       "      <th>6</th>\n",
       "      <td>F</td>\n",
       "      <td>2016</td>\n",
       "      <td>8</td>\n",
       "      <td>8</td>\n",
       "    </tr>\n",
       "    <tr>\n",
       "      <th>7</th>\n",
       "      <td>A</td>\n",
       "      <td>2017</td>\n",
       "      <td>2</td>\n",
       "      <td>2</td>\n",
       "    </tr>\n",
       "    <tr>\n",
       "      <th>8</th>\n",
       "      <td>F</td>\n",
       "      <td>2018</td>\n",
       "      <td>9</td>\n",
       "      <td>5</td>\n",
       "    </tr>\n",
       "    <tr>\n",
       "      <th>9</th>\n",
       "      <td>F</td>\n",
       "      <td>2019</td>\n",
       "      <td>5</td>\n",
       "      <td>6</td>\n",
       "    </tr>\n",
       "  </tbody>\n",
       "</table>\n",
       "</div>"
      ],
      "text/plain": [
       "  group  year  value_1  value_2\n",
       "0     A  2010        0        5\n",
       "1     A  2011        7        7\n",
       "2     E  2012        2        4\n",
       "3     A  2013        0        4\n",
       "4     E  2014        7        9\n",
       "5     E  2015        0        2\n",
       "6     F  2016        8        8\n",
       "7     A  2017        2        2\n",
       "8     F  2018        9        5\n",
       "9     F  2019        5        6"
      ]
     },
     "execution_count": 40,
     "metadata": {},
     "output_type": "execute_result"
    }
   ],
   "source": [
    "values_1 = np.random.randint(10, size=10)\n",
    "values_2 = np.random.randint(10, size=10)\n",
    "years = np.arange(2010,2020)\n",
    "groups = ['A','A','B','A','B','B','C','A','C','C']\n",
    "df = pd.DataFrame({'group':groups, 'year':years, 'value_1':values_1, 'value_2':values_2})\n",
    "\n",
    "df.replace('A','D') #将A全部替换为D：\n",
    "df.replace({'B':'E','C':'F'}) #将B替换为E，C替换为F："
   ]
  },
  {
   "cell_type": "markdown",
   "metadata": {},
   "source": [
    "### memory_usage函数"
   ]
  },
  {
   "cell_type": "code",
   "execution_count": 42,
   "metadata": {},
   "outputs": [
    {
     "data": {
      "text/plain": [
       "Index      128\n",
       "group       80\n",
       "year        80\n",
       "value_1     80\n",
       "value_2     80\n",
       "dtype: int64"
      ]
     },
     "execution_count": 42,
     "metadata": {},
     "output_type": "execute_result"
    }
   ],
   "source": [
    "df.memory_usage()"
   ]
  },
  {
   "cell_type": "markdown",
   "metadata": {},
   "source": [
    "### 重新命名列"
   ]
  },
  {
   "cell_type": "code",
   "execution_count": 35,
   "metadata": {},
   "outputs": [
    {
     "data": {
      "text/html": [
       "<div>\n",
       "<style scoped>\n",
       "    .dataframe tbody tr th:only-of-type {\n",
       "        vertical-align: middle;\n",
       "    }\n",
       "\n",
       "    .dataframe tbody tr th {\n",
       "        vertical-align: top;\n",
       "    }\n",
       "\n",
       "    .dataframe thead th {\n",
       "        text-align: right;\n",
       "    }\n",
       "</style>\n",
       "<table border=\"1\" class=\"dataframe\">\n",
       "  <thead>\n",
       "    <tr style=\"text-align: right;\">\n",
       "      <th></th>\n",
       "      <th>A</th>\n",
       "      <th>B</th>\n",
       "      <th>size</th>\n",
       "    </tr>\n",
       "  </thead>\n",
       "  <tbody>\n",
       "    <tr>\n",
       "      <th>0</th>\n",
       "      <td>6</td>\n",
       "      <td>2</td>\n",
       "      <td>2</td>\n",
       "    </tr>\n",
       "    <tr>\n",
       "      <th>1</th>\n",
       "      <td>6</td>\n",
       "      <td>4</td>\n",
       "      <td>4</td>\n",
       "    </tr>\n",
       "    <tr>\n",
       "      <th>2</th>\n",
       "      <td>12</td>\n",
       "      <td>5</td>\n",
       "      <td>3</td>\n",
       "    </tr>\n",
       "    <tr>\n",
       "      <th>3</th>\n",
       "      <td>12</td>\n",
       "      <td>8</td>\n",
       "      <td>8</td>\n",
       "    </tr>\n",
       "    <tr>\n",
       "      <th>4</th>\n",
       "      <td>14</td>\n",
       "      <td>0</td>\n",
       "      <td>7</td>\n",
       "    </tr>\n",
       "    <tr>\n",
       "      <th>5</th>\n",
       "      <td>18</td>\n",
       "      <td>0</td>\n",
       "      <td>0</td>\n",
       "    </tr>\n",
       "  </tbody>\n",
       "</table>\n",
       "</div>"
      ],
      "text/plain": [
       "    A  B  size\n",
       "0   6  2     2\n",
       "1   6  4     4\n",
       "2  12  5     3\n",
       "3  12  8     8\n",
       "4  14  0     7\n",
       "5  18  0     0"
      ]
     },
     "execution_count": 35,
     "metadata": {},
     "output_type": "execute_result"
    }
   ],
   "source": [
    "df.rename(columns = {df.columns[2]:'size'}, inplace=True)\n",
    "df"
   ]
  },
  {
   "attachments": {
    "285b88ef-57b7-4118-82e7-3cb6881f9fd2.png": {
     "image/png": "[encoded data removed]"
    },
    "33deae93-8688-441a-a455-525bedaf005a.png": {
     "image/png": "[encoded data removed]"
    }
   },
   "cell_type": "markdown",
   "metadata": {},
   "source": [
    "## io接口\n",
    "\n",
    "* csv\n",
    "* excel\n",
    "* hdf5\n",
    "![image.png](attachment:33deae93-8688-441a-a455-525bedaf005a.png)![image.png](attachment:285b88ef-57b7-4118-82e7-3cb6881f9fd2.png)"
   ]
  },
  {
   "cell_type": "code",
   "execution_count": null,
   "metadata": {},
   "outputs": [],
   "source": []
  },
  {
   "cell_type": "code",
   "execution_count": null,
   "metadata": {},
   "outputs": [],
   "source": []
  },
  {
   "cell_type": "markdown",
   "metadata": {},
   "source": [
    "### 保存和读取csv文件\n",
    "* pd.to_csv(\"xxxx.csv\", index=False)\n",
    "* pd.read_csv(\"xxx.csv\")\n"
   ]
  },
  {
   "cell_type": "code",
   "execution_count": null,
   "metadata": {},
   "outputs": [],
   "source": [
    "import pandas as pd\n",
    "\n",
    "store = pd.HDFStore('demo.h5')\n",
    "'''查看store类型'''\n",
    "print(store)"
   ]
  },
  {
   "cell_type": "code",
   "execution_count": 44,
   "metadata": {},
   "outputs": [
    {
     "data": {
      "text/plain": [
       "<bound method HDFStore.items of <class 'pandas.io.pytables.HDFStore'>\n",
       "File path: demo.h5\n",
       ">"
      ]
     },
     "execution_count": 44,
     "metadata": {},
     "output_type": "execute_result"
    }
   ],
   "source": [
    "import numpy as np\n",
    "\n",
    "#创建一个series对象\n",
    "s = pd.Series(np.random.randn(5), index=['a', 'b', 'c', 'd', 'e'])\n",
    "\n",
    "#创建一个dataframe对象\n",
    "df = pd.DataFrame(np.random.randn(8, 3),\n",
    "                 columns=['A', 'B', 'C'])\n",
    "\n",
    "#插入键值\n",
    "store['s'], store['df'] = s, df  #利用键值对将不同的数据存入store对象中\n",
    "# store.put(key='s', value=s);store.put(key='df', value=df)  #使用put()方法将数据存入store对象中：\n",
    "\n",
    "# 删除对应的键值\n",
    "# store.remove('s') \n",
    "# del store['s']  \n",
    "\n",
    "store.items"
   ]
  },
  {
   "cell_type": "code",
   "execution_count": 45,
   "metadata": {},
   "outputs": [
    {
     "data": {
      "text/html": [
       "<div>\n",
       "<style scoped>\n",
       "    .dataframe tbody tr th:only-of-type {\n",
       "        vertical-align: middle;\n",
       "    }\n",
       "\n",
       "    .dataframe tbody tr th {\n",
       "        vertical-align: top;\n",
       "    }\n",
       "\n",
       "    .dataframe thead th {\n",
       "        text-align: right;\n",
       "    }\n",
       "</style>\n",
       "<table border=\"1\" class=\"dataframe\">\n",
       "  <thead>\n",
       "    <tr style=\"text-align: right;\">\n",
       "      <th></th>\n",
       "      <th>A</th>\n",
       "      <th>B</th>\n",
       "      <th>C</th>\n",
       "    </tr>\n",
       "  </thead>\n",
       "  <tbody>\n",
       "    <tr>\n",
       "      <th>0</th>\n",
       "      <td>-0.197898</td>\n",
       "      <td>0.954950</td>\n",
       "      <td>0.425507</td>\n",
       "    </tr>\n",
       "    <tr>\n",
       "      <th>1</th>\n",
       "      <td>1.171126</td>\n",
       "      <td>-0.183754</td>\n",
       "      <td>-0.290026</td>\n",
       "    </tr>\n",
       "    <tr>\n",
       "      <th>2</th>\n",
       "      <td>-0.019126</td>\n",
       "      <td>-1.145156</td>\n",
       "      <td>0.176075</td>\n",
       "    </tr>\n",
       "    <tr>\n",
       "      <th>3</th>\n",
       "      <td>-0.919408</td>\n",
       "      <td>0.408087</td>\n",
       "      <td>-1.042026</td>\n",
       "    </tr>\n",
       "    <tr>\n",
       "      <th>4</th>\n",
       "      <td>0.241265</td>\n",
       "      <td>-2.046131</td>\n",
       "      <td>-0.591375</td>\n",
       "    </tr>\n",
       "    <tr>\n",
       "      <th>5</th>\n",
       "      <td>-2.405437</td>\n",
       "      <td>0.441058</td>\n",
       "      <td>-0.116413</td>\n",
       "    </tr>\n",
       "    <tr>\n",
       "      <th>6</th>\n",
       "      <td>-1.537260</td>\n",
       "      <td>-1.395021</td>\n",
       "      <td>0.938024</td>\n",
       "    </tr>\n",
       "    <tr>\n",
       "      <th>7</th>\n",
       "      <td>-0.420074</td>\n",
       "      <td>1.093723</td>\n",
       "      <td>-1.367957</td>\n",
       "    </tr>\n",
       "  </tbody>\n",
       "</table>\n",
       "</div>"
      ],
      "text/plain": [
       "          A         B         C\n",
       "0 -0.197898  0.954950  0.425507\n",
       "1  1.171126 -0.183754 -0.290026\n",
       "2 -0.019126 -1.145156  0.176075\n",
       "3 -0.919408  0.408087 -1.042026\n",
       "4  0.241265 -2.046131 -0.591375\n",
       "5 -2.405437  0.441058 -0.116413\n",
       "6 -1.537260 -1.395021  0.938024\n",
       "7 -0.420074  1.093723 -1.367957"
      ]
     },
     "execution_count": 45,
     "metadata": {},
     "output_type": "execute_result"
    }
   ],
   "source": [
    "store['df']"
   ]
  },
  {
   "cell_type": "markdown",
   "metadata": {},
   "source": [
    "### 保存到hdf5文件中"
   ]
  },
  {
   "cell_type": "code",
   "execution_count": 46,
   "metadata": {},
   "outputs": [
    {
     "name": "stdout",
     "output_type": "stream",
     "text": [
      "['/df', '/df_', '/s']\n"
     ]
    }
   ],
   "source": [
    "#创建新的数据框\n",
    "df_ = pd.DataFrame(np.random.randn(5,5))\n",
    "#导出到已存在的h5文件中，这里需要指定key\n",
    "df_.to_hdf(path_or_buf='demo.h5',key='df_')\n",
    "#创建于本地demo.h5进行IO连接的store对象\n",
    "store = pd.HDFStore('demo.h5')\n",
    "#查看指定h5对象中的所有键\n",
    "print(store.keys())"
   ]
  },
  {
   "cell_type": "markdown",
   "metadata": {},
   "source": [
    "### 读取hdf5文件"
   ]
  },
  {
   "cell_type": "code",
   "execution_count": 47,
   "metadata": {},
   "outputs": [
    {
     "data": {
      "text/html": [
       "<div>\n",
       "<style scoped>\n",
       "    .dataframe tbody tr th:only-of-type {\n",
       "        vertical-align: middle;\n",
       "    }\n",
       "\n",
       "    .dataframe tbody tr th {\n",
       "        vertical-align: top;\n",
       "    }\n",
       "\n",
       "    .dataframe thead th {\n",
       "        text-align: right;\n",
       "    }\n",
       "</style>\n",
       "<table border=\"1\" class=\"dataframe\">\n",
       "  <thead>\n",
       "    <tr style=\"text-align: right;\">\n",
       "      <th></th>\n",
       "      <th>A</th>\n",
       "      <th>B</th>\n",
       "      <th>C</th>\n",
       "    </tr>\n",
       "  </thead>\n",
       "  <tbody>\n",
       "    <tr>\n",
       "      <th>0</th>\n",
       "      <td>True</td>\n",
       "      <td>True</td>\n",
       "      <td>True</td>\n",
       "    </tr>\n",
       "    <tr>\n",
       "      <th>1</th>\n",
       "      <td>True</td>\n",
       "      <td>True</td>\n",
       "      <td>True</td>\n",
       "    </tr>\n",
       "    <tr>\n",
       "      <th>2</th>\n",
       "      <td>True</td>\n",
       "      <td>True</td>\n",
       "      <td>True</td>\n",
       "    </tr>\n",
       "    <tr>\n",
       "      <th>3</th>\n",
       "      <td>True</td>\n",
       "      <td>True</td>\n",
       "      <td>True</td>\n",
       "    </tr>\n",
       "    <tr>\n",
       "      <th>4</th>\n",
       "      <td>True</td>\n",
       "      <td>True</td>\n",
       "      <td>True</td>\n",
       "    </tr>\n",
       "    <tr>\n",
       "      <th>5</th>\n",
       "      <td>True</td>\n",
       "      <td>True</td>\n",
       "      <td>True</td>\n",
       "    </tr>\n",
       "    <tr>\n",
       "      <th>6</th>\n",
       "      <td>True</td>\n",
       "      <td>True</td>\n",
       "      <td>True</td>\n",
       "    </tr>\n",
       "    <tr>\n",
       "      <th>7</th>\n",
       "      <td>True</td>\n",
       "      <td>True</td>\n",
       "      <td>True</td>\n",
       "    </tr>\n",
       "  </tbody>\n",
       "</table>\n",
       "</div>"
      ],
      "text/plain": [
       "      A     B     C\n",
       "0  True  True  True\n",
       "1  True  True  True\n",
       "2  True  True  True\n",
       "3  True  True  True\n",
       "4  True  True  True\n",
       "5  True  True  True\n",
       "6  True  True  True\n",
       "7  True  True  True"
      ]
     },
     "execution_count": 47,
     "metadata": {},
     "output_type": "execute_result"
    }
   ],
   "source": [
    "store = pd.HDFStore('demo.h5')\n",
    "\n",
    "'''方式1'''\n",
    "df1 = store['df']\n",
    "'''方式2'''\n",
    "df2 = store.get('df')\n"
   ]
  },
  {
   "cell_type": "markdown",
   "metadata": {},
   "source": [
    "### hdf5 vs csv性能比较"
   ]
  },
  {
   "cell_type": "code",
   "execution_count": 52,
   "metadata": {},
   "outputs": [
    {
     "name": "stdout",
     "output_type": "stream",
     "text": [
      "HDF5存储用时0.023400068283081055秒\n",
      "csv存储用时8.149113893508911秒\n"
     ]
    }
   ],
   "source": [
    "import pandas as pd\n",
    "import numpy as np\n",
    "import time\n",
    "\n",
    "store = pd.HDFStore('store.h5')\n",
    "#生成一个1亿行，5列的标准正态分布随机数表\n",
    "df = pd.DataFrame(np.random.rand(1000000,5))\n",
    "start1 = time.time()\n",
    "store['df'] = df\n",
    "store.close()\n",
    "print(f'HDF5存储用时{time.time()-start1}秒')\n",
    "start2 = time.time()\n",
    "df.to_csv('df.csv',index=False)\n",
    "print(f'csv存储用时{time.time()-start2}秒')"
   ]
  },
  {
   "cell_type": "markdown",
   "metadata": {},
   "source": [
    "## 常用函数"
   ]
  },
  {
   "cell_type": "markdown",
   "metadata": {},
   "source": [
    "### 计算变量缺失率"
   ]
  },
  {
   "cell_type": "code",
   "execution_count": null,
   "metadata": {},
   "outputs": [],
   "source": [
    "# 如果需要计算样本的缺失率分布，只要加上参数axis=1.\n",
    "def missing_cal(df):\n",
    "    \"\"\"\n",
    "    df :数据集\n",
    "    \n",
    "    return：每个变量的缺失率\n",
    "    \"\"\"\n",
    "    missing_series = df.isnull().sum()/df.shape[0]\n",
    "    missing_df = pd.DataFrame(missing_series).reset_index()\n",
    "    missing_df = missing_df.rename(columns={'index':'col',\n",
    "                                            0:'missing_pct'})\n",
    "    missing_df = missing_df.sort_values('missing_pct',ascending=False).reset_index(drop=True)\n",
    "    return missing_df\n"
   ]
  },
  {
   "cell_type": "markdown",
   "metadata": {},
   "source": [
    "### 获取分组里最大值所在的行方法"
   ]
  },
  {
   "cell_type": "code",
   "execution_count": 55,
   "metadata": {},
   "outputs": [],
   "source": [
    "df = pd.DataFrame({'Sp':['a','b','c','d','e','f'], 'Mt':['s1', 's1', 's2','s2','s2','s3'], 'Value':[1,2,3,4,5,6], 'Count':[3,2,5,10,10,6]})\n",
    "df.iloc[df.groupby(['Mt']).apply(lambda x: x['Count'].idxmax())]\n",
    "\n",
    "\n",
    "# 对ID进行分组之后再对分数应用rank函数，分数相同的情况会赋予相同的排名，然后取出排名为1的数据。\n",
    "# df[\"rank\"] = df.groupby(\"ID\")[\"score\"].rank(method=\"min\", ascending=False).astype(np.int64)\n",
    "# df[df[\"rank\"] == 1][[\"ID\", \"class\"]]"
   ]
  },
  {
   "cell_type": "markdown",
   "metadata": {},
   "source": [
    "### 多列合并为一行"
   ]
  },
  {
   "cell_type": "code",
   "execution_count": 58,
   "metadata": {},
   "outputs": [
    {
     "name": "stdout",
     "output_type": "stream",
     "text": [
      "  id_part  pred pred_class v_id\n",
      "0       a   0.1      women   d1\n",
      "1       b   0.2        man   d2\n",
      "2       c   0.3        cat   d3\n",
      "3       d   0.4        dog   d1\n"
     ]
    },
    {
     "data": {
      "text/html": [
       "<div>\n",
       "<style scoped>\n",
       "    .dataframe tbody tr th:only-of-type {\n",
       "        vertical-align: middle;\n",
       "    }\n",
       "\n",
       "    .dataframe tbody tr th {\n",
       "        vertical-align: top;\n",
       "    }\n",
       "\n",
       "    .dataframe thead tr th {\n",
       "        text-align: left;\n",
       "    }\n",
       "</style>\n",
       "<table border=\"1\" class=\"dataframe\">\n",
       "  <thead>\n",
       "    <tr>\n",
       "      <th></th>\n",
       "      <th>v_id</th>\n",
       "      <th>pred_class</th>\n",
       "      <th>pred</th>\n",
       "      <th>id_part</th>\n",
       "    </tr>\n",
       "    <tr>\n",
       "      <th></th>\n",
       "      <th></th>\n",
       "      <th>join</th>\n",
       "      <th>&lt;lambda&gt;</th>\n",
       "      <th>first</th>\n",
       "    </tr>\n",
       "  </thead>\n",
       "  <tbody>\n",
       "    <tr>\n",
       "      <th>0</th>\n",
       "      <td>d1</td>\n",
       "      <td>women, dog</td>\n",
       "      <td>[0.1, 0.4]</td>\n",
       "      <td>a</td>\n",
       "    </tr>\n",
       "    <tr>\n",
       "      <th>1</th>\n",
       "      <td>d2</td>\n",
       "      <td>man</td>\n",
       "      <td>[0.2]</td>\n",
       "      <td>b</td>\n",
       "    </tr>\n",
       "    <tr>\n",
       "      <th>2</th>\n",
       "      <td>d3</td>\n",
       "      <td>cat</td>\n",
       "      <td>[0.3]</td>\n",
       "      <td>c</td>\n",
       "    </tr>\n",
       "  </tbody>\n",
       "</table>\n",
       "</div>"
      ],
      "text/plain": [
       "  v_id  pred_class        pred id_part\n",
       "              join    <lambda>   first\n",
       "0   d1  women, dog  [0.1, 0.4]       a\n",
       "1   d2         man       [0.2]       b\n",
       "2   d3         cat       [0.3]       c"
      ]
     },
     "execution_count": 58,
     "metadata": {},
     "output_type": "execute_result"
    }
   ],
   "source": [
    "df = pd.DataFrame({'id_part':['a','b','c','d'], 'pred':[0.1,0.2,0.3,0.4], 'pred_class':['women','man','cat','dog'], 'v_id':['d1','d2','d3','d1']})\n",
    "print(df)\n",
    "df.groupby(['v_id']).agg({'pred_class': [', '.join],'pred': lambda x: list(x),\n",
    "'id_part': 'first'}).reset_index()"
   ]
  },
  {
   "cell_type": "markdown",
   "metadata": {},
   "source": [
    "### 删除包含特定字符串所在的行"
   ]
  },
  {
   "cell_type": "code",
   "execution_count": 59,
   "metadata": {},
   "outputs": [
    {
     "data": {
      "text/html": [
       "<div>\n",
       "<style scoped>\n",
       "    .dataframe tbody tr th:only-of-type {\n",
       "        vertical-align: middle;\n",
       "    }\n",
       "\n",
       "    .dataframe tbody tr th {\n",
       "        vertical-align: top;\n",
       "    }\n",
       "\n",
       "    .dataframe thead th {\n",
       "        text-align: right;\n",
       "    }\n",
       "</style>\n",
       "<table border=\"1\" class=\"dataframe\">\n",
       "  <thead>\n",
       "    <tr style=\"text-align: right;\">\n",
       "      <th></th>\n",
       "      <th>a</th>\n",
       "      <th>b</th>\n",
       "      <th>c</th>\n",
       "      <th>d</th>\n",
       "    </tr>\n",
       "  </thead>\n",
       "  <tbody>\n",
       "    <tr>\n",
       "      <th>1</th>\n",
       "      <td>2</td>\n",
       "      <td>exp_s2</td>\n",
       "      <td>6</td>\n",
       "      <td>2</td>\n",
       "    </tr>\n",
       "    <tr>\n",
       "      <th>3</th>\n",
       "      <td>4</td>\n",
       "      <td>exps4</td>\n",
       "      <td>8</td>\n",
       "      <td>10</td>\n",
       "    </tr>\n",
       "  </tbody>\n",
       "</table>\n",
       "</div>"
      ],
      "text/plain": [
       "   a       b  c   d\n",
       "1  2  exp_s2  6   2\n",
       "3  4   exps4  8  10"
      ]
     },
     "execution_count": 59,
     "metadata": {},
     "output_type": "execute_result"
    }
   ],
   "source": [
    "df = pd.DataFrame({'a':[1,2,3,4], 'b':['s1', 'exp_s2', 's3','exps4'], 'c':[5,6,7,8], 'd':[3,2,5,10]})\n",
    "df[df['b'].str.contains('exp')]"
   ]
  },
  {
   "cell_type": "markdown",
   "metadata": {},
   "source": [
    "### 组内排序"
   ]
  },
  {
   "cell_type": "code",
   "execution_count": 61,
   "metadata": {},
   "outputs": [
    {
     "data": {
      "text/html": [
       "<div>\n",
       "<style scoped>\n",
       "    .dataframe tbody tr th:only-of-type {\n",
       "        vertical-align: middle;\n",
       "    }\n",
       "\n",
       "    .dataframe tbody tr th {\n",
       "        vertical-align: top;\n",
       "    }\n",
       "\n",
       "    .dataframe thead th {\n",
       "        text-align: right;\n",
       "    }\n",
       "</style>\n",
       "<table border=\"1\" class=\"dataframe\">\n",
       "  <thead>\n",
       "    <tr style=\"text-align: right;\">\n",
       "      <th></th>\n",
       "      <th>name</th>\n",
       "      <th>score</th>\n",
       "    </tr>\n",
       "  </thead>\n",
       "  <tbody>\n",
       "    <tr>\n",
       "      <th>0</th>\n",
       "      <td>A</td>\n",
       "      <td>1</td>\n",
       "    </tr>\n",
       "    <tr>\n",
       "      <th>1</th>\n",
       "      <td>A</td>\n",
       "      <td>3</td>\n",
       "    </tr>\n",
       "    <tr>\n",
       "      <th>2</th>\n",
       "      <td>A</td>\n",
       "      <td>2</td>\n",
       "    </tr>\n",
       "    <tr>\n",
       "      <th>3</th>\n",
       "      <td>B</td>\n",
       "      <td>5</td>\n",
       "    </tr>\n",
       "    <tr>\n",
       "      <th>4</th>\n",
       "      <td>B</td>\n",
       "      <td>9</td>\n",
       "    </tr>\n",
       "  </tbody>\n",
       "</table>\n",
       "</div>"
      ],
      "text/plain": [
       "  name  score\n",
       "0    A      1\n",
       "1    A      3\n",
       "2    A      2\n",
       "3    B      5\n",
       "4    B      9"
      ]
     },
     "execution_count": 61,
     "metadata": {},
     "output_type": "execute_result"
    }
   ],
   "source": [
    "df = pd.DataFrame([['A',1],['A',3],['A',2],['B',5],['B',9]], columns = ['name','score'])\n",
    "df"
   ]
  },
  {
   "cell_type": "code",
   "execution_count": 62,
   "metadata": {},
   "outputs": [
    {
     "data": {
      "text/html": [
       "<div>\n",
       "<style scoped>\n",
       "    .dataframe tbody tr th:only-of-type {\n",
       "        vertical-align: middle;\n",
       "    }\n",
       "\n",
       "    .dataframe tbody tr th {\n",
       "        vertical-align: top;\n",
       "    }\n",
       "\n",
       "    .dataframe thead th {\n",
       "        text-align: right;\n",
       "    }\n",
       "</style>\n",
       "<table border=\"1\" class=\"dataframe\">\n",
       "  <thead>\n",
       "    <tr style=\"text-align: right;\">\n",
       "      <th></th>\n",
       "      <th>name</th>\n",
       "      <th>score</th>\n",
       "    </tr>\n",
       "  </thead>\n",
       "  <tbody>\n",
       "    <tr>\n",
       "      <th>0</th>\n",
       "      <td>A</td>\n",
       "      <td>3</td>\n",
       "    </tr>\n",
       "    <tr>\n",
       "      <th>1</th>\n",
       "      <td>A</td>\n",
       "      <td>2</td>\n",
       "    </tr>\n",
       "    <tr>\n",
       "      <th>2</th>\n",
       "      <td>A</td>\n",
       "      <td>1</td>\n",
       "    </tr>\n",
       "    <tr>\n",
       "      <th>3</th>\n",
       "      <td>B</td>\n",
       "      <td>9</td>\n",
       "    </tr>\n",
       "    <tr>\n",
       "      <th>4</th>\n",
       "      <td>B</td>\n",
       "      <td>5</td>\n",
       "    </tr>\n",
       "  </tbody>\n",
       "</table>\n",
       "</div>"
      ],
      "text/plain": [
       "  name  score\n",
       "0    A      3\n",
       "1    A      2\n",
       "2    A      1\n",
       "3    B      9\n",
       "4    B      5"
      ]
     },
     "execution_count": 62,
     "metadata": {},
     "output_type": "execute_result"
    }
   ],
   "source": [
    "df.sort_values(['name','score'], ascending = [True,False]) #方式1\n",
    "df.groupby('name').apply(lambda x: x.sort_values('score', ascending=False)).reset_index(drop=True) #方式2"
   ]
  },
  {
   "cell_type": "markdown",
   "metadata": {},
   "source": [
    "### 选择特定类型的列"
   ]
  },
  {
   "cell_type": "code",
   "execution_count": 63,
   "metadata": {},
   "outputs": [],
   "source": [
    "# # 选择所有数值型的列\n",
    "# drinks.select_dtypes(include=['number']).head()\n",
    "# # 选择所有字符型的列\n",
    "# drinks.select_dtypes(include=['object']).head()\n",
    "# drinks.select_dtypes(include=['number','object','category','datetime']).head()\n",
    "# # 用 exclude 关键字排除指定的数据类型\n",
    "# drinks.select_dtypes(exclude=['number']).head()\n"
   ]
  },
  {
   "cell_type": "markdown",
   "metadata": {},
   "source": [
    "### 字符串转换为数值"
   ]
  },
  {
   "cell_type": "code",
   "execution_count": 64,
   "metadata": {},
   "outputs": [],
   "source": [
    "# df = df.apply(pd.to_numeric, errors='coerce').fillna(0)"
   ]
  },
  {
   "cell_type": "markdown",
   "metadata": {},
   "source": [
    "### 优化 DataFrame 对内存的占用\n",
    "\n",
    "* 只读取切实所需的列，使用usecols参数\n",
    "```\n",
    "cols = ['beer_servings','continent']\n",
    "small_drinks = pd.read_csv('data/drinks.csv', usecols=cols)\n",
    "\n",
    "```\n",
    "* 把包含类别型数据的 object 列转换为 Category 数据类型，通过指定 dtype 参数实现。\n",
    "\n",
    "```\n",
    "dtypes ={'continent':'category'}\n",
    "smaller_drinks = pd.read_csv('data/drinks.csv',usecols=cols, dtype=dtypes)\n",
    "```\n"
   ]
  },
  {
   "cell_type": "markdown",
   "metadata": {},
   "source": [
    "### 根据最大的类别筛选 DataFrame"
   ]
  },
  {
   "cell_type": "code",
   "execution_count": null,
   "metadata": {},
   "outputs": [],
   "source": [
    "movies = pd.read_csv('data/imdb_1000.csv')\n",
    "counts = movies.genre.value_counts()\n",
    "movies[movies.genre.isin(counts.nlargest(3).index)].head()"
   ]
  },
  {
   "cell_type": "markdown",
   "metadata": {},
   "source": [
    "### 把字符串分割为多列"
   ]
  },
  {
   "cell_type": "code",
   "execution_count": 65,
   "metadata": {},
   "outputs": [
    {
     "data": {
      "text/html": [
       "<div>\n",
       "<style scoped>\n",
       "    .dataframe tbody tr th:only-of-type {\n",
       "        vertical-align: middle;\n",
       "    }\n",
       "\n",
       "    .dataframe tbody tr th {\n",
       "        vertical-align: top;\n",
       "    }\n",
       "\n",
       "    .dataframe thead th {\n",
       "        text-align: right;\n",
       "    }\n",
       "</style>\n",
       "<table border=\"1\" class=\"dataframe\">\n",
       "  <thead>\n",
       "    <tr style=\"text-align: right;\">\n",
       "      <th></th>\n",
       "      <th>0</th>\n",
       "      <th>1</th>\n",
       "    </tr>\n",
       "  </thead>\n",
       "  <tbody>\n",
       "    <tr>\n",
       "      <th>0</th>\n",
       "      <td>张</td>\n",
       "      <td>三</td>\n",
       "    </tr>\n",
       "    <tr>\n",
       "      <th>1</th>\n",
       "      <td>李</td>\n",
       "      <td>四</td>\n",
       "    </tr>\n",
       "    <tr>\n",
       "      <th>2</th>\n",
       "      <td>王</td>\n",
       "      <td>五</td>\n",
       "    </tr>\n",
       "  </tbody>\n",
       "</table>\n",
       "</div>"
      ],
      "text/plain": [
       "   0  1\n",
       "0  张  三\n",
       "1  李  四\n",
       "2  王  五"
      ]
     },
     "execution_count": 65,
     "metadata": {},
     "output_type": "execute_result"
    }
   ],
   "source": [
    "df = pd.DataFrame({'姓名':['张 三','李 四','王 五'],\n",
    "                   '所在地':['北京-东城区','上海-黄浦区','广州-白云区']})\n",
    "df\n",
    "df.姓名.str.split(' ', expand=True)"
   ]
  },
  {
   "cell_type": "markdown",
   "metadata": {},
   "source": [
    "### 把 Series 里的列表转换为 DataFrame"
   ]
  },
  {
   "cell_type": "code",
   "execution_count": 66,
   "metadata": {},
   "outputs": [
    {
     "data": {
      "text/html": [
       "<div>\n",
       "<style scoped>\n",
       "    .dataframe tbody tr th:only-of-type {\n",
       "        vertical-align: middle;\n",
       "    }\n",
       "\n",
       "    .dataframe tbody tr th {\n",
       "        vertical-align: top;\n",
       "    }\n",
       "\n",
       "    .dataframe thead th {\n",
       "        text-align: right;\n",
       "    }\n",
       "</style>\n",
       "<table border=\"1\" class=\"dataframe\">\n",
       "  <thead>\n",
       "    <tr style=\"text-align: right;\">\n",
       "      <th></th>\n",
       "      <th>列1</th>\n",
       "      <th>列2</th>\n",
       "      <th>0</th>\n",
       "      <th>1</th>\n",
       "    </tr>\n",
       "  </thead>\n",
       "  <tbody>\n",
       "    <tr>\n",
       "      <th>0</th>\n",
       "      <td>a</td>\n",
       "      <td>[10, 20]</td>\n",
       "      <td>10</td>\n",
       "      <td>20</td>\n",
       "    </tr>\n",
       "    <tr>\n",
       "      <th>1</th>\n",
       "      <td>b</td>\n",
       "      <td>[20, 30]</td>\n",
       "      <td>20</td>\n",
       "      <td>30</td>\n",
       "    </tr>\n",
       "    <tr>\n",
       "      <th>2</th>\n",
       "      <td>c</td>\n",
       "      <td>[30, 40]</td>\n",
       "      <td>30</td>\n",
       "      <td>40</td>\n",
       "    </tr>\n",
       "  </tbody>\n",
       "</table>\n",
       "</div>"
      ],
      "text/plain": [
       "  列1        列2   0   1\n",
       "0  a  [10, 20]  10  20\n",
       "1  b  [20, 30]  20  30\n",
       "2  c  [30, 40]  30  40"
      ]
     },
     "execution_count": 66,
     "metadata": {},
     "output_type": "execute_result"
    }
   ],
   "source": [
    "df = pd.DataFrame({'列1':['a','b','c'],'列2':[[10,20], [20,30], [30,40]]})\n",
    "df_new = df.列2.apply(pd.Series)\n",
    "pd.concat([df,df_new], axis='columns')\n"
   ]
  },
  {
   "cell_type": "markdown",
   "metadata": {},
   "source": [
    "### 用agg聚合多个函数"
   ]
  },
  {
   "cell_type": "code",
   "execution_count": null,
   "metadata": {},
   "outputs": [],
   "source": [
    "orders = pd.read_csv('data/chipotle.tsv', sep='\\t')\n",
    "orders.groupby('order_id').item_price.agg(['sum','count']).head()"
   ]
  },
  {
   "cell_type": "markdown",
   "metadata": {},
   "source": [
    "### apply聚合"
   ]
  },
  {
   "cell_type": "code",
   "execution_count": 67,
   "metadata": {},
   "outputs": [
    {
     "name": "stdout",
     "output_type": "stream",
     "text": [
      "a\n",
      "  key1 key2     data1     data2\n",
      "0    a  one -0.913284  0.216818\n",
      "1    a  two -0.462426  2.150335\n",
      "4    a  one -0.117332  0.420947\n",
      "b\n",
      "  key1 key2     data1     data2\n",
      "2    b  one -1.161765  0.290129\n",
      "3    b  two  0.561636  0.093682\n"
     ]
    },
    {
     "data": {
      "text/plain": [
       "{'a':   key1 key2     data1     data2\n",
       " 0    a  one -0.913284  0.216818\n",
       " 1    a  two -0.462426  2.150335\n",
       " 4    a  one -0.117332  0.420947,\n",
       " 'b':   key1 key2     data1     data2\n",
       " 2    b  one -1.161765  0.290129\n",
       " 3    b  two  0.561636  0.093682}"
      ]
     },
     "execution_count": 67,
     "metadata": {},
     "output_type": "execute_result"
    }
   ],
   "source": [
    "import pandas as pd\n",
    "df = pd.DataFrame({'key1':['a', 'a', 'b', 'b', 'a'],\n",
    "    'key2':['one', 'two', 'one', 'two', 'one'],\n",
    "    'data1':np.random.randn(5),\n",
    "     'data2':np.random.randn(5)})\n",
    "\n",
    "for name, group in df.groupby('key1'):\n",
    "    print(name)\n",
    "    print(group)\n",
    "\n",
    "dict(list(df.groupby('key1')))"
   ]
  },
  {
   "cell_type": "code",
   "execution_count": 68,
   "metadata": {},
   "outputs": [
    {
     "data": {
      "text/html": [
       "<div>\n",
       "<style scoped>\n",
       "    .dataframe tbody tr th:only-of-type {\n",
       "        vertical-align: middle;\n",
       "    }\n",
       "\n",
       "    .dataframe tbody tr th {\n",
       "        vertical-align: top;\n",
       "    }\n",
       "\n",
       "    .dataframe thead th {\n",
       "        text-align: right;\n",
       "    }\n",
       "</style>\n",
       "<table border=\"1\" class=\"dataframe\">\n",
       "  <thead>\n",
       "    <tr style=\"text-align: right;\">\n",
       "      <th></th>\n",
       "      <th>blue</th>\n",
       "      <th>red</th>\n",
       "    </tr>\n",
       "  </thead>\n",
       "  <tbody>\n",
       "    <tr>\n",
       "      <th>Joe</th>\n",
       "      <td>1.191747</td>\n",
       "      <td>-0.245068</td>\n",
       "    </tr>\n",
       "    <tr>\n",
       "      <th>Steve</th>\n",
       "      <td>-2.063417</td>\n",
       "      <td>0.747063</td>\n",
       "    </tr>\n",
       "    <tr>\n",
       "      <th>Wes</th>\n",
       "      <td>0.175773</td>\n",
       "      <td>2.059009</td>\n",
       "    </tr>\n",
       "    <tr>\n",
       "      <th>Jim</th>\n",
       "      <td>1.487454</td>\n",
       "      <td>3.483311</td>\n",
       "    </tr>\n",
       "    <tr>\n",
       "      <th>Travis</th>\n",
       "      <td>-1.087310</td>\n",
       "      <td>0.577130</td>\n",
       "    </tr>\n",
       "  </tbody>\n",
       "</table>\n",
       "</div>"
      ],
      "text/plain": [
       "            blue       red\n",
       "Joe     1.191747 -0.245068\n",
       "Steve  -2.063417  0.747063\n",
       "Wes     0.175773  2.059009\n",
       "Jim     1.487454  3.483311\n",
       "Travis -1.087310  0.577130"
      ]
     },
     "execution_count": 68,
     "metadata": {},
     "output_type": "execute_result"
    }
   ],
   "source": [
    "### 通过字典或Series进行分组\n",
    "\n",
    "people = pd.DataFrame(np.random.randn(5, 5),\n",
    "     columns=['a', 'b', 'c', 'd', 'e'],\n",
    "     index=['Joe', 'Steve', 'Wes', 'Jim', 'Travis'])\n",
    "mapping = {'a':'red', 'b':'red', 'c':'blue',\n",
    "     'd':'blue', 'e':'red', 'f':'orange'}\n",
    "by_column = people.groupby(mapping, axis=1)\n",
    "by_column.sum()"
   ]
  },
  {
   "cell_type": "code",
   "execution_count": 36,
   "metadata": {},
   "outputs": [
    {
     "data": {
      "text/html": [
       "<div>\n",
       "<style scoped>\n",
       "    .dataframe tbody tr th:only-of-type {\n",
       "        vertical-align: middle;\n",
       "    }\n",
       "\n",
       "    .dataframe tbody tr th {\n",
       "        vertical-align: top;\n",
       "    }\n",
       "\n",
       "    .dataframe thead th {\n",
       "        text-align: right;\n",
       "    }\n",
       "</style>\n",
       "<table border=\"1\" class=\"dataframe\">\n",
       "  <thead>\n",
       "    <tr style=\"text-align: right;\">\n",
       "      <th></th>\n",
       "      <th>A</th>\n",
       "      <th>B</th>\n",
       "      <th>C</th>\n",
       "    </tr>\n",
       "  </thead>\n",
       "  <tbody>\n",
       "    <tr>\n",
       "      <th>0</th>\n",
       "      <td>6</td>\n",
       "      <td>2</td>\n",
       "      <td>2</td>\n",
       "    </tr>\n",
       "    <tr>\n",
       "      <th>1</th>\n",
       "      <td>6</td>\n",
       "      <td>4</td>\n",
       "      <td>4</td>\n",
       "    </tr>\n",
       "    <tr>\n",
       "      <th>2</th>\n",
       "      <td>12</td>\n",
       "      <td>5</td>\n",
       "      <td>3</td>\n",
       "    </tr>\n",
       "    <tr>\n",
       "      <th>3</th>\n",
       "      <td>12</td>\n",
       "      <td>8</td>\n",
       "      <td>8</td>\n",
       "    </tr>\n",
       "    <tr>\n",
       "      <th>4</th>\n",
       "      <td>14</td>\n",
       "      <td>0</td>\n",
       "      <td>7</td>\n",
       "    </tr>\n",
       "    <tr>\n",
       "      <th>5</th>\n",
       "      <td>18</td>\n",
       "      <td>0</td>\n",
       "      <td>0</td>\n",
       "    </tr>\n",
       "  </tbody>\n",
       "</table>\n",
       "</div>"
      ],
      "text/plain": [
       "    A  B  C\n",
       "0   6  2  2\n",
       "1   6  4  4\n",
       "2  12  5  3\n",
       "3  12  8  8\n",
       "4  14  0  7\n",
       "5  18  0  0"
      ]
     },
     "execution_count": 36,
     "metadata": {},
     "output_type": "execute_result"
    }
   ],
   "source": [
    "import pandas as pd\n",
    "\n",
    "d = {'A': [3, 3,6, 6, 7, 9], 'B': [2,4, 5, 8, 0, 0],'C': [2,4, 3, 8, 7, 0]}\n",
    "df  =pd.DataFrame(d)\n",
    "df['A']= df[\"A\"].apply(lambda height: 2 * height)\n",
    "df"
   ]
  },
  {
   "cell_type": "code",
   "execution_count": 37,
   "metadata": {},
   "outputs": [
    {
     "data": {
      "text/plain": [
       "0    12\n",
       "1    12\n",
       "2    24\n",
       "3    24\n",
       "4    28\n",
       "5    36\n",
       "Name: A, dtype: int64"
      ]
     },
     "execution_count": 37,
     "metadata": {},
     "output_type": "execute_result"
    }
   ],
   "source": [
    "def multiply(x):\n",
    "    return x * 2\n",
    "\n",
    "df[\"A\"].apply(multiply)"
   ]
  },
  {
   "cell_type": "markdown",
   "metadata": {},
   "source": [
    "### map函数"
   ]
  },
  {
   "cell_type": "code",
   "execution_count": 39,
   "metadata": {},
   "outputs": [
    {
     "data": {
      "text/plain": [
       "0    12\n",
       "1    12\n",
       "2    24\n",
       "3    24\n",
       "4    28\n",
       "5    36\n",
       "Name: A, dtype: int64"
      ]
     },
     "execution_count": 39,
     "metadata": {},
     "output_type": "execute_result"
    }
   ],
   "source": [
    "df[\"A\"].map(multiply)\n",
    "df[\"A\"].map(lambda height: 2 * height)"
   ]
  },
  {
   "cell_type": "markdown",
   "metadata": {},
   "source": [
    "## 高级函数"
   ]
  },
  {
   "cell_type": "code",
   "execution_count": 2,
   "metadata": {},
   "outputs": [
    {
     "data": {
      "text/html": [
       "<div>\n",
       "<style scoped>\n",
       "    .dataframe tbody tr th:only-of-type {\n",
       "        vertical-align: middle;\n",
       "    }\n",
       "\n",
       "    .dataframe tbody tr th {\n",
       "        vertical-align: top;\n",
       "    }\n",
       "\n",
       "    .dataframe thead th {\n",
       "        text-align: right;\n",
       "    }\n",
       "</style>\n",
       "<table border=\"1\" class=\"dataframe\">\n",
       "  <thead>\n",
       "    <tr style=\"text-align: right;\">\n",
       "      <th></th>\n",
       "      <th>id</th>\n",
       "      <th>measurement</th>\n",
       "      <th>day</th>\n",
       "    </tr>\n",
       "  </thead>\n",
       "  <tbody>\n",
       "    <tr>\n",
       "      <th>0</th>\n",
       "      <td>a</td>\n",
       "      <td>4</td>\n",
       "      <td>1</td>\n",
       "    </tr>\n",
       "    <tr>\n",
       "      <th>1</th>\n",
       "      <td>b</td>\n",
       "      <td>6</td>\n",
       "      <td>1</td>\n",
       "    </tr>\n",
       "    <tr>\n",
       "      <th>2</th>\n",
       "      <td>c</td>\n",
       "      <td>[2, 3, 8]</td>\n",
       "      <td>1</td>\n",
       "    </tr>\n",
       "  </tbody>\n",
       "</table>\n",
       "</div>"
      ],
      "text/plain": [
       "  id measurement  day\n",
       "0  a           4    1\n",
       "1  b           6    1\n",
       "2  c   [2, 3, 8]    1"
      ]
     },
     "execution_count": 2,
     "metadata": {},
     "output_type": "execute_result"
    }
   ],
   "source": [
    "import pandas as pd\n",
    "\n",
    "id = ['a','b','c']\n",
    "measurement = [4,6,[2,3,8]]\n",
    "day = [1,1,1]\n",
    "df1 = pd.DataFrame({'id':id, 'measurement':measurement, 'day':day})\n",
    "df1"
   ]
  },
  {
   "cell_type": "markdown",
   "metadata": {},
   "source": [
    "### explode 函数\n",
    "* explode用于将一行数据展开成多行"
   ]
  },
  {
   "cell_type": "code",
   "execution_count": 3,
   "metadata": {},
   "outputs": [
    {
     "data": {
      "text/html": [
       "<div>\n",
       "<style scoped>\n",
       "    .dataframe tbody tr th:only-of-type {\n",
       "        vertical-align: middle;\n",
       "    }\n",
       "\n",
       "    .dataframe tbody tr th {\n",
       "        vertical-align: top;\n",
       "    }\n",
       "\n",
       "    .dataframe thead th {\n",
       "        text-align: right;\n",
       "    }\n",
       "</style>\n",
       "<table border=\"1\" class=\"dataframe\">\n",
       "  <thead>\n",
       "    <tr style=\"text-align: right;\">\n",
       "      <th></th>\n",
       "      <th>id</th>\n",
       "      <th>measurement</th>\n",
       "      <th>day</th>\n",
       "    </tr>\n",
       "  </thead>\n",
       "  <tbody>\n",
       "    <tr>\n",
       "      <th>0</th>\n",
       "      <td>a</td>\n",
       "      <td>4</td>\n",
       "      <td>1</td>\n",
       "    </tr>\n",
       "    <tr>\n",
       "      <th>1</th>\n",
       "      <td>b</td>\n",
       "      <td>6</td>\n",
       "      <td>1</td>\n",
       "    </tr>\n",
       "    <tr>\n",
       "      <th>2</th>\n",
       "      <td>c</td>\n",
       "      <td>2</td>\n",
       "      <td>1</td>\n",
       "    </tr>\n",
       "    <tr>\n",
       "      <th>3</th>\n",
       "      <td>c</td>\n",
       "      <td>3</td>\n",
       "      <td>1</td>\n",
       "    </tr>\n",
       "    <tr>\n",
       "      <th>4</th>\n",
       "      <td>c</td>\n",
       "      <td>8</td>\n",
       "      <td>1</td>\n",
       "    </tr>\n",
       "  </tbody>\n",
       "</table>\n",
       "</div>"
      ],
      "text/plain": [
       "  id measurement  day\n",
       "0  a           4    1\n",
       "1  b           6    1\n",
       "2  c           2    1\n",
       "3  c           3    1\n",
       "4  c           8    1"
      ]
     },
     "execution_count": 3,
     "metadata": {},
     "output_type": "execute_result"
    }
   ],
   "source": [
    "zz = df1.explode('measurement').reset_index(drop=True)\n",
    "zz"
   ]
  },
  {
   "cell_type": "markdown",
   "metadata": {},
   "source": [
    "### Nunique函数\n",
    "* Nunique用于计算行或列上唯一值的数量，即去重后计数。这个函数在分类问题中非常实用，当不知道某字段中有多少类元素时，Nunique能快速生成结果。\n",
    "\n",
    "\n",
    "- [ ] Series.nunique(dropna=True)\n",
    "\n",
    "- [ ] DataFrame.nunique(axis=0, dropna=True)\n",
    "\n",
    "\n",
    "* axis：int型，0代表行，1代表列，默认0；\n",
    "* dropna：bool类型，默认为True，计数中不包括NaN；"
   ]
  },
  {
   "cell_type": "code",
   "execution_count": 6,
   "metadata": {},
   "outputs": [
    {
     "data": {
      "text/html": [
       "<div>\n",
       "<style scoped>\n",
       "    .dataframe tbody tr th:only-of-type {\n",
       "        vertical-align: middle;\n",
       "    }\n",
       "\n",
       "    .dataframe tbody tr th {\n",
       "        vertical-align: top;\n",
       "    }\n",
       "\n",
       "    .dataframe thead th {\n",
       "        text-align: right;\n",
       "    }\n",
       "</style>\n",
       "<table border=\"1\" class=\"dataframe\">\n",
       "  <thead>\n",
       "    <tr style=\"text-align: right;\">\n",
       "      <th></th>\n",
       "      <th>group</th>\n",
       "      <th>year</th>\n",
       "      <th>value_1</th>\n",
       "      <th>value_2</th>\n",
       "    </tr>\n",
       "  </thead>\n",
       "  <tbody>\n",
       "    <tr>\n",
       "      <th>0</th>\n",
       "      <td>A</td>\n",
       "      <td>2010</td>\n",
       "      <td>9</td>\n",
       "      <td>7</td>\n",
       "    </tr>\n",
       "    <tr>\n",
       "      <th>1</th>\n",
       "      <td>A</td>\n",
       "      <td>2011</td>\n",
       "      <td>5</td>\n",
       "      <td>5</td>\n",
       "    </tr>\n",
       "    <tr>\n",
       "      <th>2</th>\n",
       "      <td>B</td>\n",
       "      <td>2012</td>\n",
       "      <td>9</td>\n",
       "      <td>6</td>\n",
       "    </tr>\n",
       "    <tr>\n",
       "      <th>3</th>\n",
       "      <td>A</td>\n",
       "      <td>2013</td>\n",
       "      <td>2</td>\n",
       "      <td>0</td>\n",
       "    </tr>\n",
       "    <tr>\n",
       "      <th>4</th>\n",
       "      <td>B</td>\n",
       "      <td>2014</td>\n",
       "      <td>7</td>\n",
       "      <td>4</td>\n",
       "    </tr>\n",
       "    <tr>\n",
       "      <th>5</th>\n",
       "      <td>B</td>\n",
       "      <td>2015</td>\n",
       "      <td>5</td>\n",
       "      <td>9</td>\n",
       "    </tr>\n",
       "    <tr>\n",
       "      <th>6</th>\n",
       "      <td>C</td>\n",
       "      <td>2016</td>\n",
       "      <td>0</td>\n",
       "      <td>5</td>\n",
       "    </tr>\n",
       "    <tr>\n",
       "      <th>7</th>\n",
       "      <td>A</td>\n",
       "      <td>2017</td>\n",
       "      <td>3</td>\n",
       "      <td>1</td>\n",
       "    </tr>\n",
       "    <tr>\n",
       "      <th>8</th>\n",
       "      <td>C</td>\n",
       "      <td>2018</td>\n",
       "      <td>9</td>\n",
       "      <td>5</td>\n",
       "    </tr>\n",
       "    <tr>\n",
       "      <th>9</th>\n",
       "      <td>C</td>\n",
       "      <td>2019</td>\n",
       "      <td>4</td>\n",
       "      <td>5</td>\n",
       "    </tr>\n",
       "  </tbody>\n",
       "</table>\n",
       "</div>"
      ],
      "text/plain": [
       "  group  year  value_1  value_2\n",
       "0     A  2010        9        7\n",
       "1     A  2011        5        5\n",
       "2     B  2012        9        6\n",
       "3     A  2013        2        0\n",
       "4     B  2014        7        4\n",
       "5     B  2015        5        9\n",
       "6     C  2016        0        5\n",
       "7     A  2017        3        1\n",
       "8     C  2018        9        5\n",
       "9     C  2019        4        5"
      ]
     },
     "execution_count": 6,
     "metadata": {},
     "output_type": "execute_result"
    }
   ],
   "source": [
    "import numpy as np\n",
    "\n",
    "values_1 = np.random.randint(10, size=10)\n",
    "values_2 = np.random.randint(10, size=10)\n",
    "years = np.arange(2010,2020)\n",
    "groups = ['A','A','B','A','B','B','C','A','C','C']\n",
    "df = pd.DataFrame({'group':groups, 'year':years, 'value_1':values_1, 'value_2':values_2})\n",
    "df"
   ]
  },
  {
   "cell_type": "code",
   "execution_count": 7,
   "metadata": {},
   "outputs": [
    {
     "data": {
      "text/plain": [
       "10"
      ]
     },
     "execution_count": 7,
     "metadata": {},
     "output_type": "execute_result"
    }
   ],
   "source": [
    "df.year.nunique()"
   ]
  },
  {
   "cell_type": "code",
   "execution_count": 8,
   "metadata": {},
   "outputs": [
    {
     "data": {
      "text/plain": [
       "group       3\n",
       "year       10\n",
       "value_1     7\n",
       "value_2     7\n",
       "dtype: int64"
      ]
     },
     "execution_count": 8,
     "metadata": {},
     "output_type": "execute_result"
    }
   ],
   "source": [
    "df.nunique()"
   ]
  },
  {
   "cell_type": "markdown",
   "metadata": {},
   "source": [
    "### infer_objects函数\n",
    "* infer_objects用于将object类型列推断为更合适的数据类型"
   ]
  },
  {
   "cell_type": "code",
   "execution_count": 9,
   "metadata": {},
   "outputs": [
    {
     "data": {
      "text/html": [
       "<div>\n",
       "<style scoped>\n",
       "    .dataframe tbody tr th:only-of-type {\n",
       "        vertical-align: middle;\n",
       "    }\n",
       "\n",
       "    .dataframe tbody tr th {\n",
       "        vertical-align: top;\n",
       "    }\n",
       "\n",
       "    .dataframe thead th {\n",
       "        text-align: right;\n",
       "    }\n",
       "</style>\n",
       "<table border=\"1\" class=\"dataframe\">\n",
       "  <thead>\n",
       "    <tr style=\"text-align: right;\">\n",
       "      <th></th>\n",
       "      <th>A</th>\n",
       "    </tr>\n",
       "  </thead>\n",
       "  <tbody>\n",
       "    <tr>\n",
       "      <th>1</th>\n",
       "      <td>1</td>\n",
       "    </tr>\n",
       "    <tr>\n",
       "      <th>2</th>\n",
       "      <td>2</td>\n",
       "    </tr>\n",
       "    <tr>\n",
       "      <th>3</th>\n",
       "      <td>3</td>\n",
       "    </tr>\n",
       "  </tbody>\n",
       "</table>\n",
       "</div>"
      ],
      "text/plain": [
       "   A\n",
       "1  1\n",
       "2  2\n",
       "3  3"
      ]
     },
     "execution_count": 9,
     "metadata": {},
     "output_type": "execute_result"
    }
   ],
   "source": [
    "df = pd.DataFrame({\"A\": [\"a\", 1, 2, 3]})\n",
    "df = df.iloc[1:]\n",
    "df"
   ]
  },
  {
   "cell_type": "code",
   "execution_count": 10,
   "metadata": {},
   "outputs": [
    {
     "data": {
      "text/plain": [
       "A    object\n",
       "dtype: object"
      ]
     },
     "execution_count": 10,
     "metadata": {},
     "output_type": "execute_result"
    }
   ],
   "source": [
    "df.dtypes"
   ]
  },
  {
   "cell_type": "code",
   "execution_count": 11,
   "metadata": {},
   "outputs": [
    {
     "data": {
      "text/plain": [
       "A    int64\n",
       "dtype: object"
      ]
     },
     "execution_count": 11,
     "metadata": {},
     "output_type": "execute_result"
    }
   ],
   "source": [
    "df.infer_objects().dtypes"
   ]
  },
  {
   "cell_type": "markdown",
   "metadata": {},
   "source": [
    "### memory_usage函数\n",
    "* memory_usage用于计算dataframe每一列的字节存储大小，这对于大数据表非常有用。\n",
    "\n",
    "参数解释：\n",
    "\n",
    "* index：指定是否返回df中索引字节大小，默认为True，返回的第一行即是索引的内存使用情况；\n",
    "* deep：如果为True，则通过查询object类型进行系统级内存消耗来深入地检查数据，并将其包括在返回值中。\n",
    "\n"
   ]
  },
  {
   "cell_type": "code",
   "execution_count": 13,
   "metadata": {},
   "outputs": [
    {
     "data": {
      "text/plain": [
       "((1000000, 2),\n",
       " Index        128\n",
       " A        8000000\n",
       " B        8000000\n",
       " dtype: int64)"
      ]
     },
     "execution_count": 13,
     "metadata": {},
     "output_type": "execute_result"
    }
   ],
   "source": [
    "df_large = pd.DataFrame({'A': np.random.randn(1000000),\n",
    "                    'B': np.random.randint(100, size=1000000)})\n",
    "df_large.shape, df_large.memory_usage()"
   ]
  },
  {
   "cell_type": "markdown",
   "metadata": {},
   "source": [
    "## groupby应用&&输出格式化"
   ]
  },
  {
   "cell_type": "code",
   "execution_count": 7,
   "metadata": {},
   "outputs": [
    {
     "data": {
      "text/html": [
       "<div>\n",
       "<style scoped>\n",
       "    .dataframe tbody tr th:only-of-type {\n",
       "        vertical-align: middle;\n",
       "    }\n",
       "\n",
       "    .dataframe tbody tr th {\n",
       "        vertical-align: top;\n",
       "    }\n",
       "\n",
       "    .dataframe thead th {\n",
       "        text-align: right;\n",
       "    }\n",
       "</style>\n",
       "<table border=\"1\" class=\"dataframe\">\n",
       "  <thead>\n",
       "    <tr style=\"text-align: right;\">\n",
       "      <th></th>\n",
       "      <th>姓名</th>\n",
       "      <th>B</th>\n",
       "      <th>C</th>\n",
       "    </tr>\n",
       "    <tr>\n",
       "      <th>A</th>\n",
       "      <th></th>\n",
       "      <th></th>\n",
       "      <th></th>\n",
       "    </tr>\n",
       "  </thead>\n",
       "  <tbody>\n",
       "    <tr>\n",
       "      <th>3</th>\n",
       "      <td>1.5</td>\n",
       "      <td>3.0</td>\n",
       "      <td>3.0</td>\n",
       "    </tr>\n",
       "    <tr>\n",
       "      <th>6</th>\n",
       "      <td>2.0</td>\n",
       "      <td>6.5</td>\n",
       "      <td>5.5</td>\n",
       "    </tr>\n",
       "    <tr>\n",
       "      <th>7</th>\n",
       "      <td>2.0</td>\n",
       "      <td>0.0</td>\n",
       "      <td>7.0</td>\n",
       "    </tr>\n",
       "    <tr>\n",
       "      <th>9</th>\n",
       "      <td>3.0</td>\n",
       "      <td>0.0</td>\n",
       "      <td>0.0</td>\n",
       "    </tr>\n",
       "  </tbody>\n",
       "</table>\n",
       "</div>"
      ],
      "text/plain": [
       "    姓名    B    C\n",
       "A               \n",
       "3  1.5  3.0  3.0\n",
       "6  2.0  6.5  5.5\n",
       "7  2.0  0.0  7.0\n",
       "9  3.0  0.0  0.0"
      ]
     },
     "execution_count": 7,
     "metadata": {},
     "output_type": "execute_result"
    }
   ],
   "source": [
    "\n",
    "import pandas as pd\n",
    "\n",
    "d = {'姓名':[1,2,1,3,2,3], 'A': [3, 3,6, 6, 7, 9], 'B': [2,4, 5, 8, 0, 0],'C': [2,4, 3, 8, 7, 0]}\n",
    "x  =pd.DataFrame(d)\n",
    "x.groupby(by=['A']).mean()"
   ]
  },
  {
   "cell_type": "code",
   "execution_count": 11,
   "metadata": {},
   "outputs": [
    {
     "data": {
      "text/html": [
       "<style  type=\"text/css\" >\n",
       "</style><table id=\"T_59089694_25c0_11eb_a96e_acde48001122\" ><thead>    <tr>        <th class=\"blank level0\" ></th>        <th class=\"col_heading level0 col0\" >mean</th>        <th class=\"col_heading level0 col1\" >sum</th>    </tr>    <tr>        <th class=\"index_name level0\" >姓名</th>        <th class=\"blank\" ></th>        <th class=\"blank\" ></th>    </tr></thead><tbody>\n",
       "                <tr>\n",
       "                        <th id=\"T_59089694_25c0_11eb_a96e_acde48001122level0_row0\" class=\"row_heading level0 row0\" >1</th>\n",
       "                        <td id=\"T_59089694_25c0_11eb_a96e_acde48001122row0_col0\" class=\"data row0 col0\" >$4.50</td>\n",
       "                        <td id=\"T_59089694_25c0_11eb_a96e_acde48001122row0_col1\" class=\"data row0 col1\" >$9.00</td>\n",
       "            </tr>\n",
       "            <tr>\n",
       "                        <th id=\"T_59089694_25c0_11eb_a96e_acde48001122level0_row1\" class=\"row_heading level0 row1\" >2</th>\n",
       "                        <td id=\"T_59089694_25c0_11eb_a96e_acde48001122row1_col0\" class=\"data row1 col0\" >$5.00</td>\n",
       "                        <td id=\"T_59089694_25c0_11eb_a96e_acde48001122row1_col1\" class=\"data row1 col1\" >$10.00</td>\n",
       "            </tr>\n",
       "            <tr>\n",
       "                        <th id=\"T_59089694_25c0_11eb_a96e_acde48001122level0_row2\" class=\"row_heading level0 row2\" >3</th>\n",
       "                        <td id=\"T_59089694_25c0_11eb_a96e_acde48001122row2_col0\" class=\"data row2 col0\" >$7.50</td>\n",
       "                        <td id=\"T_59089694_25c0_11eb_a96e_acde48001122row2_col1\" class=\"data row2 col1\" >$15.00</td>\n",
       "            </tr>\n",
       "    </tbody></table>"
      ],
      "text/plain": [
       "<pandas.io.formats.style.Styler at 0x7fdd1d8d10d0>"
      ]
     },
     "execution_count": 11,
     "metadata": {},
     "output_type": "execute_result"
    }
   ],
   "source": [
    "(x.groupby(by=['姓名']))['A'].agg(['mean','sum']).head(5).style.format('${0:,.2f}')"
   ]
  },
  {
   "cell_type": "code",
   "execution_count": 12,
   "metadata": {},
   "outputs": [
    {
     "data": {
      "text/html": [
       "<style  type=\"text/css\" >\n",
       "</style><table id=\"T_79a51c38_25c0_11eb_a96e_acde48001122\" ><thead>    <tr>        <th class=\"blank level0\" ></th>        <th class=\"col_heading level0 col0\" >姓名</th>        <th class=\"col_heading level0 col1\" >sum</th>        <th class=\"col_heading level0 col2\" >消费金额占比</th>    </tr></thead><tbody>\n",
       "                <tr>\n",
       "                        <th id=\"T_79a51c38_25c0_11eb_a96e_acde48001122level0_row0\" class=\"row_heading level0 row0\" >0</th>\n",
       "                        <td id=\"T_79a51c38_25c0_11eb_a96e_acde48001122row0_col0\" class=\"data row0 col0\" >1</td>\n",
       "                        <td id=\"T_79a51c38_25c0_11eb_a96e_acde48001122row0_col1\" class=\"data row0 col1\" >$9</td>\n",
       "                        <td id=\"T_79a51c38_25c0_11eb_a96e_acde48001122row0_col2\" class=\"data row0 col2\" >26.47%</td>\n",
       "            </tr>\n",
       "            <tr>\n",
       "                        <th id=\"T_79a51c38_25c0_11eb_a96e_acde48001122level0_row1\" class=\"row_heading level0 row1\" >1</th>\n",
       "                        <td id=\"T_79a51c38_25c0_11eb_a96e_acde48001122row1_col0\" class=\"data row1 col0\" >2</td>\n",
       "                        <td id=\"T_79a51c38_25c0_11eb_a96e_acde48001122row1_col1\" class=\"data row1 col1\" >$10</td>\n",
       "                        <td id=\"T_79a51c38_25c0_11eb_a96e_acde48001122row1_col2\" class=\"data row1 col2\" >29.41%</td>\n",
       "            </tr>\n",
       "            <tr>\n",
       "                        <th id=\"T_79a51c38_25c0_11eb_a96e_acde48001122level0_row2\" class=\"row_heading level0 row2\" >2</th>\n",
       "                        <td id=\"T_79a51c38_25c0_11eb_a96e_acde48001122row2_col0\" class=\"data row2 col0\" >3</td>\n",
       "                        <td id=\"T_79a51c38_25c0_11eb_a96e_acde48001122row2_col1\" class=\"data row2 col1\" >$15</td>\n",
       "                        <td id=\"T_79a51c38_25c0_11eb_a96e_acde48001122row2_col2\" class=\"data row2 col2\" >44.12%</td>\n",
       "            </tr>\n",
       "    </tbody></table>"
      ],
      "text/plain": [
       "<pandas.io.formats.style.Styler at 0x7fdd1ec69590>"
      ]
     },
     "execution_count": 12,
     "metadata": {},
     "output_type": "execute_result"
    }
   ],
   "source": [
    "consumer_sales = x.groupby('姓名')['A'].agg(['sum']).reset_index()\n",
    "consumer_sales['消费金额占比'] = consumer_sales['sum'] / consumer_sales['sum'].sum()\n",
    "(consumer_sales.head(5)\n",
    "              .style\n",
    "              .format({'sum':'${0:,.0f}', '消费金额占比': '{:.2%}'}))"
   ]
  },
  {
   "cell_type": "markdown",
   "metadata": {},
   "source": [
    "### 突出显示特殊值"
   ]
  },
  {
   "cell_type": "code",
   "execution_count": 14,
   "metadata": {},
   "outputs": [
    {
     "data": {
      "text/html": [
       "<style  type=\"text/css\" >\n",
       "    #T_a8969e04_25c0_11eb_a96e_acde48001122row0_col0 {\n",
       "            : ;\n",
       "            background-color:  lightgreen;\n",
       "        }    #T_a8969e04_25c0_11eb_a96e_acde48001122row0_col1 {\n",
       "            : ;\n",
       "            background-color:  lightgreen;\n",
       "        }    #T_a8969e04_25c0_11eb_a96e_acde48001122row0_col2 {\n",
       "            : ;\n",
       "            background-color:  lightgreen;\n",
       "        }    #T_a8969e04_25c0_11eb_a96e_acde48001122row2_col0 {\n",
       "            background-color:  #cd4f39;\n",
       "            : ;\n",
       "        }    #T_a8969e04_25c0_11eb_a96e_acde48001122row2_col1 {\n",
       "            background-color:  #cd4f39;\n",
       "            : ;\n",
       "        }    #T_a8969e04_25c0_11eb_a96e_acde48001122row2_col2 {\n",
       "            background-color:  #cd4f39;\n",
       "            : ;\n",
       "        }</style><table id=\"T_a8969e04_25c0_11eb_a96e_acde48001122\" ><thead>    <tr>        <th class=\"blank level0\" ></th>        <th class=\"col_heading level0 col0\" >姓名</th>        <th class=\"col_heading level0 col1\" >sum</th>        <th class=\"col_heading level0 col2\" >消费金额占比</th>    </tr></thead><tbody>\n",
       "                <tr>\n",
       "                        <th id=\"T_a8969e04_25c0_11eb_a96e_acde48001122level0_row0\" class=\"row_heading level0 row0\" >0</th>\n",
       "                        <td id=\"T_a8969e04_25c0_11eb_a96e_acde48001122row0_col0\" class=\"data row0 col0\" >1</td>\n",
       "                        <td id=\"T_a8969e04_25c0_11eb_a96e_acde48001122row0_col1\" class=\"data row0 col1\" >$9</td>\n",
       "                        <td id=\"T_a8969e04_25c0_11eb_a96e_acde48001122row0_col2\" class=\"data row0 col2\" >26.47%</td>\n",
       "            </tr>\n",
       "            <tr>\n",
       "                        <th id=\"T_a8969e04_25c0_11eb_a96e_acde48001122level0_row1\" class=\"row_heading level0 row1\" >1</th>\n",
       "                        <td id=\"T_a8969e04_25c0_11eb_a96e_acde48001122row1_col0\" class=\"data row1 col0\" >2</td>\n",
       "                        <td id=\"T_a8969e04_25c0_11eb_a96e_acde48001122row1_col1\" class=\"data row1 col1\" >$10</td>\n",
       "                        <td id=\"T_a8969e04_25c0_11eb_a96e_acde48001122row1_col2\" class=\"data row1 col2\" >29.41%</td>\n",
       "            </tr>\n",
       "            <tr>\n",
       "                        <th id=\"T_a8969e04_25c0_11eb_a96e_acde48001122level0_row2\" class=\"row_heading level0 row2\" >2</th>\n",
       "                        <td id=\"T_a8969e04_25c0_11eb_a96e_acde48001122row2_col0\" class=\"data row2 col0\" >3</td>\n",
       "                        <td id=\"T_a8969e04_25c0_11eb_a96e_acde48001122row2_col1\" class=\"data row2 col1\" >$15</td>\n",
       "                        <td id=\"T_a8969e04_25c0_11eb_a96e_acde48001122row2_col2\" class=\"data row2 col2\" >44.12%</td>\n",
       "            </tr>\n",
       "    </tbody></table>"
      ],
      "text/plain": [
       "<pandas.io.formats.style.Styler at 0x7fdd1ec0b7d0>"
      ]
     },
     "execution_count": 14,
     "metadata": {},
     "output_type": "execute_result"
    }
   ],
   "source": [
    "#求每个月的销售总金额，并分别用红色、绿色高亮显示最大值和最小值\n",
    "monthly_sales =x.groupby('姓名')['A'].agg(['sum']).reset_index()\n",
    "monthly_sales['消费金额占比'] = consumer_sales['sum'] / consumer_sales['sum'].sum()\n",
    "\n",
    "format_dict = {'sum':'${0:,.0f}',  '消费金额占比': '{:.2%}'}\n",
    "(monthly_sales.style\n",
    "              .format(format_dict)\n",
    "              .highlight_max(color='#cd4f39')\n",
    "              .highlight_min(color='lightgreen'))"
   ]
  },
  {
   "cell_type": "code",
   "execution_count": 19,
   "metadata": {},
   "outputs": [
    {
     "data": {
      "text/html": [
       "<style  type=\"text/css\" >\n",
       "    #T_ed0dd228_25c0_11eb_a96e_acde48001122row0_col0 {\n",
       "            background-color:  #ebf3eb;\n",
       "            color:  #000000;\n",
       "        }    #T_ed0dd228_25c0_11eb_a96e_acde48001122row0_col1 {\n",
       "            background-color:  #ebf3eb;\n",
       "            color:  #000000;\n",
       "        }    #T_ed0dd228_25c0_11eb_a96e_acde48001122row0_col2 {\n",
       "            background-color:  #3a9c3a;\n",
       "            color:  #000000;\n",
       "        }    #T_ed0dd228_25c0_11eb_a96e_acde48001122row1_col0 {\n",
       "            background-color:  #75b975;\n",
       "            color:  #000000;\n",
       "        }    #T_ed0dd228_25c0_11eb_a96e_acde48001122row1_col1 {\n",
       "            background-color:  #c4e0c4;\n",
       "            color:  #000000;\n",
       "        }    #T_ed0dd228_25c0_11eb_a96e_acde48001122row1_col2 {\n",
       "            background-color:  #ebf3eb;\n",
       "            color:  #000000;\n",
       "        }    #T_ed0dd228_25c0_11eb_a96e_acde48001122row2_col0 {\n",
       "            background-color:  #008000;\n",
       "            color:  #f1f1f1;\n",
       "        }    #T_ed0dd228_25c0_11eb_a96e_acde48001122row2_col1 {\n",
       "            background-color:  #008000;\n",
       "            color:  #f1f1f1;\n",
       "        }    #T_ed0dd228_25c0_11eb_a96e_acde48001122row2_col2 {\n",
       "            background-color:  #008000;\n",
       "            color:  #f1f1f1;\n",
       "        }</style><table id=\"T_ed0dd228_25c0_11eb_a96e_acde48001122\" ><thead>    <tr>        <th class=\"blank level0\" ></th>        <th class=\"col_heading level0 col0\" >姓名</th>        <th class=\"col_heading level0 col1\" >A</th>        <th class=\"col_heading level0 col2\" >B</th>    </tr>    <tr>        <th class=\"blank level1\" ></th>        <th class=\"col_heading level1 col0\" ></th>        <th class=\"col_heading level1 col1\" >sum</th>        <th class=\"col_heading level1 col2\" >sum</th>    </tr></thead><tbody>\n",
       "                <tr>\n",
       "                        <th id=\"T_ed0dd228_25c0_11eb_a96e_acde48001122level0_row0\" class=\"row_heading level0 row0\" >0</th>\n",
       "                        <td id=\"T_ed0dd228_25c0_11eb_a96e_acde48001122row0_col0\" class=\"data row0 col0\" >1</td>\n",
       "                        <td id=\"T_ed0dd228_25c0_11eb_a96e_acde48001122row0_col1\" class=\"data row0 col1\" >9</td>\n",
       "                        <td id=\"T_ed0dd228_25c0_11eb_a96e_acde48001122row0_col2\" class=\"data row0 col2\" >7</td>\n",
       "            </tr>\n",
       "            <tr>\n",
       "                        <th id=\"T_ed0dd228_25c0_11eb_a96e_acde48001122level0_row1\" class=\"row_heading level0 row1\" >1</th>\n",
       "                        <td id=\"T_ed0dd228_25c0_11eb_a96e_acde48001122row1_col0\" class=\"data row1 col0\" >2</td>\n",
       "                        <td id=\"T_ed0dd228_25c0_11eb_a96e_acde48001122row1_col1\" class=\"data row1 col1\" >10</td>\n",
       "                        <td id=\"T_ed0dd228_25c0_11eb_a96e_acde48001122row1_col2\" class=\"data row1 col2\" >4</td>\n",
       "            </tr>\n",
       "            <tr>\n",
       "                        <th id=\"T_ed0dd228_25c0_11eb_a96e_acde48001122level0_row2\" class=\"row_heading level0 row2\" >2</th>\n",
       "                        <td id=\"T_ed0dd228_25c0_11eb_a96e_acde48001122row2_col0\" class=\"data row2 col0\" >3</td>\n",
       "                        <td id=\"T_ed0dd228_25c0_11eb_a96e_acde48001122row2_col1\" class=\"data row2 col1\" >15</td>\n",
       "                        <td id=\"T_ed0dd228_25c0_11eb_a96e_acde48001122row2_col2\" class=\"data row2 col2\" >8</td>\n",
       "            </tr>\n",
       "    </tbody></table>"
      ],
      "text/plain": [
       "<pandas.io.formats.style.Styler at 0x7fdd1ec69790>"
      ]
     },
     "execution_count": 19,
     "metadata": {},
     "output_type": "execute_result"
    }
   ],
   "source": [
    "import seaborn as sns\n",
    "\n",
    "cm = sns.light_palette(\"green\", as_cmap=True)\n",
    "\n",
    "zz= (x.groupby(['姓名'])[['A','B']]\n",
    "     .agg(['sum'])\n",
    "     .head(5).reset_index()\n",
    "     .style\n",
    "     .background_gradient(cmap=cm))\n",
    "zz"
   ]
  },
  {
   "cell_type": "markdown",
   "metadata": {},
   "source": [
    "### 输出显示分布图"
   ]
  },
  {
   "cell_type": "code",
   "execution_count": 30,
   "metadata": {},
   "outputs": [
    {
     "data": {
      "text/html": [
       "<div>\n",
       "<style scoped>\n",
       "    .dataframe tbody tr th:only-of-type {\n",
       "        vertical-align: middle;\n",
       "    }\n",
       "\n",
       "    .dataframe tbody tr th {\n",
       "        vertical-align: top;\n",
       "    }\n",
       "\n",
       "    .dataframe thead tr th {\n",
       "        text-align: left;\n",
       "    }\n",
       "\n",
       "    .dataframe thead tr:last-of-type th {\n",
       "        text-align: right;\n",
       "    }\n",
       "</style>\n",
       "<table border=\"1\" class=\"dataframe\">\n",
       "  <thead>\n",
       "    <tr>\n",
       "      <th></th>\n",
       "      <th colspan=\"2\" halign=\"left\">A</th>\n",
       "      <th colspan=\"2\" halign=\"left\">B</th>\n",
       "    </tr>\n",
       "    <tr>\n",
       "      <th></th>\n",
       "      <th>mean</th>\n",
       "      <th>分布图</th>\n",
       "      <th>mean</th>\n",
       "      <th>分布图</th>\n",
       "    </tr>\n",
       "    <tr>\n",
       "      <th>姓名</th>\n",
       "      <th></th>\n",
       "      <th></th>\n",
       "      <th></th>\n",
       "      <th></th>\n",
       "    </tr>\n",
       "  </thead>\n",
       "  <tbody>\n",
       "    <tr>\n",
       "      <th>1</th>\n",
       "      <td>4.5</td>\n",
       "      <td>█▁▁▁▁▁▁▁▁█</td>\n",
       "      <td>3.5</td>\n",
       "      <td>█▁▁▁▁▁▁▁▁█</td>\n",
       "    </tr>\n",
       "    <tr>\n",
       "      <th>2</th>\n",
       "      <td>5.0</td>\n",
       "      <td>█▁▁▁▁▁▁▁▁█</td>\n",
       "      <td>2.0</td>\n",
       "      <td>█▁▁▁▁▁▁▁▁█</td>\n",
       "    </tr>\n",
       "    <tr>\n",
       "      <th>3</th>\n",
       "      <td>7.5</td>\n",
       "      <td>█▁▁▁▁▁▁▁▁█</td>\n",
       "      <td>4.0</td>\n",
       "      <td>█▁▁▁▁▁▁▁▁█</td>\n",
       "    </tr>\n",
       "  </tbody>\n",
       "</table>\n",
       "</div>"
      ],
      "text/plain": [
       "      A                B            \n",
       "   mean         分布图 mean         分布图\n",
       "姓名                                  \n",
       "1   4.5  █▁▁▁▁▁▁▁▁█  3.5  █▁▁▁▁▁▁▁▁█\n",
       "2   5.0  █▁▁▁▁▁▁▁▁█  2.0  █▁▁▁▁▁▁▁▁█\n",
       "3   7.5  █▁▁▁▁▁▁▁▁█  4.0  █▁▁▁▁▁▁▁▁█"
      ]
     },
     "execution_count": 30,
     "metadata": {},
     "output_type": "execute_result"
    }
   ],
   "source": [
    "from sparklines import sparklines\n",
    "import numpy as np\n",
    "# 定义sparklines函数用于展现数据分布\n",
    "def sparkline_str(x):\n",
    "    bins = np.histogram(x)[0]\n",
    "    sl = ''.join(sparklines(bins))\n",
    "    return sl\n",
    "\n",
    "# 定义groupby之后的列名\n",
    "sparkline_str.__name__ = \"分布图\"\n",
    "\n",
    "x.groupby('姓名')[['A', 'B']].agg(['mean', sparkline_str])"
   ]
  },
  {
   "cell_type": "code",
   "execution_count": null,
   "metadata": {},
   "outputs": [],
   "source": []
  }
 ],
 "metadata": {
  "kernelspec": {
   "display_name": "Python 3",
   "language": "python",
   "name": "python3"
  },
  "language_info": {
   "codemirror_mode": {
    "name": "ipython",
    "version": 3
   },
   "file_extension": ".py",
   "mimetype": "text/x-python",
   "name": "python",
   "nbconvert_exporter": "python",
   "pygments_lexer": "ipython3",
   "version": "3.7.6"
  },
  "toc-autonumbering": true,
  "toc-showmarkdowntxt": true
 },
 "nbformat": 4,
 "nbformat_minor": 4
}
