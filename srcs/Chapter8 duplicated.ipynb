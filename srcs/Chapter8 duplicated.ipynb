{
 "cells": [
  {
   "cell_type": "code",
   "execution_count": 1,
   "metadata": {},
   "outputs": [
    {
     "name": "stdout",
     "output_type": "stream",
     "text": [
      "0.20.3\n"
     ]
    }
   ],
   "source": [
    "import pandas as pd\n",
    "import numpy as np\n",
    "print(pd.__version__)"
   ]
  },
  {
   "cell_type": "markdown",
   "metadata": {},
   "source": [
    "移除重复数据\n",
    "====\n",
    "DataFrame中经常会出现重复行，利用duplicated()函数返回每一行判断是否重复的结果（重复则为True），drop_duplicates([key1,key2,..])则可去除重复行。"
   ]
  },
  {
   "cell_type": "code",
   "execution_count": 3,
   "metadata": {},
   "outputs": [
    {
     "name": "stdout",
     "output_type": "stream",
     "text": [
      "   A  B\n",
      "0  1  a\n",
      "1  1  a\n",
      "2  1  b\n",
      "3  2  b\n",
      "4  2  b\n",
      "5  3  c\n",
      "0    False\n",
      "1     True\n",
      "2    False\n",
      "3    False\n",
      "4     True\n",
      "5    False\n",
      "dtype: bool\n"
     ]
    }
   ],
   "source": [
    "df1=pd.DataFrame({'A':[1,1,1,2,2,3],'B':list(\"aabbbc\")})\n",
    "print(df1)\n",
    "print(df1.duplicated())\n"
   ]
  },
  {
   "cell_type": "code",
   "execution_count": 6,
   "metadata": {},
   "outputs": [
    {
     "name": "stdout",
     "output_type": "stream",
     "text": [
      "   A  B\n",
      "0  1  a\n",
      "2  1  b\n",
      "3  2  b\n",
      "5  3  c\n",
      "   A  B\n",
      "0  1  a\n",
      "3  2  b\n",
      "5  3  c\n",
      "   A  B\n",
      "2  1  b\n",
      "4  2  b\n",
      "5  3  c\n"
     ]
    }
   ],
   "source": [
    "#去除全部的重复行\n",
    "print(df1.drop_duplicates())\n",
    "\n",
    "#指定列去除重复行\n",
    "print(df1.drop_duplicates(['A']))\n",
    "\n",
    "#保留重复行中的最后一行\n",
    "print(df1.drop_duplicates(['A'],keep='last'))"
   ]
  },
  {
   "cell_type": "markdown",
   "metadata": {},
   "source": [
    "离散化\n",
    "====\n",
    "\n",
    "通常对于我们不想要连续的数值，我们可将其离散化，离散化也可称为分组、区间化。\n",
    "\n",
    "Pandas为我们提供了方便的函数cut():\n",
    "\n",
    "pd.cut(x, bins, right=True, labels=None, retbins=False, precision=3, include_lowest=False) \n"
   ]
  },
  {
   "cell_type": "code",
   "execution_count": 7,
   "metadata": {},
   "outputs": [
    {
     "name": "stdout",
     "output_type": "stream",
     "text": [
      "0    (18, 25]\n",
      "1    (18, 25]\n",
      "2    (25, 35]\n",
      "3    (25, 35]\n",
      "4    (18, 25]\n",
      "5    (35, 60]\n",
      "6    (35, 60]\n",
      "dtype: category\n",
      "Categories (4, interval[int64]): [(0, 18] < (18, 25] < (25, 35] < (35, 60]]\n"
     ]
    },
    {
     "data": {
      "text/plain": [
       "(18, 25]    3\n",
       "(35, 60]    2\n",
       "(25, 35]    2\n",
       "(0, 18]     0\n",
       "dtype: int64"
      ]
     },
     "execution_count": 7,
     "metadata": {},
     "output_type": "execute_result"
    }
   ],
   "source": [
    "# 假设有一组人员的年龄\n",
    "ages=[20,19,30,34,23,40,50]\n",
    "se_ages=pd.Series(ages)\n",
    "bin=[0,18,25,35,60]\n",
    "se1=pd.cut(se_ages,bin)\n",
    "print(se1)\n",
    "\n",
    "pd.value_counts(se1)"
   ]
  },
  {
   "cell_type": "code",
   "execution_count": null,
   "metadata": {},
   "outputs": [],
   "source": []
  }
 ],
 "metadata": {
  "kernelspec": {
   "display_name": "Python 3",
   "language": "python",
   "name": "python3"
  },
  "language_info": {
   "codemirror_mode": {
    "name": "ipython",
    "version": 3
   },
   "file_extension": ".py",
   "mimetype": "text/x-python",
   "name": "python",
   "nbconvert_exporter": "python",
   "pygments_lexer": "ipython3",
   "version": "3.6.8"
  },
  "toc": {
   "base_numbering": 1,
   "nav_menu": {},
   "number_sections": true,
   "sideBar": true,
   "skip_h1_title": false,
   "title_cell": "Table of Contents",
   "title_sidebar": "Contents",
   "toc_cell": false,
   "toc_position": {},
   "toc_section_display": true,
   "toc_window_display": false
  }
 },
 "nbformat": 4,
 "nbformat_minor": 2
}
