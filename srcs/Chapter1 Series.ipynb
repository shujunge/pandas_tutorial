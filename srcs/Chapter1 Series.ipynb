{
 "cells": [
  {
   "cell_type": "code",
   "execution_count": 1,
   "metadata": {},
   "outputs": [
    {
     "name": "stdout",
     "output_type": "stream",
     "text": [
      "0.25.1\n"
     ]
    }
   ],
   "source": [
    "import pandas as pd\n",
    "print(pd.__version__)"
   ]
  },
  {
   "cell_type": "code",
   "execution_count": 2,
   "metadata": {},
   "outputs": [],
   "source": [
    "from pandas import Series\n",
    "import numpy as np"
   ]
  },
  {
   "cell_type": "markdown",
   "metadata": {},
   "source": [
    "Series基本属性\n",
    "====\n",
    "\n",
    "* Series是Pandas中最基本的对象，Series类似一种一维数组."
   ]
  },
  {
   "cell_type": "code",
   "execution_count": 3,
   "metadata": {},
   "outputs": [
    {
     "name": "stdout",
     "output_type": "stream",
     "text": [
      "[ 4  7 -2  8] Index(['b', 'c', 'a', 'd'], dtype='object')\n",
      "red      100\n",
      "black    400\n",
      "green    300\n",
      "pink     900\n",
      "dtype: int64\n"
     ]
    },
    {
     "data": {
      "text/plain": [
       "red      100\n",
       "green    300\n",
       "black    400\n",
       "pink     900\n",
       "dtype: int64"
      ]
     },
     "execution_count": 3,
     "metadata": {},
     "output_type": "execute_result"
    }
   ],
   "source": [
    "#list -> Series　\n",
    "\n",
    "se = Series([4,7,-2,8])\n",
    "se = Series([4,7,-2,8],index=['b','c','a','d'])\n",
    "print(se.values,se.index)\n",
    "\n",
    "# dict -> series\n",
    "my_dict = {\"red\":100,\"black\":400,\"green\":300,\"pink\":900}\n",
    "se = Series(my_dict)\n",
    "print(se)\n",
    "se4 = Series(my_dict,index=[\"red\",\"green\",\"black\",\"pink\"])\n",
    "se4"
   ]
  },
  {
   "cell_type": "code",
   "execution_count": 4,
   "metadata": {},
   "outputs": [
    {
     "name": "stdout",
     "output_type": "stream",
     "text": [
      "[100, 400, 300, 900]\n",
      "[('red', 100), ('black', 400), ('green', 300), ('pink', 900)]\n"
     ]
    }
   ],
   "source": [
    "# series-> list\n",
    "m_list = list(se)\n",
    "print(m_list)\n",
    "\n",
    "# series-> dict\n",
    "m_list = list(se.iteritems())\n",
    "print(m_list)\n"
   ]
  },
  {
   "cell_type": "markdown",
   "metadata": {},
   "source": [
    "* Series对象的内容和索引都有个name属性："
   ]
  },
  {
   "cell_type": "code",
   "execution_count": 5,
   "metadata": {},
   "outputs": [
    {
     "data": {
      "text/plain": [
       "color\n",
       "red      100\n",
       "black    400\n",
       "green    300\n",
       "pink     900\n",
       "Name: values, dtype: int64"
      ]
     },
     "execution_count": 5,
     "metadata": {},
     "output_type": "execute_result"
    }
   ],
   "source": [
    "se.name=\"values\"\n",
    "se.index.name=\"color\"\n",
    "se"
   ]
  },
  {
   "cell_type": "markdown",
   "metadata": {},
   "source": [
    "Series对象存取\n",
    "======\n",
    "* Series对象的下标运算同时支持位置和标签两种方式：\n",
    "* Series对象支持位置切片和标签切片，但需要注意的是后者包括结束标签．"
   ]
  },
  {
   "cell_type": "code",
   "execution_count": 6,
   "metadata": {},
   "outputs": [
    {
     "name": "stdout",
     "output_type": "stream",
     "text": [
      "################################################################################\n",
      "位置下标：   400\n",
      "################################################################################\n",
      "标签下标：   900\n",
      "################################################################################\n",
      "color\n",
      "black    400\n",
      "green    300\n",
      "Name: values, dtype: int64\n",
      "################################################################################\n"
     ]
    },
    {
     "data": {
      "text/plain": [
       "color\n",
       "black    400\n",
       "green    300\n",
       "pink     900\n",
       "Name: values, dtype: int64"
      ]
     },
     "execution_count": 6,
     "metadata": {},
     "output_type": "execute_result"
    }
   ],
   "source": [
    "print(\"#\"*80)\n",
    "print(\"位置下标：  \",se[1])\n",
    "\n",
    "print(\"#\"*80)\n",
    "print(\"标签下标：  \",se['pink'])\n",
    "\n",
    "print(\"#\"*80)\n",
    "print(se[1:3])\n",
    "\n",
    "print(\"#\"*80)\n",
    "se['black':'pink']"
   ]
  },
  {
   "cell_type": "markdown",
   "metadata": {},
   "source": [
    "Series运算特性\n",
    "======\n",
    "* 可支持Numpy数组运算（布尔数组过滤、标量乘法、数学函数)\n",
    "* 两个Series对象支持操作符运算，Series会按照标签对齐元素再运算（也就是只有相同标签的元素才能进行运算），当某一方标签不存在则默认用NaN填充："
   ]
  },
  {
   "cell_type": "code",
   "execution_count": 8,
   "metadata": {},
   "outputs": [
    {
     "name": "stdout",
     "output_type": "stream",
     "text": [
      "################################################################################\n",
      "color\n",
      "pink    900\n",
      "Name: values, dtype: int64\n",
      "################################################################################\n",
      "color\n",
      "red       200\n",
      "black     800\n",
      "green     600\n",
      "pink     1800\n",
      "Name: values, dtype: int64\n",
      "################################################################################\n",
      "color\n",
      "red      4.605170\n",
      "black    5.991465\n",
      "green    5.703782\n",
      "pink     6.802395\n",
      "Name: values, dtype: float64\n",
      "################################################################################\n",
      "color\n",
      "red      104.605170\n",
      "black    405.991465\n",
      "green    305.703782\n",
      "pink     906.802395\n",
      "Name: values, dtype: float64\n"
     ]
    }
   ],
   "source": [
    "print(\"#\"*80)\n",
    "print(se[se>400])\n",
    "\n",
    "print(\"#\"*80)\n",
    "print(se*2)\n",
    "\n",
    "print(\"#\"*80)\n",
    "se2 =  np.log(se)\n",
    "print(se2)\n",
    "\n",
    "print(\"#\"*80)\n",
    "print(se2+se)\n"
   ]
  }
 ],
 "metadata": {
  "kernelspec": {
   "display_name": "Python 3",
   "language": "python",
   "name": "python3"
  },
  "language_info": {
   "codemirror_mode": {
    "name": "ipython",
    "version": 3
   },
   "file_extension": ".py",
   "mimetype": "text/x-python",
   "name": "python",
   "nbconvert_exporter": "python",
   "pygments_lexer": "ipython3",
   "version": "3.7.3"
  },
  "toc": {
   "base_numbering": 1,
   "nav_menu": {},
   "number_sections": true,
   "sideBar": true,
   "skip_h1_title": false,
   "title_cell": "Table of Contents",
   "title_sidebar": "Contents",
   "toc_cell": false,
   "toc_position": {},
   "toc_section_display": true,
   "toc_window_display": false
  }
 },
 "nbformat": 4,
 "nbformat_minor": 4
}
