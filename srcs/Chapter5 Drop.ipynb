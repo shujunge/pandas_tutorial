{
 "cells": [
  {
   "cell_type": "code",
   "execution_count": 1,
   "metadata": {},
   "outputs": [
    {
     "name": "stdout",
     "output_type": "stream",
     "text": [
      "0.20.3\n"
     ]
    }
   ],
   "source": [
    "import numpy as np \n",
    "import pandas as pd\n",
    "print(pd.__version__)"
   ]
  },
  {
   "cell_type": "markdown",
   "metadata": {},
   "source": [
    "ReIndex重新索引\n",
    "=====\n",
    "reindex()是pandas对象的一个重要方法，其作用是创建一个新索引的新对象。"
   ]
  },
  {
   "cell_type": "code",
   "execution_count": 4,
   "metadata": {},
   "outputs": [
    {
     "name": "stdout",
     "output_type": "stream",
     "text": [
      "d    1\n",
      "c    7\n",
      "a    3\n",
      "f    9\n",
      "dtype: int64\n",
      "a    3.0\n",
      "b    NaN\n",
      "c    7.0\n",
      "d    1.0\n",
      "e    NaN\n",
      "f    9.0\n",
      "dtype: float64\n",
      "0     blue\n",
      "1     blue\n",
      "2      red\n",
      "3      red\n",
      "4    black\n",
      "5    black\n",
      "dtype: object\n"
     ]
    }
   ],
   "source": [
    "##对Series对象重新索引\n",
    "se1=pd.Series([1,7,3,9],index=['d','c','a','f'])\n",
    "print(se1)\n",
    "#调用reindex将会重新排序，缺失值则用NaN填补。\n",
    "se2=se1.reindex(['a','b','c','d','e','f'])\n",
    "print(se2)\n",
    "\n",
    "#传入method=” “重新索引时选择插值处理方式：\n",
    "#method=’ffill’或’pad 前向填充\n",
    "#method=’bfill’或’backfill 后向填充\n",
    "se3=pd.Series(['blue','red','black'],index=[0,2,4])\n",
    "se4=se3.reindex(range(6),method='ffill')\n",
    "print(se4)"
   ]
  },
  {
   "cell_type": "code",
   "execution_count": 7,
   "metadata": {},
   "outputs": [
    {
     "name": "stdout",
     "output_type": "stream",
     "text": [
      "   one  two  four\n",
      "a    0    1     2\n",
      "c    3    4     5\n",
      "d    6    7     8\n",
      "   one  two  four\n",
      "a    0    1     2\n",
      "c    3    4     5\n",
      "d    6    7     8\n",
      "   one  two  four\n",
      "a    0    1     2\n",
      "c    3    4     5\n",
      "d    6    7     8\n"
     ]
    }
   ],
   "source": [
    "\n",
    "##对DataFrame对象重新索引\n",
    "df1=pd.DataFrame(np.arange(9).reshape(3,3),index=['a','c','d'],columns=['one','two','four'])\n",
    "print(df1)\n",
    "df1.reindex(index=['a','b','c','d'],columns=['one','two','three','four'])\n",
    "print(df1)\n",
    "#传入fill_value=n用n代替缺失值：\n",
    "df1.reindex(index=['a','b','c','d'],columns=['one','two','three','four'],fill_value=100)\n",
    "print(df1)"
   ]
  },
  {
   "cell_type": "markdown",
   "metadata": {},
   "source": [
    "Drop丢弃指定轴上的项\n",
    "====\n",
    "\n",
    "丢弃某轴上项，只要有一个索引表或者列表即可。\n",
    "丢弃Series上的项："
   ]
  },
  {
   "cell_type": "code",
   "execution_count": 12,
   "metadata": {},
   "outputs": [
    {
     "name": "stdout",
     "output_type": "stream",
     "text": [
      "0    10\n",
      "1    11\n",
      "2    12\n",
      "3    13\n",
      "4    14\n",
      "dtype: int64\n",
      "   x  y  z\n",
      "0  0  1  2\n",
      "1  3  4  5\n",
      "2  6  7  8\n",
      "   x  y  z\n",
      "2  6  7  8\n",
      "   y\n",
      "0  1\n",
      "1  4\n",
      "2  7\n"
     ]
    }
   ],
   "source": [
    "se1=pd.Series(range(10,15))\n",
    "se1.drop([2,3])\n",
    "print(se1)\n",
    "\n",
    "\n",
    "df1=pd.DataFrame(np.arange(9).reshape(3,3),columns=['x','y','z'])\n",
    "print(df1)\n",
    "\n",
    "#对于DataFrame对象，默认删除行索引：\n",
    "print(df1.drop([1,0]))\n",
    "\n",
    "#指定axis=1删除列索引\n",
    "print(df1.drop(['x','z'],axis=1))\n"
   ]
  },
  {
   "cell_type": "markdown",
   "metadata": {},
   "source": [
    "滤除缺失数据\n",
    "=====\n",
    "pandas的设计目标之一就是使得处理缺失数据的任务更加轻松些。pandas使用NaN作为缺失数据的标记。\n",
    "\n",
    "使用dropna使得滤除缺失数据更加得心应手。\n",
    "\n",
    "## 处理Series对象\n",
    "* 通过**dropna()**滤除缺失数据："
   ]
  },
  {
   "cell_type": "code",
   "execution_count": 14,
   "metadata": {},
   "outputs": [
    {
     "name": "stdout",
     "output_type": "stream",
     "text": [
      "0    4.0\n",
      "1    NaN\n",
      "2    8.0\n",
      "3    NaN\n",
      "4    5.0\n",
      "dtype: float64\n"
     ]
    },
    {
     "data": {
      "text/plain": [
       "0    4.0\n",
       "2    8.0\n",
       "4    5.0\n",
       "dtype: float64"
      ]
     },
     "execution_count": 14,
     "metadata": {},
     "output_type": "execute_result"
    }
   ],
   "source": [
    "se1=pd.Series([4,np.NaN,8,np.NaN,5])\n",
    "print(se1)\n",
    "se1.dropna()\n",
    "\n",
    "#通过布尔序列也能滤除：\n",
    "se1[se1.notnull()]"
   ]
  },
  {
   "cell_type": "markdown",
   "metadata": {},
   "source": [
    "## 处理DataFrame对象\n",
    "处理DataFrame对象比较复杂，因为你可能需要丢弃所有的NaN或部分NaN.\n"
   ]
  },
  {
   "cell_type": "code",
   "execution_count": 20,
   "metadata": {},
   "outputs": [
    {
     "name": "stdout",
     "output_type": "stream",
     "text": [
      "     0    1    2\n",
      "0  1.0  2.0  3.0\n",
      "1  NaN  NaN  2.0\n",
      "2  NaN  NaN  NaN\n",
      "3  8.0  8.0  NaN\n",
      "     0    1    2\n",
      "0  1.0  2.0  3.0\n",
      "     0    1    2\n",
      "0  1.0  2.0  3.0\n",
      "1  NaN  NaN  2.0\n",
      "3  8.0  8.0  NaN\n",
      "     0    1    2   3\n",
      "0  1.0  2.0  3.0 NaN\n",
      "1  NaN  NaN  2.0 NaN\n",
      "2  NaN  NaN  NaN NaN\n",
      "3  8.0  8.0  NaN NaN\n"
     ]
    }
   ],
   "source": [
    "df1=pd.DataFrame([[1,2,3],[np.NaN,np.NaN,2],[np.NaN,np.NaN,np.NaN],[8,8,np.NaN]])\n",
    "print(df1)\n",
    "\n",
    "#默认滤除所有包含NaN：\n",
    "print(df1.dropna())\n",
    "\n",
    "#传入**how=‘all’**滤除全为NaN的行：\n",
    "print(df1.dropna(how='all'))\n",
    "\n",
    "#传入axis=1滤除列：\n",
    "df1[3]=np.NaN\n",
    "print(df1)"
   ]
  },
  {
   "cell_type": "markdown",
   "metadata": {},
   "source": [
    "填充缺失数据\n",
    "=====\n",
    "fillna()是最主要的处理方式了"
   ]
  },
  {
   "cell_type": "code",
   "execution_count": 22,
   "metadata": {},
   "outputs": [
    {
     "name": "stdout",
     "output_type": "stream",
     "text": [
      "       0      1      2      3\n",
      "0    1.0    2.0    3.0  100.0\n",
      "1  100.0  100.0    2.0  100.0\n",
      "2  100.0  100.0  100.0  100.0\n",
      "3    8.0    8.0  100.0  100.0\n"
     ]
    },
    {
     "data": {
      "text/html": [
       "<div>\n",
       "<style>\n",
       "    .dataframe thead tr:only-child th {\n",
       "        text-align: right;\n",
       "    }\n",
       "\n",
       "    .dataframe thead th {\n",
       "        text-align: left;\n",
       "    }\n",
       "\n",
       "    .dataframe tbody tr th {\n",
       "        vertical-align: top;\n",
       "    }\n",
       "</style>\n",
       "<table border=\"1\" class=\"dataframe\">\n",
       "  <thead>\n",
       "    <tr style=\"text-align: right;\">\n",
       "      <th></th>\n",
       "      <th>0</th>\n",
       "      <th>1</th>\n",
       "      <th>2</th>\n",
       "      <th>3</th>\n",
       "    </tr>\n",
       "  </thead>\n",
       "  <tbody>\n",
       "    <tr>\n",
       "      <th>0</th>\n",
       "      <td>1.0</td>\n",
       "      <td>2.0</td>\n",
       "      <td>3.0</td>\n",
       "      <td>NaN</td>\n",
       "    </tr>\n",
       "    <tr>\n",
       "      <th>1</th>\n",
       "      <td>10.0</td>\n",
       "      <td>20.0</td>\n",
       "      <td>2.0</td>\n",
       "      <td>NaN</td>\n",
       "    </tr>\n",
       "    <tr>\n",
       "      <th>2</th>\n",
       "      <td>10.0</td>\n",
       "      <td>20.0</td>\n",
       "      <td>30.0</td>\n",
       "      <td>NaN</td>\n",
       "    </tr>\n",
       "    <tr>\n",
       "      <th>3</th>\n",
       "      <td>8.0</td>\n",
       "      <td>8.0</td>\n",
       "      <td>30.0</td>\n",
       "      <td>NaN</td>\n",
       "    </tr>\n",
       "  </tbody>\n",
       "</table>\n",
       "</div>"
      ],
      "text/plain": [
       "      0     1     2   3\n",
       "0   1.0   2.0   3.0 NaN\n",
       "1  10.0  20.0   2.0 NaN\n",
       "2  10.0  20.0  30.0 NaN\n",
       "3   8.0   8.0  30.0 NaN"
      ]
     },
     "execution_count": 22,
     "metadata": {},
     "output_type": "execute_result"
    }
   ],
   "source": [
    "#用常数填充：\n",
    "print(df1.fillna(100))\n",
    "#通过字典填充不同的常数：\n",
    "df1.fillna({0:10,1:20,2:30})"
   ]
  },
  {
   "cell_type": "markdown",
   "metadata": {},
   "source": [
    "排序和排名\n",
    "======\n",
    "\n",
    "根据条件对Series对象或DataFrame对象的值排序（sorting）和排名(ranking)是一种重要的内置运算。 \n",
    "接下来为大家介绍如何使用pandas对象的：sort_index() / sort_values() / rank() 方法。\n",
    "\n",
    "## 对Series排序\n",
    "* 对Series对象排序是最常用的，可以根据Series对象的索引、值排序。\n",
    "根据索引排序"
   ]
  },
  {
   "cell_type": "code",
   "execution_count": 28,
   "metadata": {},
   "outputs": [
    {
     "name": "stdout",
     "output_type": "stream",
     "text": [
      "1    10\n",
      "2    12\n",
      "3    11\n",
      "dtype: int64\n",
      "a    2\n",
      "c    0\n",
      "d    1\n",
      "dtype: int64\n",
      "d    1\n",
      "c    0\n",
      "a    2\n",
      "dtype: int64\n",
      "a    2\n",
      "d    1\n",
      "c    0\n",
      "dtype: int64\n"
     ]
    }
   ],
   "source": [
    "se1=pd.Series(np.arange(10,13),index=[1,3,2])\n",
    "print(se1.sort_index())\n",
    "\n",
    "se2=pd.Series(np.arange(0,3),index=['c','d','a'])\n",
    "print(se2.sort_index())\n",
    "#按index降序排序\n",
    "print(se2.sort_index(ascending=False))\n",
    "#按值排序\n",
    "print(se2.sort_values(ascending=False))"
   ]
  },
  {
   "cell_type": "markdown",
   "metadata": {},
   "source": [
    "## 对DataFrame排序\n",
    "通过axis参数可以对任意轴排序"
   ]
  },
  {
   "cell_type": "code",
   "execution_count": 31,
   "metadata": {},
   "outputs": [
    {
     "name": "stdout",
     "output_type": "stream",
     "text": [
      "   y  z  x\n",
      "b  0  1  2\n",
      "a  3  4  5\n",
      "c  6  7  8\n",
      "   y  z  x\n",
      "a  3  4  5\n",
      "b  0  1  2\n",
      "c  6  7  8\n",
      "    a   b\n",
      "1   3  -6\n",
      "0  20   1\n",
      "2   3  18\n"
     ]
    },
    {
     "data": {
      "text/html": [
       "<div>\n",
       "<style>\n",
       "    .dataframe thead tr:only-child th {\n",
       "        text-align: right;\n",
       "    }\n",
       "\n",
       "    .dataframe thead th {\n",
       "        text-align: left;\n",
       "    }\n",
       "\n",
       "    .dataframe tbody tr th {\n",
       "        vertical-align: top;\n",
       "    }\n",
       "</style>\n",
       "<table border=\"1\" class=\"dataframe\">\n",
       "  <thead>\n",
       "    <tr style=\"text-align: right;\">\n",
       "      <th></th>\n",
       "      <th>a</th>\n",
       "      <th>b</th>\n",
       "    </tr>\n",
       "  </thead>\n",
       "  <tbody>\n",
       "    <tr>\n",
       "      <th>1</th>\n",
       "      <td>3</td>\n",
       "      <td>-6</td>\n",
       "    </tr>\n",
       "    <tr>\n",
       "      <th>2</th>\n",
       "      <td>3</td>\n",
       "      <td>18</td>\n",
       "    </tr>\n",
       "    <tr>\n",
       "      <th>0</th>\n",
       "      <td>20</td>\n",
       "      <td>1</td>\n",
       "    </tr>\n",
       "  </tbody>\n",
       "</table>\n",
       "</div>"
      ],
      "text/plain": [
       "    a   b\n",
       "1   3  -6\n",
       "2   3  18\n",
       "0  20   1"
      ]
     },
     "execution_count": 31,
     "metadata": {},
     "output_type": "execute_result"
    }
   ],
   "source": [
    "df1=pd.DataFrame(np.arange(9).reshape(3,3),index=list(\"bac\"),columns=list(\"yzx\"))\n",
    "print(df1)\n",
    "print(df1.sort_index())\n",
    "\n",
    "#根据一个列的值来排序\n",
    "df2=pd.DataFrame({'a':[20,3,3],'b':[1,-6,18]})\n",
    "print(df2.sort_values(by='b'))\n",
    "\n",
    "#对多个列来排序\n",
    "df2.sort_values(by=['a','b'])"
   ]
  }
 ],
 "metadata": {
  "kernelspec": {
   "display_name": "Python 3",
   "language": "python",
   "name": "python3"
  },
  "language_info": {
   "codemirror_mode": {
    "name": "ipython",
    "version": 3
   },
   "file_extension": ".py",
   "mimetype": "text/x-python",
   "name": "python",
   "nbconvert_exporter": "python",
   "pygments_lexer": "ipython3",
   "version": "3.6.8"
  },
  "toc": {
   "base_numbering": 1,
   "nav_menu": {},
   "number_sections": true,
   "sideBar": true,
   "skip_h1_title": false,
   "title_cell": "Table of Contents",
   "title_sidebar": "Contents",
   "toc_cell": false,
   "toc_position": {},
   "toc_section_display": true,
   "toc_window_display": false
  }
 },
 "nbformat": 4,
 "nbformat_minor": 2
}
