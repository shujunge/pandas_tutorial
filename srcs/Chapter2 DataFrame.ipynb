{
 "cells": [
  {
   "cell_type": "code",
   "execution_count": 1,
   "metadata": {},
   "outputs": [
    {
     "name": "stdout",
     "output_type": "stream",
     "text": [
      "0.20.3\n"
     ]
    }
   ],
   "source": [
    "import numpy as np\n",
    "import pandas as pd\n",
    "from pandas import DataFrame\n",
    "print(pd.__version__)"
   ]
  },
  {
   "cell_type": "markdown",
   "metadata": {},
   "source": [
    "DataFrame介绍\n",
    "====\n",
    "* DataFrame是一个表格型的数据结构，既有行索引（保存在index）又有列索引（保存在columns).\n",
    "* 建DateFrame方法有很多（后面再介绍），最常用的是直接传入一个由等长列表或Numpy组成的字典.\n",
    "* 同Series一样，DataFrame的index和columns有name属性."
   ]
  },
  {
   "cell_type": "code",
   "execution_count": 2,
   "metadata": {},
   "outputs": [
    {
     "name": "stdout",
     "output_type": "stream",
     "text": [
      "################################################################################\n",
      "    Province  pop  year\n",
      "0  Guangdong  1.3  2018\n",
      "1    Beijing  2.5  2018\n",
      "2    Qinghai  1.1  2018\n",
      "3    Fujiang  0.7  2018\n",
      "################################################################################\n",
      "       year   Province  pop\n",
      "one    2018  Guangdong  1.3\n",
      "two    2018    Beijing  2.5\n",
      "three  2018    Qinghai  1.1\n",
      "four   2018    Fujiang  0.7\n",
      "################################################################################\n",
      "zf     Province  pop  year\n",
      "name                      \n",
      "0     Guangdong  1.3  2018\n",
      "1       Beijing  2.5  2018\n",
      "2       Qinghai  1.1  2018\n",
      "3       Fujiang  0.7  2018\n",
      "(4, 3)\n",
      "name\n",
      "0    Guangdong\n",
      "1      Beijing\n",
      "2      Qinghai\n",
      "3      Fujiang\n",
      "Name: Province, dtype: object\n"
     ]
    }
   ],
   "source": [
    "print(\"#\"*80)\n",
    "my_dict = {\"Province\":[\"Guangdong\",\"Beijing\",\"Qinghai\",\"Fujiang\"],\n",
    "      \"year\":[2018]*4,\n",
    "      \"pop\":[1.3,2.5,1.1,0.7]}\n",
    "my_df = DataFrame(my_dict)\n",
    "print(my_df)\n",
    "\n",
    "print(\"#\"*80)\n",
    "df2= DataFrame(my_dict,columns=['year','Province','pop'],index=['one','two','three','four'])\n",
    "print(df2)\n",
    "\n",
    "print(\"#\"*80)\n",
    "my_df.columns.name = \"zf\"\n",
    "my_df.index.name = \"name\"\n",
    "print(my_df)\n",
    "\n",
    "#通过shape属性获取DataFrame的行数和列数\n",
    "print(my_df.shape)\n",
    "\n",
    "#列索引会作为DataFrame对象的属性\n",
    "print(my_df.Province)"
   ]
  },
  {
   "cell_type": "markdown",
   "metadata": {},
   "source": [
    "DataFrame对象常见存取、赋值和删除方式：\n",
    "=====\n",
    "\n",
    "* DataFrame_object[ ] 能通过列索引来存取，当只有一个标签则返回Series，多于一个则返回DataFrame：\n",
    "* DataFrame_object.loc[ ] 能通过行索引来获取指定行\n",
    "* DataFrame的列可以通过赋值（一个值或一组值）来修改"
   ]
  },
  {
   "cell_type": "code",
   "execution_count": 3,
   "metadata": {},
   "outputs": [
    {
     "name": "stdout",
     "output_type": "stream",
     "text": [
      "zf     Province\n",
      "name           \n",
      "0     Guangdong\n",
      "1       Beijing\n",
      "2       Qinghai\n",
      "3       Fujiang\n",
      "zf     Province  pop\n",
      "name                \n",
      "0     Guangdong  1.3\n",
      "1       Beijing  2.5\n",
      "2       Qinghai  1.1\n",
      "3       Fujiang  0.7\n",
      "zf    pop  year\n",
      "name           \n",
      "0     1.3  2018\n",
      "1     2.5  2018\n",
      "2     1.1  2018\n",
      "3     0.7  2018\n"
     ]
    }
   ],
   "source": [
    "print(my_df[['Province']])\n",
    "print(my_df[['Province','pop']])\n",
    "del my_df['Province']\n",
    "my_df.columns\n",
    "print(my_df)"
   ]
  },
  {
   "cell_type": "markdown",
   "metadata": {},
   "source": [
    "多种创建DataFrame方式\n",
    "======\n",
    "* 调用DataFrame()可以将多种格式的数据转换为DataFrame对象，它的的三个参数data、index和columns分别为数据、行索引和列索引。data可以是："
   ]
  },
  {
   "cell_type": "code",
   "execution_count": 4,
   "metadata": {},
   "outputs": [
    {
     "name": "stdout",
     "output_type": "stream",
     "text": [
      "   A  B  C  D\n",
      "1  1  4  6  0\n",
      "2  0  9  7  9\n",
      "3  3  0  3  3\n",
      "4  1  9  7  5\n",
      "    Province  pop  year\n",
      "1  Guangdong  1.3  2018\n",
      "2    Beijing  2.5  2018\n",
      "3    Qinghai  1.1  2018\n",
      "4    Fujiang  0.7  2018\n",
      "   a  b\n",
      "0  1  4\n",
      "1  2  5\n",
      "2  3  6\n"
     ]
    },
    {
     "data": {
      "text/html": [
       "<div>\n",
       "<style>\n",
       "    .dataframe thead tr:only-child th {\n",
       "        text-align: right;\n",
       "    }\n",
       "\n",
       "    .dataframe thead th {\n",
       "        text-align: left;\n",
       "    }\n",
       "\n",
       "    .dataframe tbody tr th {\n",
       "        vertical-align: top;\n",
       "    }\n",
       "</style>\n",
       "<table border=\"1\" class=\"dataframe\">\n",
       "  <thead>\n",
       "    <tr style=\"text-align: right;\">\n",
       "      <th></th>\n",
       "      <th>name</th>\n",
       "      <th>count</th>\n",
       "    </tr>\n",
       "  </thead>\n",
       "  <tbody>\n",
       "    <tr>\n",
       "      <th>0</th>\n",
       "      <td>b'item1'</td>\n",
       "      <td>10</td>\n",
       "    </tr>\n",
       "    <tr>\n",
       "      <th>1</th>\n",
       "      <td>b'item2'</td>\n",
       "      <td>20</td>\n",
       "    </tr>\n",
       "    <tr>\n",
       "      <th>2</th>\n",
       "      <td>b'item3'</td>\n",
       "      <td>30</td>\n",
       "    </tr>\n",
       "    <tr>\n",
       "      <th>3</th>\n",
       "      <td>b'item4'</td>\n",
       "      <td>40</td>\n",
       "    </tr>\n",
       "  </tbody>\n",
       "</table>\n",
       "</div>"
      ],
      "text/plain": [
       "       name  count\n",
       "0  b'item1'     10\n",
       "1  b'item2'     20\n",
       "2  b'item3'     30\n",
       "3  b'item4'     40"
      ]
     },
     "execution_count": 4,
     "metadata": {},
     "output_type": "execute_result"
    }
   ],
   "source": [
    "# numpy ->DataFrame\n",
    "df3=pd.DataFrame(np.random.randint(0,10,(4,4)),index=[1,2,3,4],columns=['A','B','C','D'])\n",
    "print(df3)\n",
    "\n",
    "# dict -> DataFrame\n",
    "\n",
    "df4=pd.DataFrame(my_dict,index=[1,2,3,4])\n",
    "print(df4)\n",
    "\n",
    "dict2={\"a\":[1,2,3],\"b\":[4,5,6]}\n",
    "df5=pd.DataFrame.from_dict(dict2)\n",
    "print(df5)\n",
    "\n",
    "arr=np.array([('item1',10),('item2',20),('item3',30),('item4',40)],dtype=[(\"name\",\"10S\"),(\"count\",int)])\n",
    "df5=pd.DataFrame(arr)\n",
    "df5\n",
    "\n"
   ]
  },
  {
   "cell_type": "markdown",
   "metadata": {},
   "source": [
    "将DataFrame对象转换为其他格式的数据\n",
    "=====\n",
    "\n",
    "* to_dict()方法将DataFrame对象转换为字典，参数orient决定字典元素的类型\n",
    "* to_csv()将DataFrame保存为csv文件"
   ]
  },
  {
   "cell_type": "code",
   "execution_count": 5,
   "metadata": {},
   "outputs": [
    {
     "name": "stdout",
     "output_type": "stream",
     "text": [
      "{'Province': {1: 'Guangdong', 2: 'Beijing', 3: 'Qinghai', 4: 'Fujiang'}, 'pop': {1: 1.3, 2: 2.5, 3: 1.1, 4: 0.7}, 'year': {1: 2018, 2: 2018, 3: 2018, 4: 2018}}\n"
     ]
    }
   ],
   "source": [
    "print(df4.to_dict())\n",
    "df4.to_csv(\"temp.csv\",index =False)"
   ]
  }
 ],
 "metadata": {
  "kernelspec": {
   "display_name": "Python 3",
   "language": "python",
   "name": "python3"
  },
  "language_info": {
   "codemirror_mode": {
    "name": "ipython",
    "version": 3
   },
   "file_extension": ".py",
   "mimetype": "text/x-python",
   "name": "python",
   "nbconvert_exporter": "python",
   "pygments_lexer": "ipython3",
   "version": "3.6.8"
  },
  "toc": {
   "base_numbering": 1,
   "nav_menu": {},
   "number_sections": true,
   "sideBar": true,
   "skip_h1_title": false,
   "title_cell": "Table of Contents",
   "title_sidebar": "Contents",
   "toc_cell": false,
   "toc_position": {},
   "toc_section_display": true,
   "toc_window_display": false
  }
 },
 "nbformat": 4,
 "nbformat_minor": 2
}
