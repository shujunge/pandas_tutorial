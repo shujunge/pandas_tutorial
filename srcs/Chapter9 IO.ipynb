{
 "cells": [
  {
   "cell_type": "code",
   "execution_count": 2,
   "metadata": {},
   "outputs": [
    {
     "name": "stdout",
     "output_type": "stream",
     "text": [
      "0.20.3\n"
     ]
    }
   ],
   "source": [
    "import numpy as np\n",
    "import pandas as pd\n",
    "print(pd.__version__)"
   ]
  },
  {
   "cell_type": "markdown",
   "metadata": {},
   "source": [
    "## 写入CSV文件\n",
    "写入csv文件是最常用的，csv文件默认用’,’作为分隔符。\n",
    "\n",
    "df1.to_csv(path_or_buf=None, sep=’,’, na_rep=”, float_format=None, columns=None, header=True, index=True, index_label=None, mode=’w’, encoding=None)\n",
    "\n",
    "## 写入Excel文件\n",
    "对比写入csv文件，写入Excel文件不同的就是，当需要写入多个Sheet时，则需要在写入前创建一个Excel文件。\n",
    "\n",
    "df1.to_excel(excel_writer, sheet_name=’Sheet1’, na_rep=”, float_format=None, columns=None, header=True, index=True, index_label=None, startrow=0, startcol=0, engine=None, merge_cells=True, encoding=None, inf_rep=’inf’, verbose=True, freeze_panes=None)\n"
   ]
  },
  {
   "cell_type": "code",
   "execution_count": null,
   "metadata": {},
   "outputs": [],
   "source": [
    "df1=pd.DataFrame({'A':range(3),'B':list(\"abc\"),'C':['red',np.NaN,'yellow']})\n",
    "print(df1)\n",
    "#写入csv文件中\n",
    "df1.to_csv(\"test.csv\",index=False)\n",
    "\n",
    "#写入单个Sheet表格\n",
    "#只能写入一个Sheet表格，多次写入则会清除excel文件中的内容\n",
    "df1.to_excel('test4.xlsx')\n",
    "\n",
    "#指定Sheetname\n",
    "f1.to_excel('test4.xlsx',sheet_name='df1')\n",
    "\n",
    "#同一个Excel文件写入多个Sheet表格\n",
    "work=pd.ExcelWriter('test4.xlsx')\n",
    "df1.to_excel(work,sheet_name='df2')\n",
    "df1['A'].to_excel(work,sheet_name='df3')"
   ]
  },
  {
   "cell_type": "markdown",
   "metadata": {},
   "source": [
    "## 读取CSV文件\n",
    "\n",
    "csv文件以.csv后缀结尾，默认用’,’作为分隔符，pandas提供了pd.read_csv()函数供我们读取csv文件：\n",
    "\n",
    "pd.read_csv(filepath_or_buffer, sep=’,’, delimiter=None, header=’infer’, names=None, index_col=None, usecols=None, squeeze=False, converters=None, true_values=None, false_values=None, skiprows=None, nrows=None, na_values=None)\n",
    "\n",
    "\n",
    "## 读取Excel文件\n",
    "Excel文件比csv特别的是excel可以有多个Sheet表格，当Excel文件只有单个Sheet表格时，用pd.read_excel()、pd.read_table()、甚至pd.read_csv()都可以，指定分隔符即可，当有多个Sheet表格时用pd.read_excel()更加灵活。\n",
    "\n",
    "pd.read_excel(io, sheet_name=0, header=0, skiprows=None, skip_footer=0, index_col=None, names=None, usecols=None, parse_dates=False, date_parser=None, na_values=None, thousands=None, convert_float=True, converters=None, dtype=None, true_values=None, false_values=None, engine=None, squeeze=False, **kwds)\n",
    "\n",
    "## 总结\n",
    "read_csv/read_excel/read_table 这三个读取文件函数将会是我们最常用的函数，read_csv和read_table差不多一样，不同的是前者sep=’,’，后者sep=’\\t’。\n",
    "* 取csv用read_csv即可。\n",
    "* 读取txt/json等等则可用read_table,读取时指定sep即可。\n",
    "* 读取excel文件使用read_excel则为最好。\n",
    "\n"
   ]
  },
  {
   "cell_type": "code",
   "execution_count": null,
   "metadata": {},
   "outputs": [],
   "source": [
    "pd.read_csv('test.csv',usecols=[0,2])\n",
    "\n",
    "#读取一定行数\n",
    "pd.read_csv('test.csv',nrows=3)\n",
    "\n",
    "pd.read_excel('test4.xlsx')\n",
    "\n",
    "#读取指定Sheet表格\n",
    "#sheet_name可指定Sheet表格，可以是Sheetname或者Sheet的编号（从0开始）\n",
    "pd.read_excel('test4.xlsx',sheet_name=1,header=None,names=['k1','k2','value1','value2'])\n"
   ]
  }
 ],
 "metadata": {
  "kernelspec": {
   "display_name": "Python 3",
   "language": "python",
   "name": "python3"
  },
  "language_info": {
   "codemirror_mode": {
    "name": "ipython",
    "version": 3
   },
   "file_extension": ".py",
   "mimetype": "text/x-python",
   "name": "python",
   "nbconvert_exporter": "python",
   "pygments_lexer": "ipython3",
   "version": "3.6.8"
  },
  "toc": {
   "base_numbering": 1,
   "nav_menu": {},
   "number_sections": true,
   "sideBar": true,
   "skip_h1_title": false,
   "title_cell": "Table of Contents",
   "title_sidebar": "Contents",
   "toc_cell": false,
   "toc_position": {},
   "toc_section_display": true,
   "toc_window_display": false
  }
 },
 "nbformat": 4,
 "nbformat_minor": 2
}
