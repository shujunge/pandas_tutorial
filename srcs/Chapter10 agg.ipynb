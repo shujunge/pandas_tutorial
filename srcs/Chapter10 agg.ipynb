{
 "cells": [
  {
   "cell_type": "code",
   "execution_count": 1,
   "metadata": {},
   "outputs": [],
   "source": [
    "import pandas as pd"
   ]
  },
  {
   "cell_type": "markdown",
   "metadata": {},
   "source": [
    "聚合运算\n",
    "=====\n",
    "\n",
    "在数据分析中，对数据聚合（求和、平均值等）通常是不可避免的。在将数据分组（groupby）后，新手若不知函数 agg() 的情况下，很有可能写出二三十行的for循环只为求每个分组的平均值。在这里，介绍个强大的函数：agg() ,能让你的代码缩减到一行"
   ]
  },
  {
   "cell_type": "code",
   "execution_count": 2,
   "metadata": {},
   "outputs": [
    {
     "name": "stdout",
     "output_type": "stream",
     "text": [
      "  sex smoker  age  weight\n",
      "0   F      Y   21     120\n",
      "1   F      N   30     100\n",
      "2   M      Y   17     132\n",
      "3   F      Y   37     140\n",
      "4   M      N   40      94\n",
      "5   M      Y   18      89\n",
      "6   F      Y   26     123\n"
     ]
    }
   ],
   "source": [
    "df1 = pd.DataFrame({'sex':list('FFMFMMF'),'smoker':list('YNYYNYY'),'age':[21,30,17,37,40,18,26],'weight':[120,100,132,140,94,89,123]})\n",
    "print(df1)"
   ]
  },
  {
   "cell_type": "code",
   "execution_count": 3,
   "metadata": {},
   "outputs": [
    {
     "name": "stdout",
     "output_type": "stream",
     "text": [
      "<pandas.core.groupby.generic.DataFrameGroupBy object at 0x7f398bbedac8>\n",
      "sex  smoker\n",
      "F    N         30.0\n",
      "     Y         28.0\n",
      "M    N         40.0\n",
      "     Y         17.5\n",
      "Name: age, dtype: float64\n",
      "             age      weight\n",
      "sex smoker                  \n",
      "F   N       30.0  100.000000\n",
      "    Y       28.0  127.666667\n",
      "M   N       40.0   94.000000\n",
      "    Y       17.5  110.500000\n",
      "            min  max\n",
      "sex smoker          \n",
      "F   N        30   30\n",
      "    Y        21   37\n",
      "M   N        40   40\n",
      "    Y        17   18\n",
      "               A   B\n",
      "sex smoker          \n",
      "F   N       30.0  30\n",
      "    Y       28.0  37\n",
      "M   N       40.0  40\n",
      "    Y       17.5  18\n",
      "           age       weight     \n",
      "           sum  mean    min  max\n",
      "sex smoker                      \n",
      "F   N       30  30.0    100  100\n",
      "    Y       84  28.0    120  140\n",
      "M   N       40  40.0     94   94\n",
      "    Y       35  17.5     89  132\n"
     ]
    }
   ],
   "source": [
    "grouped=df1.groupby(['sex','smoker'])\n",
    "print(grouped)\n",
    "\n",
    "#求单列下聚合\n",
    "print(grouped['age'].agg('mean'))\n",
    "\n",
    "\n",
    "#求多列下聚合\n",
    "print(grouped.agg('mean'))\n",
    "\n",
    "# 求多种聚合运算\n",
    "print(grouped['age'].agg(['min','max']))\n",
    "\n",
    "#求多种聚合运算的同时更改列名\n",
    "print(grouped['age'].agg([('A','mean'),('B','max')]))\n",
    "\n",
    "#不同的列运用不同的聚合函数\n",
    "print(grouped.agg({'age':['sum','mean'],'weight':['min','max']}))\n",
    "\n"
   ]
  },
  {
   "cell_type": "code",
   "execution_count": 4,
   "metadata": {},
   "outputs": [
    {
     "name": "stdout",
     "output_type": "stream",
     "text": [
      "            age  weight\n",
      "sex smoker             \n",
      "F   N         0       0\n",
      "    Y        16      20\n",
      "M   N         0       0\n",
      "    Y         1      43\n",
      "             age                                                 weight  \\\n",
      "           count  mean       std   min    25%   50%    75%   max  count   \n",
      "sex smoker                                                                \n",
      "F   N        1.0  30.0       NaN  30.0  30.00  30.0  30.00  30.0    1.0   \n",
      "    Y        3.0  28.0  8.185353  21.0  23.50  26.0  31.50  37.0    3.0   \n",
      "M   N        1.0  40.0       NaN  40.0  40.00  40.0  40.00  40.0    1.0   \n",
      "    Y        2.0  17.5  0.707107  17.0  17.25  17.5  17.75  18.0    2.0   \n",
      "\n",
      "                                                                        \n",
      "                  mean        std    min     25%    50%     75%    max  \n",
      "sex smoker                                                              \n",
      "F   N       100.000000        NaN  100.0  100.00  100.0  100.00  100.0  \n",
      "    Y       127.666667  10.785793  120.0  121.50  123.0  131.50  140.0  \n",
      "M   N        94.000000        NaN   94.0   94.00   94.0   94.00   94.0  \n",
      "    Y       110.500000  30.405592   89.0   99.75  110.5  121.25  132.0  \n"
     ]
    }
   ],
   "source": [
    "#使用自定义的聚合函数\n",
    "def Max_cut_Min(group):\n",
    "    return group.max()-group.min()\n",
    "\n",
    "print(grouped.agg(Max_cut_Min))\n",
    "print(grouped.describe())"
   ]
  },
  {
   "cell_type": "markdown",
   "metadata": {},
   "source": [
    "Apply–对行、列用函数处理\n",
    "======\n",
    "apply函数，可以说是pandas中自由度最高的函数。不过，是否能发挥其巨大威力，取决于我们的创造力。\n",
    "\n",
    "首先我们必须弄清楚，之前都是对列进行操作，而现在是求每一行，也就是每个人的含水量，即对行进行操作，故应用apply函数时axis=1。而每一次应用自定义的water函数时，传进的一行是Series对象，每次返回单值，最终组合成Series对象。\n",
    "\n",
    "## 总结\n",
    "首先，我们要弄清操作的元素是行还是列，若对每一行进行apply，则axis=1。其次，编写好apply应用的函数，注意传进的参数和返回值的类型是单值、Series或DataFrame。最后，groupby 和 apply 组合，运用得当将会产生巨大的威力！\n"
   ]
  },
  {
   "cell_type": "code",
   "execution_count": 5,
   "metadata": {},
   "outputs": [
    {
     "name": "stdout",
     "output_type": "stream",
     "text": [
      "  sex smoker  age  weight\n",
      "0   F      Y   21     120\n",
      "1   F      N   30     100\n",
      "2   M      Y   17     132\n",
      "3   F      Y   37     140\n",
      "4   M      N   40      94\n",
      "5   M      Y   18      89\n",
      "6   F      Y   26     123\n"
     ]
    }
   ],
   "source": [
    "df1=pd.DataFrame({'sex':list('FFMFMMF'),'smoker':list('YNYYNYY'),'age':[21,30,17,37,40,18,26],'weight':[120,100,132,140,94,89,123]})\n",
    "\n",
    "print(df1)"
   ]
  },
  {
   "cell_type": "code",
   "execution_count": 6,
   "metadata": {},
   "outputs": [
    {
     "name": "stdout",
     "output_type": "stream",
     "text": [
      "0    60.0\n",
      "1    50.0\n",
      "2    79.2\n",
      "3    70.0\n",
      "4    56.4\n",
      "5    53.4\n",
      "6    61.5\n",
      "dtype: float64\n"
     ]
    }
   ],
   "source": [
    "def bin_age(age):\n",
    "    if age >=18:\n",
    "        return 1\n",
    "    else:\n",
    "        return 0\n",
    "\n",
    "df1['age'].apply(bin_age)\n",
    "df1['age'].apply(lambda x : 1 if x >18 else 0)\n",
    "\n",
    "def water(one_row):\n",
    "    #婴儿\n",
    "    if one_row['age']==1:\n",
    "        return one_row['weight']*0.7\n",
    "    #成年男女\n",
    "    if one_row['sex']=='M':\n",
    "        return one_row['weight']*0.6\n",
    "    else:\n",
    "        return one_row['weight']*0.5\n",
    "\n",
    "print(df1.apply(water,axis=1))\n"
   ]
  },
  {
   "cell_type": "code",
   "execution_count": null,
   "metadata": {},
   "outputs": [],
   "source": []
  }
 ],
 "metadata": {
  "kernelspec": {
   "display_name": "Python 3",
   "language": "python",
   "name": "python3"
  },
  "language_info": {
   "codemirror_mode": {
    "name": "ipython",
    "version": 3
   },
   "file_extension": ".py",
   "mimetype": "text/x-python",
   "name": "python",
   "nbconvert_exporter": "python",
   "pygments_lexer": "ipython3",
   "version": "3.7.3"
  },
  "toc": {
   "base_numbering": 1,
   "nav_menu": {},
   "number_sections": true,
   "sideBar": true,
   "skip_h1_title": false,
   "title_cell": "Table of Contents",
   "title_sidebar": "Contents",
   "toc_cell": false,
   "toc_position": {},
   "toc_section_display": true,
   "toc_window_display": false
  }
 },
 "nbformat": 4,
 "nbformat_minor": 4
}
