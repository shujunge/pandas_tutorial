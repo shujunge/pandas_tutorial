{
 "cells": [
  {
   "cell_type": "code",
   "execution_count": 1,
   "metadata": {},
   "outputs": [
    {
     "name": "stdout",
     "output_type": "stream",
     "text": [
      "0.20.3\n"
     ]
    }
   ],
   "source": [
    "import pandas as pd\n",
    "import numpy as np\n",
    "from pandas import DataFrame\n",
    "print(pd.__version__)"
   ]
  },
  {
   "cell_type": "markdown",
   "metadata": {},
   "source": [
    "Index\n",
    "====\n",
    "\n",
    "* Index对象保存着索引标签数据，它可以快速找到标签对应的整数下标，其功能与Python的字典类似.\n",
    "* Index对象调用Index()来创建，可传递给DataFrame对象的参数index和columns。因为Index是不可变的，因此多个DataFrame对象的索引可以是同个Index对象。"
   ]
  },
  {
   "cell_type": "code",
   "execution_count": 5,
   "metadata": {},
   "outputs": [
    {
     "name": "stdout",
     "output_type": "stream",
     "text": [
      "Index(['Province', 'pop', 'year'], dtype='object') RangeIndex(start=0, stop=4, step=1)\n",
      "['Province' 'pop' 'year'] [0 1 2 3]\n"
     ]
    },
    {
     "data": {
      "text/html": [
       "<div>\n",
       "<style>\n",
       "    .dataframe thead tr:only-child th {\n",
       "        text-align: right;\n",
       "    }\n",
       "\n",
       "    .dataframe thead th {\n",
       "        text-align: left;\n",
       "    }\n",
       "\n",
       "    .dataframe tbody tr th {\n",
       "        vertical-align: top;\n",
       "    }\n",
       "</style>\n",
       "<table border=\"1\" class=\"dataframe\">\n",
       "  <thead>\n",
       "    <tr style=\"text-align: right;\">\n",
       "      <th></th>\n",
       "      <th>a</th>\n",
       "      <th>b</th>\n",
       "      <th>c</th>\n",
       "    </tr>\n",
       "  </thead>\n",
       "  <tbody>\n",
       "    <tr>\n",
       "      <th>a</th>\n",
       "      <td>2</td>\n",
       "      <td>6</td>\n",
       "      <td>6</td>\n",
       "    </tr>\n",
       "    <tr>\n",
       "      <th>b</th>\n",
       "      <td>7</td>\n",
       "      <td>6</td>\n",
       "      <td>4</td>\n",
       "    </tr>\n",
       "    <tr>\n",
       "      <th>c</th>\n",
       "      <td>2</td>\n",
       "      <td>1</td>\n",
       "      <td>2</td>\n",
       "    </tr>\n",
       "  </tbody>\n",
       "</table>\n",
       "</div>"
      ],
      "text/plain": [
       "   a  b  c\n",
       "a  2  6  6\n",
       "b  7  6  4\n",
       "c  2  1  2"
      ]
     },
     "execution_count": 5,
     "metadata": {},
     "output_type": "execute_result"
    }
   ],
   "source": [
    "m_dict = {\"Province\":[\"Guangdong\",\"Beijing\",\"Qinghai\",\"Fujiang\"],\n",
    "      \"year\":[2018]*4,\n",
    "      \"pop\":[1.3,2.5,1.1,0.7]}\n",
    "m_df = DataFrame(m_dict)\n",
    "\n",
    "print(m_df.columns,m_df.index)\n",
    "print(m_df.columns.values,m_df.index.values)\n",
    "\n",
    "index=pd.Index(['a','b','c'])\n",
    "df2 = DataFrame(np.random.randint(1,10,(3,3)),index=index,columns=index)\n",
    "df2"
   ]
  },
  {
   "cell_type": "markdown",
   "metadata": {},
   "source": [
    "MultiIndex\n",
    "======\n",
    "\n",
    "* MultiIndex表示多级索引，它是从Index继承过来的，其中多级标签用元组对象来表示。"
   ]
  },
  {
   "cell_type": "markdown",
   "metadata": {},
   "source": [
    "## 创建MultiIndex对象"
   ]
  },
  {
   "cell_type": "code",
   "execution_count": 10,
   "metadata": {},
   "outputs": [
    {
     "name": "stdout",
     "output_type": "stream",
     "text": [
      "MultiIndex(levels=[['A', 'B'], ['x1', 'x2', 'y1', 'y2', 'y3']],\n",
      "           labels=[[0, 0, 1, 1, 1], [0, 1, 2, 3, 4]],\n",
      "           names=['class1', 'class2'])\n",
      "               0  1  2\n",
      "class1 class2         \n",
      "A      x1      4  4  9\n",
      "       x2      7  5  6\n",
      "B      y1      3  5  1\n",
      "       y2      2  4  2\n",
      "       y3      5  7  9\n",
      "MultiIndex(levels=[['A', 'B'], ['x1', 'x2', 'y1', 'y2']],\n",
      "           labels=[[0, 0, 1, 1], [0, 1, 2, 3]],\n",
      "           names=['class1', 'class2'])\n",
      "               0  1  2\n",
      "class1 class2         \n",
      "A      x1      2  5  1\n",
      "       x2      2  6  9\n",
      "B      y1      6  3  1\n",
      "       y2      4  9  5\n"
     ]
    }
   ],
   "source": [
    "m_index1=pd.Index([(\"A\",\"x1\"),(\"A\",\"x2\"),(\"B\",\"y1\"),(\"B\",\"y2\"),(\"B\",\"y3\")],name=[\"class1\",\"class2\"])\n",
    "print(m_index1)\n",
    "df1=DataFrame(np.random.randint(1,10,(5,3)),index=m_index1)\n",
    "print(df1)\n",
    "\n",
    "\n",
    "class1=[\"A\",\"A\",\"B\",\"B\"]\n",
    "class2=[\"x1\",\"x2\",\"y1\",\"y2\"]\n",
    "m_index2=pd.MultiIndex.from_arrays([class1,class2],names=[\"class1\",\"class2\"])\n",
    "print(m_index2)\n",
    "df2=DataFrame(np.random.randint(1,10,(4,3)),index=m_index2)\n",
    "print(df2)"
   ]
  },
  {
   "cell_type": "markdown",
   "metadata": {},
   "source": [
    "MultiIndex对象属性\n",
    "====\n",
    "* MultiIndex对象使用多个Index对象保存索引中每一级的标签：\n",
    "* MultiIndex对象还有属性labels保存标签的下标："
   ]
  },
  {
   "cell_type": "code",
   "execution_count": 15,
   "metadata": {},
   "outputs": [
    {
     "name": "stdout",
     "output_type": "stream",
     "text": [
      "('A', 'x1')\n",
      "0\n",
      "[ 1  2 -1]\n",
      "Index(['A', 'B'], dtype='object', name='class1')\n",
      "Index(['x1', 'x2', 'y1', 'y2', 'y3'], dtype='object', name='class2')\n",
      "FrozenNDArray([0, 0, 1, 1, 1], dtype='int8')\n",
      "FrozenNDArray([0, 1, 2, 3, 4], dtype='int8')\n"
     ]
    }
   ],
   "source": [
    "m_index4=df1.index\n",
    "print(m_index4[0])\n",
    "print(m_index4.get_loc((\"A\",\"x1\")))\n",
    "print(m_index4.get_indexer([(\"A\",\"x2\"),(\"B\",\"y1\"),\"nothing\"]))\n",
    "\n",
    "print(m_index4.levels[0])\n",
    "print(m_index4.levels[1])\n",
    "\n",
    "print(m_index4.labels[0])\n",
    "print(m_index4.labels[1])"
   ]
  },
  {
   "cell_type": "markdown",
   "metadata": {},
   "source": [
    "下标存取\n",
    "====\n",
    "\n",
    "* Series和DataFrame提供了丰富的下标存取方法，除了直接用[ ],还有.loc[ ]、.iloc[ ]、.at[ ]、.iat[ ]和.ix[ ]等存取方式。\n",
    "* 获取单个值.at[ ]和.iat[ ] 能使用标签和整数下标获取单个值。此外，推荐.get_value(),相比前面的更快."
   ]
  },
  {
   "cell_type": "code",
   "execution_count": 20,
   "metadata": {},
   "outputs": [
    {
     "name": "stdout",
     "output_type": "stream",
     "text": [
      "    c1  c2  c3\n",
      "r1   7   4   8\n",
      "r2   5   7   3\n",
      "r3   7   8   5\n",
      "r4   4   8   8\n",
      "r1    7\n",
      "r2    5\n",
      "r3    7\n",
      "r4    4\n",
      "Name: c1, dtype: int64\n",
      "    c1  c3\n",
      "r1   7   8\n",
      "r2   5   3\n",
      "r3   7   5\n",
      "r4   4   8\n",
      "    c1  c2  c3\n",
      "r1   7   4   8\n",
      "r2   5   7   3\n"
     ]
    }
   ],
   "source": [
    "np.random.seed(42)\n",
    "df1=pd.DataFrame(np.random.randint(1,10,(4,3)),index=['r1','r2','r3','r4'],columns=['c1','c2','c3'])\n",
    "print(df1)\n",
    "\n",
    "print(df1['c1'])\n",
    "\n",
    "print(df1[['c1','c3']])\n",
    "print(df1['r1':'r2'])"
   ]
  },
  {
   "cell_type": "code",
   "execution_count": 22,
   "metadata": {},
   "outputs": [
    {
     "name": "stdout",
     "output_type": "stream",
     "text": [
      "    c1  c2  c3\n",
      "r1   7   4   8\n",
      "r3   7   8   5\n",
      "     c1   c2   c3\n",
      "r1  7.0  NaN  8.0\n",
      "r2  5.0  7.0  NaN\n",
      "r3  7.0  8.0  5.0\n",
      "r4  NaN  8.0  8.0\n",
      "8\n",
      "8\n",
      "8\n",
      "[8 8 4]\n"
     ]
    }
   ],
   "source": [
    "#布尔操作\n",
    "print(df1[df1.c1>5])\n",
    "\n",
    "#布尔DataFrame\n",
    "print(df1[df1>4])\n",
    "\n",
    "\n",
    "print(df1.at['r1','c3'])\n",
    "print(df1.iat[0,2])\n",
    "print(df1.get_value('r1','c3'))\n",
    "print(df1.lookup(['r1','r3','r1'],['c3','c2','c2']))"
   ]
  },
  {
   "cell_type": "markdown",
   "metadata": {},
   "source": [
    "query()方法\n",
    "===\n",
    "* df1[(df1.c1>4)&(df1.c3<5)]==df1.query(\"c1>4 and c3<5\")"
   ]
  },
  {
   "cell_type": "code",
   "execution_count": 24,
   "metadata": {},
   "outputs": [
    {
     "name": "stdout",
     "output_type": "stream",
     "text": [
      "    c1  c2  c3\n",
      "r2   5   7   3\n",
      "    c1  c2  c3\n",
      "r2   5   7   3\n"
     ]
    }
   ],
   "source": [
    "print(df1[(df1.c1>4)&(df1.c3<5)])\n",
    "print(df1.query(\"c1>4 and c3<5\"))"
   ]
  }
 ],
 "metadata": {
  "kernelspec": {
   "display_name": "Python 3",
   "language": "python",
   "name": "python3"
  },
  "language_info": {
   "codemirror_mode": {
    "name": "ipython",
    "version": 3
   },
   "file_extension": ".py",
   "mimetype": "text/x-python",
   "name": "python",
   "nbconvert_exporter": "python",
   "pygments_lexer": "ipython3",
   "version": "3.6.8"
  },
  "toc": {
   "base_numbering": 1,
   "nav_menu": {},
   "number_sections": true,
   "sideBar": true,
   "skip_h1_title": false,
   "title_cell": "Table of Contents",
   "title_sidebar": "Contents",
   "toc_cell": false,
   "toc_position": {},
   "toc_section_display": true,
   "toc_window_display": false
  }
 },
 "nbformat": 4,
 "nbformat_minor": 2
}
