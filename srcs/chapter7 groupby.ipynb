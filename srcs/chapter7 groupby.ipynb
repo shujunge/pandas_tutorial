{
 "cells": [
  {
   "cell_type": "code",
   "execution_count": 1,
   "metadata": {},
   "outputs": [
    {
     "name": "stdout",
     "output_type": "stream",
     "text": [
      "0.20.3\n"
     ]
    }
   ],
   "source": [
    "import pandas as pd\n",
    "import numpy as np\n",
    "print(pd.__version__)"
   ]
  },
  {
   "cell_type": "markdown",
   "metadata": {},
   "source": [
    "GroupBy技术进行分组\n",
    "=====\n",
    "GroupBy分组\n",
    "对数据进行分组并对每个分组进行运算是数据分析中很重要的环节。该博客讲解了利用pandas的Groupby技术如何进行分组。下图简单介绍了分组的过程：\n"
   ]
  },
  {
   "cell_type": "code",
   "execution_count": 9,
   "metadata": {},
   "outputs": [
    {
     "name": "stdout",
     "output_type": "stream",
     "text": [
      "   Data1  Data2 key1 key2\n",
      "0      1     16    a    x\n",
      "1      2     12    a    y\n",
      "2      5     17    b    y\n",
      "3      8     10    b    x\n",
      "4      4     11    a    y\n",
      "<pandas.core.groupby.SeriesGroupBy object at 0x7f67a693eda0>\n",
      "key1\n",
      "a    3\n",
      "b    2\n",
      "Name: Data1, dtype: int64\n",
      "key1\n",
      "a    3\n",
      "b    2\n",
      "Name: Data1, dtype: int64\n",
      "         Data1  Data2\n",
      "key1                 \n",
      "a     2.333333   13.0\n",
      "b     6.500000   13.5\n",
      "key1  key2\n",
      "a     x       1\n",
      "      y       2\n",
      "b     x       1\n",
      "      y       1\n",
      "Name: Data1, dtype: int64\n",
      "           Data1  Data2\n",
      "key1 key2              \n",
      "a    x         1     16\n",
      "     y         6     23\n",
      "b    x         8     10\n",
      "     y         5     17\n"
     ]
    }
   ],
   "source": [
    "df1=pd.DataFrame({'Data1':np.random.randint(0,10,5),'Data2':np.random.randint(10,20,5),'key1':list('aabba'),'key2':list('xyyxy')})\n",
    "print(df1)\n",
    "\n",
    "gr1=df1['Data1'].groupby(df1['key1'])\n",
    "print(gr1)\n",
    "print(gr1.size())\n",
    "\n",
    "#根据单列来对单列分组\n",
    "print(df1['Data1'].groupby(df1['key1']).count())\n",
    "\n",
    "#根据单列来对多列分组\n",
    "print(df1[['Data1','Data2']].groupby(df1['key1']).mean())\n",
    "\n",
    "#根据多列对单列分组\n",
    "print(df1['Data1'].groupby([df1['key1'],df1['key2']]).count())\n",
    "\n",
    "#根据多列对多列分组\n",
    "print(df1.groupby([df1['key1'],df1['key2']]).sum())\n",
    "\n",
    "#列表\n",
    "df1['Data1'].groupby([1,2,3,2,1]).count()"
   ]
  },
  {
   "cell_type": "code",
   "execution_count": 12,
   "metadata": {},
   "outputs": [
    {
     "name": "stdout",
     "output_type": "stream",
     "text": [
      "('a',    Data1  Data2 key1 key2\n",
      "0      1     16    a    x\n",
      "1      2     12    a    y\n",
      "4      4     11    a    y)\n",
      "a的类型： <class 'tuple'>\n",
      "\n",
      " a\n",
      "a[0]的类型： <class 'str'>\n",
      "\n",
      "    Data1  Data2 key1 key2\n",
      "0      1     16    a    x\n",
      "1      2     12    a    y\n",
      "4      4     11    a    y\n",
      "a[1]的类型： <class 'pandas.core.frame.DataFrame'>\n",
      "*************a*************\n",
      "    Data1  Data2 key1 key2\n",
      "0      1     16    a    x\n",
      "1      2     12    a    y\n",
      "4      4     11    a    y\n",
      "\n",
      "*************b*************\n",
      "    Data1  Data2 key1 key2\n",
      "2      5     17    b    y\n",
      "3      8     10    b    x\n",
      "\n",
      "   Data1  Data2 key1 key2\n",
      "2      5     17    b    y\n",
      "3      8     10    b    x\n",
      "   Data1  Data2 key1 key2\n",
      "1      2     12    a    y\n",
      "4      4     11    a    y\n"
     ]
    }
   ],
   "source": [
    "a,b= df1.groupby('key1')\n",
    "print(a)\n",
    "print('a的类型：',type(a))\n",
    "\n",
    "print('\\n',a[0])\n",
    "print('a[0]的类型：',type(a[0]))\n",
    "\n",
    "print('\\n',a[1])\n",
    "print('a[1]的类型：',type(a[1]))\n",
    "\n",
    "for name,group in df1.groupby('key1'):\n",
    "    print('*'*13+name+'*'*13+'\\n',group)\n",
    "    print()\n"
   ]
  },
  {
   "cell_type": "code",
   "execution_count": null,
   "metadata": {},
   "outputs": [],
   "source": [
    "#将分组结果变成字典\n",
    "dict1=dict(list(df1.groupby('key1')))\n",
    "print(dict1['b'])\n",
    "dict2=dict(list(df1.groupby(['key1','key2'])))\n",
    "print(dict2[('a','y')])"
   ]
  },
  {
   "cell_type": "markdown",
   "metadata": {},
   "source": [
    "Merge-数据库风格的合并\n",
    "======\n",
    "数据的合并（merge）和连接（join）是我们在数据分析和挖掘中不可或缺的，是通过一个或一个以上的键连接的。pandas的合并（merge）的的绝大功能和数据库操作类似的。具有如下参数：\n",
    "\n",
    "pd.merge(left, right, how=’inner’, on=None, left_on=None, right_on=None, left_index=False,right_index=False, sort=False, suffixes=(‘_x’, ‘_y’), copy=True, indicator=False, validate=None)\n"
   ]
  },
  {
   "cell_type": "code",
   "execution_count": 13,
   "metadata": {},
   "outputs": [
    {
     "name": "stdout",
     "output_type": "stream",
     "text": [
      "学院老师 名字 性别   职称\n",
      "编号             \n",
      "1001  A  男  副教授\n",
      "1002  B  女   讲师\n",
      "1003  C  男   助教\n",
      "1004  D  男   教授\n",
      "1005  E  女   助教\n"
     ]
    }
   ],
   "source": [
    "df1=pd.DataFrame({'名字':list('ABCDE'),'性别':['男','女','男','男','女'],'职称':['副教授','讲师','助教','教授','助教']},index=range(1001,1006))\n",
    "df1.columns.name='学院老师'\n",
    "df1.index.name='编号'\n",
    "print(df1)"
   ]
  },
  {
   "cell_type": "code",
   "execution_count": 14,
   "metadata": {},
   "outputs": [
    {
     "name": "stdout",
     "output_type": "stream",
     "text": [
      "课程   名字   职称     课程\n",
      "编号                 \n",
      "1001  A  副教授    C++\n",
      "1002  B   讲师  计算机导论\n",
      "1004  D   教授     汇编\n",
      "1001  A  副教授   数据结构\n",
      "3001  X   讲师  马克思原理\n"
     ]
    }
   ],
   "source": [
    "df2=pd.DataFrame({'名字':list('ABDAX'),'课程':['C++','计算机导论','汇编','数据结构','马克思原理'],'职称':['副教授','讲师','教授','副教授','讲师']},index=[1001,1002,1004,1001,3001])\n",
    "df2.columns.name='课程'\n",
    "df2.index.name='编号'\n",
    "print(df2)"
   ]
  },
  {
   "cell_type": "code",
   "execution_count": 17,
   "metadata": {},
   "outputs": [
    {
     "data": {
      "text/html": [
       "<div>\n",
       "<style>\n",
       "    .dataframe thead tr:only-child th {\n",
       "        text-align: right;\n",
       "    }\n",
       "\n",
       "    .dataframe thead th {\n",
       "        text-align: left;\n",
       "    }\n",
       "\n",
       "    .dataframe tbody tr th {\n",
       "        vertical-align: top;\n",
       "    }\n",
       "</style>\n",
       "<table border=\"1\" class=\"dataframe\">\n",
       "  <thead>\n",
       "    <tr style=\"text-align: right;\">\n",
       "      <th></th>\n",
       "      <th>名字</th>\n",
       "      <th>性别</th>\n",
       "      <th>职称</th>\n",
       "      <th>课程</th>\n",
       "    </tr>\n",
       "  </thead>\n",
       "  <tbody>\n",
       "    <tr>\n",
       "      <th>0</th>\n",
       "      <td>A</td>\n",
       "      <td>男</td>\n",
       "      <td>副教授</td>\n",
       "      <td>C++</td>\n",
       "    </tr>\n",
       "    <tr>\n",
       "      <th>1</th>\n",
       "      <td>A</td>\n",
       "      <td>男</td>\n",
       "      <td>副教授</td>\n",
       "      <td>数据结构</td>\n",
       "    </tr>\n",
       "    <tr>\n",
       "      <th>2</th>\n",
       "      <td>B</td>\n",
       "      <td>女</td>\n",
       "      <td>讲师</td>\n",
       "      <td>计算机导论</td>\n",
       "    </tr>\n",
       "    <tr>\n",
       "      <th>3</th>\n",
       "      <td>C</td>\n",
       "      <td>男</td>\n",
       "      <td>助教</td>\n",
       "      <td>NaN</td>\n",
       "    </tr>\n",
       "    <tr>\n",
       "      <th>4</th>\n",
       "      <td>D</td>\n",
       "      <td>男</td>\n",
       "      <td>教授</td>\n",
       "      <td>汇编</td>\n",
       "    </tr>\n",
       "    <tr>\n",
       "      <th>5</th>\n",
       "      <td>E</td>\n",
       "      <td>女</td>\n",
       "      <td>助教</td>\n",
       "      <td>NaN</td>\n",
       "    </tr>\n",
       "  </tbody>\n",
       "</table>\n",
       "</div>"
      ],
      "text/plain": [
       "  名字 性别   职称     课程\n",
       "0  A  男  副教授    C++\n",
       "1  A  男  副教授   数据结构\n",
       "2  B  女   讲师  计算机导论\n",
       "3  C  男   助教    NaN\n",
       "4  D  男   教授     汇编\n",
       "5  E  女   助教    NaN"
      ]
     },
     "execution_count": 17,
     "metadata": {},
     "output_type": "execute_result"
    }
   ],
   "source": [
    "#默认连接方式\n",
    "pd.merge(df1,df2)\n",
    "\n",
    "#指定列名合并\n",
    "pd.merge(df1,df2,on='名字')\n",
    "\n",
    "\n",
    "pd.merge(df1,df2,how='left')"
   ]
  },
  {
   "cell_type": "markdown",
   "metadata": {},
   "source": [
    "Join合并\n",
    "===\n",
    "\n",
    "对象的实例方法-Join\n",
    "DataFrame对象有个df.join()方法也能进行pd.merge()的合并，它能更加方便地按照对象df的索引进行合并，且能同时合并多个DataFrame对象。它具有如下参数：\n",
    "\n",
    "df.join(other, on=None, how=’left’, lsuffix=”, rsuffix=”, sort=False)\n"
   ]
  },
  {
   "cell_type": "code",
   "execution_count": 20,
   "metadata": {},
   "outputs": [
    {
     "name": "stdout",
     "output_type": "stream",
     "text": [
      "   Green  Red\n",
      "a      5    1\n",
      "b      0    3\n",
      "d      3    5\n",
      "   Blue  Yellow\n",
      "c     1       6\n",
      "e     9       6\n",
      "   Green  Red  Blue  Yellow\n",
      "a      5    1   NaN     NaN\n",
      "b      0    3   NaN     NaN\n",
      "d      3    5   NaN     NaN\n",
      "   Green  Red  Blue  Yellow\n",
      "a    5.0  1.0   NaN     NaN\n",
      "b    0.0  3.0   NaN     NaN\n",
      "c    NaN  NaN   1.0     6.0\n",
      "d    3.0  5.0   NaN     NaN\n",
      "e    NaN  NaN   9.0     6.0\n"
     ]
    },
    {
     "data": {
      "text/html": [
       "<div>\n",
       "<style>\n",
       "    .dataframe thead tr:only-child th {\n",
       "        text-align: right;\n",
       "    }\n",
       "\n",
       "    .dataframe thead th {\n",
       "        text-align: left;\n",
       "    }\n",
       "\n",
       "    .dataframe tbody tr th {\n",
       "        vertical-align: top;\n",
       "    }\n",
       "</style>\n",
       "<table border=\"1\" class=\"dataframe\">\n",
       "  <thead>\n",
       "    <tr style=\"text-align: right;\">\n",
       "      <th></th>\n",
       "      <th>Green</th>\n",
       "      <th>Red</th>\n",
       "      <th>Blue</th>\n",
       "      <th>Yellow</th>\n",
       "      <th>Brown</th>\n",
       "      <th>White</th>\n",
       "    </tr>\n",
       "  </thead>\n",
       "  <tbody>\n",
       "    <tr>\n",
       "      <th>a</th>\n",
       "      <td>5</td>\n",
       "      <td>1</td>\n",
       "      <td>NaN</td>\n",
       "      <td>NaN</td>\n",
       "      <td>3.0</td>\n",
       "      <td>1.0</td>\n",
       "    </tr>\n",
       "    <tr>\n",
       "      <th>b</th>\n",
       "      <td>0</td>\n",
       "      <td>3</td>\n",
       "      <td>NaN</td>\n",
       "      <td>NaN</td>\n",
       "      <td>NaN</td>\n",
       "      <td>NaN</td>\n",
       "    </tr>\n",
       "    <tr>\n",
       "      <th>d</th>\n",
       "      <td>3</td>\n",
       "      <td>5</td>\n",
       "      <td>NaN</td>\n",
       "      <td>NaN</td>\n",
       "      <td>5.0</td>\n",
       "      <td>2.0</td>\n",
       "    </tr>\n",
       "  </tbody>\n",
       "</table>\n",
       "</div>"
      ],
      "text/plain": [
       "   Green  Red  Blue  Yellow  Brown  White\n",
       "a      5    1   NaN     NaN    3.0    1.0\n",
       "b      0    3   NaN     NaN    NaN    NaN\n",
       "d      3    5   NaN     NaN    5.0    2.0"
      ]
     },
     "execution_count": 20,
     "metadata": {},
     "output_type": "execute_result"
    }
   ],
   "source": [
    "df3=pd.DataFrame({'Red':[1,3,5],'Green':[5,0,3]},index=list('abd'))\n",
    "print(df3)\n",
    "df4=pd.DataFrame({'Blue':[1,9],'Yellow':[6,6]},index=list('ce'))\n",
    "print(df4)\n",
    "\n",
    "print(df3.join(df4)) # 简单合并（默认是left左连接）\n",
    "\n",
    "print(df3.join(df4,how='outer'))#和merge合并方式一样\n",
    "\n",
    "\n",
    "#合并多个DataFrame对象\n",
    "df5=pd.DataFrame({'Brown':[3,4,5],'White':[1,1,2]},index=list('aed'))\n",
    "df3.join([df4,df5])"
   ]
  },
  {
   "cell_type": "markdown",
   "metadata": {},
   "source": [
    "轴向连接-Concat\n",
    "=====\n",
    "在数据处理中，通常将原始数据分开几个部分进行处理而得到相似结构的Series或DataFrame对象，我们该如何进行纵向合并它们？这时我们可以选择用pd.concat()方式极易连接两个或两个以上的Series或DataFrame对象。如下是该函数的参数解读：\n",
    "\n",
    "pd.concat(objs, axis=0, join=’outer’, join_axes=None, ignore_index=False, keys=None, levels=None, names=None, verify_integrity=False, copy=True)\n"
   ]
  },
  {
   "cell_type": "code",
   "execution_count": 21,
   "metadata": {},
   "outputs": [
    {
     "name": "stdout",
     "output_type": "stream",
     "text": [
      "a    1\n",
      "b    2\n",
      "b    3\n",
      "d    4\n",
      "e    5\n",
      "dtype: int64\n",
      "     0    1\n",
      "a  1.0  NaN\n",
      "b  2.0  3.0\n",
      "d  NaN  4.0\n",
      "e  NaN  5.0\n"
     ]
    }
   ],
   "source": [
    "s1=pd.Series([1,2],index=list('ab'))\n",
    "s2=pd.Series([3,4,5],index=list('bde'))\n",
    "\n",
    "#Series对象的连接\n",
    "print(pd.concat([s1,s2]))\n",
    "\n",
    "#纵向连接\n",
    "print(pd.concat([s1,s2],axis=1))\n",
    "\n",
    "#用内连接求交集\n",
    "print(pd.concat([s1,s2],axis=1,join='inner'))"
   ]
  },
  {
   "cell_type": "code",
   "execution_count": 22,
   "metadata": {},
   "outputs": [
    {
     "name": "stdout",
     "output_type": "stream",
     "text": [
      "   Green  Red\n",
      "a      5    1\n",
      "b      0    3\n",
      "d      3    5\n",
      "   Blue  Yellow\n",
      "c     1       6\n",
      "e     9       6\n",
      "      A         B       \n",
      "  Green  Red Blue Yellow\n",
      "a   5.0  1.0  NaN    NaN\n",
      "b   0.0  3.0  NaN    NaN\n",
      "c   NaN  NaN  1.0    6.0\n",
      "d   3.0  5.0  NaN    NaN\n",
      "e   NaN  NaN  9.0    6.0\n"
     ]
    }
   ],
   "source": [
    "df3=pd.DataFrame({'Red':[1,3,5],'Green':[5,0,3]},index=list('abd'))\n",
    "print(df3)\n",
    "df4=pd.DataFrame({'Blue':[1,9],'Yellow':[6,6]},index=list('ce'))\n",
    "print(df4)\n",
    "\n",
    "#用字典的方式连接同样可以创建层次化列索引\n",
    "print(pd.concat({'A':df3,'B':df4},axis=1))"
   ]
  }
 ],
 "metadata": {
  "kernelspec": {
   "display_name": "Python 3",
   "language": "python",
   "name": "python3"
  },
  "language_info": {
   "codemirror_mode": {
    "name": "ipython",
    "version": 3
   },
   "file_extension": ".py",
   "mimetype": "text/x-python",
   "name": "python",
   "nbconvert_exporter": "python",
   "pygments_lexer": "ipython3",
   "version": "3.6.8"
  },
  "toc": {
   "base_numbering": 1,
   "nav_menu": {},
   "number_sections": true,
   "sideBar": true,
   "skip_h1_title": false,
   "title_cell": "Table of Contents",
   "title_sidebar": "Contents",
   "toc_cell": false,
   "toc_position": {},
   "toc_section_display": true,
   "toc_window_display": false
  }
 },
 "nbformat": 4,
 "nbformat_minor": 2
}
