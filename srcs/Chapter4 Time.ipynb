{
 "cells": [
  {
   "cell_type": "code",
   "execution_count": 2,
   "metadata": {},
   "outputs": [
    {
     "name": "stdout",
     "output_type": "stream",
     "text": [
      "0.20.3\n"
     ]
    }
   ],
   "source": [
    "import pandas as pd\n",
    "import numpy as np\n",
    "print(pd.__version__)\n"
   ]
  },
  {
   "cell_type": "markdown",
   "metadata": {},
   "source": [
    "时间点Timestamp\n",
    "=====\n",
    "\n",
    "* Timestamp是从Python标准库的datetime类继承过来的，表示时间轴上的一个时刻。它提供了方便的时区转换功能。\n",
    "* 调用Timestamp.now()获取当前时间，但注意的是，它是不包含时区信息的本地时间。"
   ]
  },
  {
   "cell_type": "code",
   "execution_count": 5,
   "metadata": {},
   "outputs": [
    {
     "name": "stdout",
     "output_type": "stream",
     "text": [
      "2019-10-08 23:25:39.709295\n",
      "2019-10-08 23:25:39.709295+08:00\n",
      "2018-03-16 21:01:34\n"
     ]
    }
   ],
   "source": [
    "now=pd.Timestamp.now()\n",
    "print(now)\n",
    "\n",
    "#调用.tz_localize()转换为指定时区的当前时间\n",
    "now_shanghai=now.tz_localize(\"Asia/Shanghai\")\n",
    "print(now_shanghai)\n",
    "\n",
    "#调用Timestamp()创建任意时间点：\n",
    "print(pd.Timestamp('2018-03-16 21:01:34'))"
   ]
  },
  {
   "cell_type": "markdown",
   "metadata": {},
   "source": [
    "时间段Period\n",
    "=====\n",
    "* Period表示一个标准的时间段。例如某年、某月、某日、某小时等。时间的长短由freq决定。"
   ]
  },
  {
   "cell_type": "code",
   "execution_count": 6,
   "metadata": {},
   "outputs": [
    {
     "data": {
      "text/plain": [
       "Period('2019-10-08', 'D')"
      ]
     },
     "execution_count": 6,
     "metadata": {},
     "output_type": "execute_result"
    }
   ],
   "source": [
    "now_day=pd.Period.now(freq=\"D\")\n",
    "print(now_day)\n",
    "now_hour=pd.Period.now(freq=\"H\")\n",
    "print(now_hour)"
   ]
  },
  {
   "cell_type": "markdown",
   "metadata": {},
   "source": [
    "时间间隔Timedetla\n",
    "=====\n",
    "\n",
    "* 通过调用pd.Timedelta()之间创建时间间隔Timedelta对象：\n",
    "* Timedelta对象有属性：weeks、days、seconds、milliseconds、microseconds和nanoseconds等：\n"
   ]
  },
  {
   "cell_type": "code",
   "execution_count": 7,
   "metadata": {},
   "outputs": [
    {
     "data": {
      "text/plain": [
       "Timedelta('24 days 12:02:34.300000')"
      ]
     },
     "execution_count": 7,
     "metadata": {},
     "output_type": "execute_result"
    }
   ],
   "source": [
    "td=pd.Timedelta(weeks=2,days=10,hours=12,minutes=2.4,seconds=10.3)\n",
    "td"
   ]
  },
  {
   "cell_type": "markdown",
   "metadata": {},
   "source": [
    "三者之间的转换\n",
    "=====\n",
    "调用Timestamp对象的to_period()方法将时间点转换为包含该时间点的时间段："
   ]
  },
  {
   "cell_type": "code",
   "execution_count": 10,
   "metadata": {},
   "outputs": [
    {
     "name": "stdout",
     "output_type": "stream",
     "text": [
      "2019-10-08 23:25:39.709295\n",
      "-373 days +00:31:25.050494\n"
     ]
    },
    {
     "data": {
      "text/plain": [
       "Timestamp('2018-10-21 10:20:30')"
      ]
     },
     "execution_count": 10,
     "metadata": {},
     "output_type": "execute_result"
    }
   ],
   "source": [
    "now.to_period(\"H\")\n",
    "print(now)\n",
    "nation_day=pd.Timestamp(\"2018-10-1\")\n",
    "td1=nation_day-pd.Timestamp.now()\n",
    "print(td1)\n",
    "\n",
    "#时间点和时间间隔之间可以进行加减运算\n",
    "nation_day+pd.Timedelta(\"20 days 10:20:30\")"
   ]
  },
  {
   "cell_type": "markdown",
   "metadata": {},
   "source": [
    "时间序列\n",
    "====\n",
    "作为索引的时间序列有：DatetimeIndex、PeriodIndex和TimedeltaIndex，它们都可以作为Series和DataFrame的索引。"
   ]
  },
  {
   "cell_type": "code",
   "execution_count": 13,
   "metadata": {},
   "outputs": [
    {
     "name": "stdout",
     "output_type": "stream",
     "text": [
      "DatetimeIndex(['2018-03-17 10:00:00', '2018-03-19 04:00:00',\n",
      "               '2018-03-21 12:00:00', '2018-03-28 22:00:00'],\n",
      "              dtype='datetime64[ns]', freq=None)\n",
      "PeriodIndex(['2018-03-17', '2018-03-19', '2018-03-21', '2018-03-28'], dtype='period[D]', freq='D')\n",
      "TimedeltaIndex(['1 days 18:00:00', '2 days 08:00:00', '7 days 10:00:00'], dtype='timedelta64[ns]', freq=None)\n"
     ]
    }
   ],
   "source": [
    "index=pd.date_range(\"2018-03-17\",\"2018-03-30\",freq=\"2H\")\n",
    "loc=np.random.choice(np.arange(len(index)),size=4,replace=False)#随机选取4个互不相同的数\n",
    "loc.sort()\n",
    "ts_index=index[loc]\n",
    "print(ts_index)\n",
    "\n",
    "#通过.to_period()将DatetimeIndex序列转换为PeriodIndex序列\n",
    "pd_index=ts_index.to_period(\"D\")\n",
    "print(pd_index)\n",
    "\n",
    "#将DetetimeIndex序列转换为TimedeltaIndex序列：\n",
    "longseconds=np.diff(ts_index)\n",
    "td_index=pd.TimedeltaIndex(longseconds)\n",
    "print(td_index)"
   ]
  },
  {
   "cell_type": "markdown",
   "metadata": {},
   "source": [
    "将时间序列作为索引\n",
    "=======\n",
    "TimestampIndex,PeriodIndex和TimedeltaIndex都可以作为Series、Dataframe对象的索引和列，在此只介绍一种"
   ]
  },
  {
   "cell_type": "code",
   "execution_count": 14,
   "metadata": {},
   "outputs": [
    {
     "data": {
      "text/plain": [
       "2018-03-17 10:00:00    0\n",
       "2018-03-19 04:00:00    1\n",
       "2018-03-21 12:00:00    2\n",
       "2018-03-28 22:00:00    3\n",
       "dtype: int64"
      ]
     },
     "execution_count": 14,
     "metadata": {},
     "output_type": "execute_result"
    }
   ],
   "source": [
    "ts_series=pd.Series(range(4),index=ts_index)\n",
    "ts_series"
   ]
  }
 ],
 "metadata": {
  "kernelspec": {
   "display_name": "Python 3",
   "language": "python",
   "name": "python3"
  },
  "language_info": {
   "codemirror_mode": {
    "name": "ipython",
    "version": 3
   },
   "file_extension": ".py",
   "mimetype": "text/x-python",
   "name": "python",
   "nbconvert_exporter": "python",
   "pygments_lexer": "ipython3",
   "version": "3.6.8"
  },
  "toc": {
   "base_numbering": 1,
   "nav_menu": {},
   "number_sections": true,
   "sideBar": true,
   "skip_h1_title": false,
   "title_cell": "Table of Contents",
   "title_sidebar": "Contents",
   "toc_cell": false,
   "toc_position": {},
   "toc_section_display": true,
   "toc_window_display": false
  }
 },
 "nbformat": 4,
 "nbformat_minor": 2
}
