{
 "cells": [
  {
   "cell_type": "code",
   "execution_count": 1,
   "metadata": {},
   "outputs": [
    {
     "name": "stdout",
     "output_type": "stream",
     "text": [
      "0.20.3\n"
     ]
    }
   ],
   "source": [
    "import pandas as pd\n",
    "import numpy as np\n",
    "print(pd.__version__)"
   ]
  },
  {
   "cell_type": "markdown",
   "metadata": {},
   "source": [
    "多级索引\n",
    "====\n",
    "多级索引（也称层次化索引）是pandas的重要功能，可以在Series、DataFrame对象上拥有2个以及2个以上的索引。 \n",
    "实质上，单级索引对应Index对象,多级索引对应MultiIndex对象。\n",
    "## Series对象的多级索引\n",
    "* 多级索引Series对象的创建"
   ]
  },
  {
   "cell_type": "code",
   "execution_count": 5,
   "metadata": {},
   "outputs": [
    {
     "name": "stdout",
     "output_type": "stream",
     "text": [
      "a  1    0.553272\n",
      "   2   -0.916616\n",
      "b  1   -0.737528\n",
      "   2    0.317848\n",
      "dtype: float64\n",
      "1    0.553272\n",
      "2   -0.916616\n",
      "dtype: float64\n",
      "a  1    0.553272\n",
      "   2   -0.916616\n",
      "b  1   -0.737528\n",
      "   2    0.317848\n",
      "dtype: float64\n"
     ]
    }
   ],
   "source": [
    "se1=pd.Series(np.random.randn(4),index=[list(\"aabb\"),[1,2,1,2]])\n",
    "print(se1)\n",
    "\n",
    "#子集的选取\n",
    "print(se1['a'])\n",
    "\n",
    "print(se1['a':'b'])"
   ]
  },
  {
   "cell_type": "markdown",
   "metadata": {},
   "source": [
    "## DataFrame对象的多级索引"
   ]
  },
  {
   "cell_type": "code",
   "execution_count": 8,
   "metadata": {},
   "outputs": [
    {
     "name": "stdout",
     "output_type": "stream",
     "text": [
      "     X       Y\n",
      "    10  11  10\n",
      "A 1  0   1   2\n",
      "  2  3   4   5\n",
      "B 1  6   7   8\n",
      "  2  9  10  11\n",
      "XY      X       Y\n",
      "sum    10  11  10\n",
      "AB num           \n",
      "A  1    0   1   2\n",
      "   2    3   4   5\n",
      "B  1    6   7   8\n",
      "   2    9  10  11\n"
     ]
    },
    {
     "data": {
      "text/html": [
       "<div>\n",
       "<style>\n",
       "    .dataframe thead tr:only-child th {\n",
       "        text-align: right;\n",
       "    }\n",
       "\n",
       "    .dataframe thead th {\n",
       "        text-align: left;\n",
       "    }\n",
       "\n",
       "    .dataframe tbody tr th {\n",
       "        vertical-align: top;\n",
       "    }\n",
       "</style>\n",
       "<table border=\"1\" class=\"dataframe\">\n",
       "  <thead>\n",
       "    <tr>\n",
       "      <th></th>\n",
       "      <th>XY</th>\n",
       "      <th colspan=\"2\" halign=\"left\">X</th>\n",
       "      <th>Y</th>\n",
       "    </tr>\n",
       "    <tr>\n",
       "      <th></th>\n",
       "      <th>sum</th>\n",
       "      <th>10</th>\n",
       "      <th>11</th>\n",
       "      <th>10</th>\n",
       "    </tr>\n",
       "    <tr>\n",
       "      <th>AB</th>\n",
       "      <th>num</th>\n",
       "      <th></th>\n",
       "      <th></th>\n",
       "      <th></th>\n",
       "    </tr>\n",
       "  </thead>\n",
       "  <tbody>\n",
       "    <tr>\n",
       "      <th rowspan=\"2\" valign=\"top\">A</th>\n",
       "      <th>3</th>\n",
       "      <td>0</td>\n",
       "      <td>1</td>\n",
       "      <td>2</td>\n",
       "    </tr>\n",
       "    <tr>\n",
       "      <th>4</th>\n",
       "      <td>3</td>\n",
       "      <td>4</td>\n",
       "      <td>5</td>\n",
       "    </tr>\n",
       "    <tr>\n",
       "      <th rowspan=\"2\" valign=\"top\">B</th>\n",
       "      <th>3</th>\n",
       "      <td>6</td>\n",
       "      <td>7</td>\n",
       "      <td>8</td>\n",
       "    </tr>\n",
       "    <tr>\n",
       "      <th>4</th>\n",
       "      <td>9</td>\n",
       "      <td>10</td>\n",
       "      <td>11</td>\n",
       "    </tr>\n",
       "  </tbody>\n",
       "</table>\n",
       "</div>"
      ],
      "text/plain": [
       "XY      X       Y\n",
       "sum    10  11  10\n",
       "AB num           \n",
       "A  3    0   1   2\n",
       "   4    3   4   5\n",
       "B  3    6   7   8\n",
       "   4    9  10  11"
      ]
     },
     "execution_count": 8,
     "metadata": {},
     "output_type": "execute_result"
    }
   ],
   "source": [
    "df1=pd.DataFrame(np.arange(12).reshape(4,3),index=[list(\"AABB\"),[1,2,1,2]],columns=[list(\"XXY\"),[10,11,10]])\n",
    "print(df1)\n",
    "\n",
    "df1.columns.names=['XY','sum']\n",
    "df1.index.names=['AB','num']\n",
    "print(df1)\n",
    "\n",
    "\n",
    "#可以创建MultiIndex对象再作为索引\n",
    "df1.index=pd.MultiIndex.from_arrays([list(\"AABB\"),[3,4,3,4]],names=[\"AB\",\"num\"])\n",
    "df1"
   ]
  },
  {
   "cell_type": "markdown",
   "metadata": {},
   "source": [
    "DataFrame对象的列和索引之间的转化\n",
    "=======\n",
    "我们常常需要将DataFrame对象中的某列或某几列作为索引，或者将索引转化为对象的列。pandas提供了set_index()/reset_index() 来供我们使用。"
   ]
  },
  {
   "cell_type": "code",
   "execution_count": 11,
   "metadata": {},
   "outputs": [
    {
     "name": "stdout",
     "output_type": "stream",
     "text": [
      "   S  X  Y  Z\n",
      "0  a  0  0  1\n",
      "1  a  1  1  1\n",
      "2  a  2  2  2\n",
      "3  b  3  3  2\n",
      "4  b  4  4  2\n",
      "   X  Y  Z\n",
      "S         \n",
      "a  0  0  1\n",
      "a  1  1  1\n",
      "a  2  2  2\n",
      "b  3  3  2\n",
      "b  4  4  2\n"
     ]
    },
    {
     "data": {
      "text/html": [
       "<div>\n",
       "<style>\n",
       "    .dataframe thead tr:only-child th {\n",
       "        text-align: right;\n",
       "    }\n",
       "\n",
       "    .dataframe thead th {\n",
       "        text-align: left;\n",
       "    }\n",
       "\n",
       "    .dataframe tbody tr th {\n",
       "        vertical-align: top;\n",
       "    }\n",
       "</style>\n",
       "<table border=\"1\" class=\"dataframe\">\n",
       "  <thead>\n",
       "    <tr style=\"text-align: right;\">\n",
       "      <th></th>\n",
       "      <th></th>\n",
       "      <th>X</th>\n",
       "      <th>Y</th>\n",
       "    </tr>\n",
       "    <tr>\n",
       "      <th>S</th>\n",
       "      <th>Z</th>\n",
       "      <th></th>\n",
       "      <th></th>\n",
       "    </tr>\n",
       "  </thead>\n",
       "  <tbody>\n",
       "    <tr>\n",
       "      <th rowspan=\"3\" valign=\"top\">a</th>\n",
       "      <th>1</th>\n",
       "      <td>0</td>\n",
       "      <td>0</td>\n",
       "    </tr>\n",
       "    <tr>\n",
       "      <th>1</th>\n",
       "      <td>1</td>\n",
       "      <td>1</td>\n",
       "    </tr>\n",
       "    <tr>\n",
       "      <th>2</th>\n",
       "      <td>2</td>\n",
       "      <td>2</td>\n",
       "    </tr>\n",
       "    <tr>\n",
       "      <th rowspan=\"2\" valign=\"top\">b</th>\n",
       "      <th>2</th>\n",
       "      <td>3</td>\n",
       "      <td>3</td>\n",
       "    </tr>\n",
       "    <tr>\n",
       "      <th>2</th>\n",
       "      <td>4</td>\n",
       "      <td>4</td>\n",
       "    </tr>\n",
       "  </tbody>\n",
       "</table>\n",
       "</div>"
      ],
      "text/plain": [
       "     X  Y\n",
       "S Z      \n",
       "a 1  0  0\n",
       "  1  1  1\n",
       "  2  2  2\n",
       "b 2  3  3\n",
       "  2  4  4"
      ]
     },
     "execution_count": 11,
     "metadata": {},
     "output_type": "execute_result"
    }
   ],
   "source": [
    "##列转化为索引\n",
    "df1=pd.DataFrame({'X':range(5),'Y':range(5),'S':list(\"aaabb\"),'Z':[1,1,2,2,2]})\n",
    "print(df1)\n",
    "print(df1.set_index('S'))\n",
    "\n",
    "df1.set_index(['S','Z'])"
   ]
  },
  {
   "cell_type": "code",
   "execution_count": null,
   "metadata": {},
   "outputs": [],
   "source": []
  },
  {
   "cell_type": "code",
   "execution_count": null,
   "metadata": {},
   "outputs": [],
   "source": []
  }
 ],
 "metadata": {
  "kernelspec": {
   "display_name": "Python 3",
   "language": "python",
   "name": "python3"
  },
  "language_info": {
   "codemirror_mode": {
    "name": "ipython",
    "version": 3
   },
   "file_extension": ".py",
   "mimetype": "text/x-python",
   "name": "python",
   "nbconvert_exporter": "python",
   "pygments_lexer": "ipython3",
   "version": "3.6.8"
  },
  "toc": {
   "base_numbering": 1,
   "nav_menu": {},
   "number_sections": true,
   "sideBar": true,
   "skip_h1_title": false,
   "title_cell": "Table of Contents",
   "title_sidebar": "Contents",
   "toc_cell": false,
   "toc_position": {},
   "toc_section_display": true,
   "toc_window_display": false
  }
 },
 "nbformat": 4,
 "nbformat_minor": 2
}
